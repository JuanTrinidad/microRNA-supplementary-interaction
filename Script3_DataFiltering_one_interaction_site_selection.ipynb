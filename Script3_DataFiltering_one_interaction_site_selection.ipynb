{
 "cells": [
  {
   "cell_type": "code",
   "execution_count": 1,
   "metadata": {},
   "outputs": [],
   "source": [
    "import pandas as pd\n",
    "import seaborn as sns\n",
    "import matplotlib.pyplot as plt\n",
    "from scipy import stats\n",
    "%matplotlib inline\n",
    "import numpy as np\n",
    "from matplotlib.collections import PathCollection\n",
    "from matplotlib import rcParams\n",
    "rcParams.update({'figure.autolayout': True})\n",
    "\n",
    "import statsmodels.stats.multicomp as mc"
   ]
  },
  {
   "cell_type": "code",
   "execution_count": 2,
   "metadata": {},
   "outputs": [],
   "source": [
    "# Estadistica\n",
    "def estadistica_dataFrame(dataframe, columnaValores, columnaCategorical):\n",
    "    \n",
    "    import statsmodels.stats.multicomp as mc\n",
    "    from scipy import stats\n",
    "    \n",
    "    comp1 = mc.MultiComparison(dataframe[columnaValores], dataframe[columnaCategorical])\n",
    "    tbl, a1, a2 = comp1.allpairtest(stats.ttest_ind, method= \"bonf\")\n",
    "\n",
    "    comp1_pvalores = pd.DataFrame(a2)\n",
    "    a10 = pd.DataFrame(a1[0],columns=['stats','p_value'])\n",
    "    a12 = pd.DataFrame(a1[2], columns=['pvalue_corr'])\n",
    "\n",
    "    comp1_pvalores = pd.concat([comp1_pvalores,a10,a12], axis=1)\n",
    "\n",
    "    comp1_pvalores['pval_corr_log10'] = comp1_pvalores['pvalue_corr'].apply(np.log10)\n",
    "    comp1_pvalores['pval_corr_log10'] = comp1_pvalores['pval_corr_log10'].abs()\n",
    "    \n",
    "    return comp1_pvalores"
   ]
  },
  {
   "cell_type": "code",
   "execution_count": 3,
   "metadata": {},
   "outputs": [
    {
     "name": "stderr",
     "output_type": "stream",
     "text": [
      "/home/juan/anaconda3/lib/python3.8/site-packages/numpy/lib/arraysetops.py:583: FutureWarning: elementwise comparison failed; returning scalar instead, but in the future will perform elementwise comparison\n",
      "  mask |= (ar1 == a)\n"
     ]
    }
   ],
   "source": [
    "r = pd.read_csv('motivos_TARGETSCAN_conservEVOL_sinsequencia_3UTR_correlaciones_filtrado80porciento.csv', sep='\\t',\\\n",
    "                index_col=0)\n",
    "joinned = pd.DataFrame(r)"
   ]
  },
  {
   "cell_type": "code",
   "execution_count": 4,
   "metadata": {
    "collapsed": true,
    "jupyter": {
     "outputs_hidden": true
    },
    "tags": []
   },
   "outputs": [
    {
     "name": "stdout",
     "output_type": "stream",
     "text": [
      "----------------------------------------------\n",
      "hsa-let-7a-5p \n",
      " (6507, 11)\n",
      "hsa-let-7a-5p \n",
      " (5382, 11)\n",
      "Df de los df_s6m4_LaVenganza \n",
      " (286, 11)\n",
      "Df de los df_s6m4_LaVenganza \n",
      " (280, 11)\n",
      "Df de los mers \n",
      " (5096, 11)\n",
      "864\n",
      "Df de los mers \n",
      " (5096, 11)\n",
      "DataFrameConcatenado\n",
      " (5376, 11)\n",
      "DataFrameConcatenado sin dupl\n",
      " (3253, 11)\n"
     ]
    },
    {
     "name": "stderr",
     "output_type": "stream",
     "text": [
      "<ipython-input-4-31de93231e4c>:43: SettingWithCopyWarning: \n",
      "A value is trying to be set on a copy of a slice from a DataFrame\n",
      "\n",
      "See the caveats in the documentation: https://pandas.pydata.org/pandas-docs/stable/user_guide/indexing.html#returning-a-view-versus-a-copy\n",
      "  df_s6m4_LaVenganza.drop_duplicates(['gen_name'], inplace=True, keep=False)\n"
     ]
    },
    {
     "name": "stdout",
     "output_type": "stream",
     "text": [
      "----------------------------------------------\n",
      "hsa-let-7b-5p \n",
      " (6507, 11)\n",
      "hsa-let-7b-5p \n",
      " (5382, 11)\n",
      "Df de los df_s6m4_LaVenganza \n",
      " (286, 11)\n",
      "Df de los df_s6m4_LaVenganza \n",
      " (280, 11)\n",
      "Df de los mers \n",
      " (5096, 11)\n",
      "864\n",
      "Df de los mers \n",
      " (5096, 11)\n",
      "DataFrameConcatenado\n",
      " (5376, 11)\n",
      "DataFrameConcatenado sin dupl\n",
      " (3253, 11)\n"
     ]
    },
    {
     "name": "stderr",
     "output_type": "stream",
     "text": [
      "<ipython-input-4-31de93231e4c>:43: SettingWithCopyWarning: \n",
      "A value is trying to be set on a copy of a slice from a DataFrame\n",
      "\n",
      "See the caveats in the documentation: https://pandas.pydata.org/pandas-docs/stable/user_guide/indexing.html#returning-a-view-versus-a-copy\n",
      "  df_s6m4_LaVenganza.drop_duplicates(['gen_name'], inplace=True, keep=False)\n"
     ]
    },
    {
     "name": "stdout",
     "output_type": "stream",
     "text": [
      "----------------------------------------------\n",
      "hsa-let-7c-5p \n",
      " (6507, 11)\n",
      "hsa-let-7c-5p \n",
      " (5382, 11)\n",
      "Df de los df_s6m4_LaVenganza \n",
      " (286, 11)\n",
      "Df de los df_s6m4_LaVenganza \n",
      " (280, 11)\n",
      "Df de los mers \n",
      " (5096, 11)\n",
      "864\n",
      "Df de los mers \n",
      " (5096, 11)\n",
      "DataFrameConcatenado\n",
      " (5376, 11)\n",
      "DataFrameConcatenado sin dupl\n",
      " (3253, 11)\n"
     ]
    },
    {
     "name": "stderr",
     "output_type": "stream",
     "text": [
      "<ipython-input-4-31de93231e4c>:43: SettingWithCopyWarning: \n",
      "A value is trying to be set on a copy of a slice from a DataFrame\n",
      "\n",
      "See the caveats in the documentation: https://pandas.pydata.org/pandas-docs/stable/user_guide/indexing.html#returning-a-view-versus-a-copy\n",
      "  df_s6m4_LaVenganza.drop_duplicates(['gen_name'], inplace=True, keep=False)\n"
     ]
    },
    {
     "name": "stdout",
     "output_type": "stream",
     "text": [
      "----------------------------------------------\n",
      "hsa-let-7d-5p \n",
      " (6489, 11)\n",
      "hsa-let-7d-5p \n",
      " (5394, 11)\n",
      "Df de los df_s6m4_LaVenganza \n",
      " (298, 11)\n",
      "Df de los df_s6m4_LaVenganza \n",
      " (286, 11)\n",
      "Df de los mers \n",
      " (5096, 11)\n",
      "864\n",
      "Df de los mers \n",
      " (5096, 11)\n",
      "DataFrameConcatenado\n",
      " (5382, 11)\n",
      "DataFrameConcatenado sin dupl\n",
      " (3253, 11)\n"
     ]
    },
    {
     "name": "stderr",
     "output_type": "stream",
     "text": [
      "<ipython-input-4-31de93231e4c>:43: SettingWithCopyWarning: \n",
      "A value is trying to be set on a copy of a slice from a DataFrame\n",
      "\n",
      "See the caveats in the documentation: https://pandas.pydata.org/pandas-docs/stable/user_guide/indexing.html#returning-a-view-versus-a-copy\n",
      "  df_s6m4_LaVenganza.drop_duplicates(['gen_name'], inplace=True, keep=False)\n"
     ]
    },
    {
     "name": "stdout",
     "output_type": "stream",
     "text": [
      "----------------------------------------------\n",
      "hsa-let-7e-5p \n",
      " (6115, 11)\n",
      "hsa-let-7e-5p \n",
      " (5060, 11)\n",
      "Df de los df_s6m4_LaVenganza \n",
      " (278, 11)\n",
      "Df de los df_s6m4_LaVenganza \n",
      " (270, 11)\n",
      "Df de los mers \n",
      " (4782, 11)\n",
      "754\n",
      "Df de los mers \n",
      " (4782, 11)\n",
      "DataFrameConcatenado\n",
      " (5052, 11)\n",
      "DataFrameConcatenado sin dupl\n",
      " (3174, 11)\n"
     ]
    },
    {
     "name": "stderr",
     "output_type": "stream",
     "text": [
      "<ipython-input-4-31de93231e4c>:43: SettingWithCopyWarning: \n",
      "A value is trying to be set on a copy of a slice from a DataFrame\n",
      "\n",
      "See the caveats in the documentation: https://pandas.pydata.org/pandas-docs/stable/user_guide/indexing.html#returning-a-view-versus-a-copy\n",
      "  df_s6m4_LaVenganza.drop_duplicates(['gen_name'], inplace=True, keep=False)\n"
     ]
    },
    {
     "name": "stdout",
     "output_type": "stream",
     "text": [
      "----------------------------------------------\n",
      "hsa-let-7f-5p \n",
      " (6507, 11)\n",
      "hsa-let-7f-5p \n",
      " (5382, 11)\n",
      "Df de los df_s6m4_LaVenganza \n",
      " (286, 11)\n",
      "Df de los df_s6m4_LaVenganza \n",
      " (280, 11)\n",
      "Df de los mers \n",
      " (5096, 11)\n",
      "864\n",
      "Df de los mers \n",
      " (5096, 11)\n",
      "DataFrameConcatenado\n",
      " (5376, 11)\n",
      "DataFrameConcatenado sin dupl\n",
      " (3253, 11)\n"
     ]
    },
    {
     "name": "stderr",
     "output_type": "stream",
     "text": [
      "<ipython-input-4-31de93231e4c>:43: SettingWithCopyWarning: \n",
      "A value is trying to be set on a copy of a slice from a DataFrame\n",
      "\n",
      "See the caveats in the documentation: https://pandas.pydata.org/pandas-docs/stable/user_guide/indexing.html#returning-a-view-versus-a-copy\n",
      "  df_s6m4_LaVenganza.drop_duplicates(['gen_name'], inplace=True, keep=False)\n"
     ]
    },
    {
     "name": "stdout",
     "output_type": "stream",
     "text": [
      "----------------------------------------------\n",
      "hsa-let-7g-5p \n",
      " (6507, 11)\n",
      "hsa-let-7g-5p \n",
      " (5382, 11)\n",
      "Df de los df_s6m4_LaVenganza \n",
      " (286, 11)\n",
      "Df de los df_s6m4_LaVenganza \n",
      " (280, 11)\n",
      "Df de los mers \n",
      " (5096, 11)\n",
      "864\n",
      "Df de los mers \n",
      " (5096, 11)\n",
      "DataFrameConcatenado\n",
      " (5376, 11)\n",
      "DataFrameConcatenado sin dupl\n",
      " (3253, 11)\n"
     ]
    },
    {
     "name": "stderr",
     "output_type": "stream",
     "text": [
      "<ipython-input-4-31de93231e4c>:43: SettingWithCopyWarning: \n",
      "A value is trying to be set on a copy of a slice from a DataFrame\n",
      "\n",
      "See the caveats in the documentation: https://pandas.pydata.org/pandas-docs/stable/user_guide/indexing.html#returning-a-view-versus-a-copy\n",
      "  df_s6m4_LaVenganza.drop_duplicates(['gen_name'], inplace=True, keep=False)\n"
     ]
    },
    {
     "name": "stdout",
     "output_type": "stream",
     "text": [
      "----------------------------------------------\n",
      "hsa-let-7i-5p \n",
      " (6507, 11)\n",
      "hsa-let-7i-5p \n",
      " (5382, 11)\n",
      "Df de los df_s6m4_LaVenganza \n",
      " (286, 11)\n",
      "Df de los df_s6m4_LaVenganza \n",
      " (280, 11)\n",
      "Df de los mers \n",
      " (5096, 11)\n",
      "864\n",
      "Df de los mers \n",
      " (5096, 11)\n",
      "DataFrameConcatenado\n",
      " (5376, 11)\n",
      "DataFrameConcatenado sin dupl\n",
      " (3253, 11)\n"
     ]
    },
    {
     "name": "stderr",
     "output_type": "stream",
     "text": [
      "<ipython-input-4-31de93231e4c>:43: SettingWithCopyWarning: \n",
      "A value is trying to be set on a copy of a slice from a DataFrame\n",
      "\n",
      "See the caveats in the documentation: https://pandas.pydata.org/pandas-docs/stable/user_guide/indexing.html#returning-a-view-versus-a-copy\n",
      "  df_s6m4_LaVenganza.drop_duplicates(['gen_name'], inplace=True, keep=False)\n"
     ]
    },
    {
     "name": "stdout",
     "output_type": "stream",
     "text": [
      "----------------------------------------------\n",
      "hsa-miR-1-3p \n",
      " (8974, 11)\n",
      "hsa-miR-1-3p \n",
      " (6557, 11)\n",
      "Df de los df_s6m4_LaVenganza \n",
      " (446, 11)\n",
      "Df de los df_s6m4_LaVenganza \n",
      " (438, 11)\n",
      "Df de los mers \n",
      " (6111, 11)\n",
      "1127\n",
      "Df de los mers \n",
      " (6111, 11)\n",
      "DataFrameConcatenado\n",
      " (6549, 11)\n",
      "DataFrameConcatenado sin dupl\n",
      " (3673, 11)\n"
     ]
    },
    {
     "name": "stderr",
     "output_type": "stream",
     "text": [
      "<ipython-input-4-31de93231e4c>:43: SettingWithCopyWarning: \n",
      "A value is trying to be set on a copy of a slice from a DataFrame\n",
      "\n",
      "See the caveats in the documentation: https://pandas.pydata.org/pandas-docs/stable/user_guide/indexing.html#returning-a-view-versus-a-copy\n",
      "  df_s6m4_LaVenganza.drop_duplicates(['gen_name'], inplace=True, keep=False)\n"
     ]
    },
    {
     "name": "stdout",
     "output_type": "stream",
     "text": [
      "----------------------------------------------\n",
      "hsa-miR-103a-3p \n",
      " (12980, 11)\n",
      "hsa-miR-103a-3p \n",
      " (7738, 11)\n",
      "Df de los df_s6m4_LaVenganza \n",
      " (788, 11)\n",
      "Df de los df_s6m4_LaVenganza \n",
      " (707, 11)\n",
      "Df de los mers \n",
      " (6950, 11)\n",
      "1449\n",
      "Df de los mers \n",
      " (6950, 11)\n",
      "DataFrameConcatenado\n",
      " (7657, 11)\n",
      "DataFrameConcatenado sin dupl\n",
      " (3841, 11)\n"
     ]
    },
    {
     "name": "stderr",
     "output_type": "stream",
     "text": [
      "<ipython-input-4-31de93231e4c>:43: SettingWithCopyWarning: \n",
      "A value is trying to be set on a copy of a slice from a DataFrame\n",
      "\n",
      "See the caveats in the documentation: https://pandas.pydata.org/pandas-docs/stable/user_guide/indexing.html#returning-a-view-versus-a-copy\n",
      "  df_s6m4_LaVenganza.drop_duplicates(['gen_name'], inplace=True, keep=False)\n"
     ]
    },
    {
     "name": "stdout",
     "output_type": "stream",
     "text": [
      "----------------------------------------------\n",
      "hsa-miR-106a-5p \n",
      " (10656, 11)\n",
      "hsa-miR-106a-5p \n",
      " (6372, 11)\n",
      "Df de los df_s6m4_LaVenganza \n",
      " (414, 11)\n",
      "Df de los df_s6m4_LaVenganza \n",
      " (402, 11)\n",
      "Df de los mers \n",
      " (5958, 11)\n",
      "1082\n",
      "Df de los mers \n",
      " (5958, 11)\n",
      "DataFrameConcatenado\n",
      " (6360, 11)\n",
      "DataFrameConcatenado sin dupl\n",
      " (3656, 11)\n"
     ]
    },
    {
     "name": "stderr",
     "output_type": "stream",
     "text": [
      "<ipython-input-4-31de93231e4c>:43: SettingWithCopyWarning: \n",
      "A value is trying to be set on a copy of a slice from a DataFrame\n",
      "\n",
      "See the caveats in the documentation: https://pandas.pydata.org/pandas-docs/stable/user_guide/indexing.html#returning-a-view-versus-a-copy\n",
      "  df_s6m4_LaVenganza.drop_duplicates(['gen_name'], inplace=True, keep=False)\n"
     ]
    },
    {
     "name": "stdout",
     "output_type": "stream",
     "text": [
      "----------------------------------------------\n",
      "hsa-miR-106b-5p \n",
      " (10656, 11)\n",
      "hsa-miR-106b-5p \n",
      " (6372, 11)\n",
      "Df de los df_s6m4_LaVenganza \n",
      " (414, 11)\n",
      "Df de los df_s6m4_LaVenganza \n",
      " (402, 11)\n",
      "Df de los mers \n",
      " (5958, 11)\n",
      "1082\n",
      "Df de los mers \n",
      " (5958, 11)\n",
      "DataFrameConcatenado\n",
      " (6360, 11)\n",
      "DataFrameConcatenado sin dupl\n",
      " (3656, 11)\n"
     ]
    },
    {
     "name": "stderr",
     "output_type": "stream",
     "text": [
      "<ipython-input-4-31de93231e4c>:43: SettingWithCopyWarning: \n",
      "A value is trying to be set on a copy of a slice from a DataFrame\n",
      "\n",
      "See the caveats in the documentation: https://pandas.pydata.org/pandas-docs/stable/user_guide/indexing.html#returning-a-view-versus-a-copy\n",
      "  df_s6m4_LaVenganza.drop_duplicates(['gen_name'], inplace=True, keep=False)\n"
     ]
    },
    {
     "name": "stdout",
     "output_type": "stream",
     "text": [
      "----------------------------------------------\n",
      "hsa-miR-107 \n",
      " (12980, 11)\n",
      "hsa-miR-107 \n",
      " (7738, 11)\n",
      "Df de los df_s6m4_LaVenganza \n",
      " (788, 11)\n",
      "Df de los df_s6m4_LaVenganza \n",
      " (707, 11)\n",
      "Df de los mers \n",
      " (6950, 11)\n",
      "1449\n",
      "Df de los mers \n",
      " (6950, 11)\n",
      "DataFrameConcatenado\n",
      " (7657, 11)\n",
      "DataFrameConcatenado sin dupl\n",
      " (3841, 11)\n"
     ]
    },
    {
     "name": "stderr",
     "output_type": "stream",
     "text": [
      "<ipython-input-4-31de93231e4c>:43: SettingWithCopyWarning: \n",
      "A value is trying to be set on a copy of a slice from a DataFrame\n",
      "\n",
      "See the caveats in the documentation: https://pandas.pydata.org/pandas-docs/stable/user_guide/indexing.html#returning-a-view-versus-a-copy\n",
      "  df_s6m4_LaVenganza.drop_duplicates(['gen_name'], inplace=True, keep=False)\n"
     ]
    },
    {
     "name": "stdout",
     "output_type": "stream",
     "text": [
      "----------------------------------------------\n",
      "hsa-miR-10a-5p \n",
      " (8271, 11)\n",
      "hsa-miR-10a-5p \n",
      " (5625, 11)\n",
      "Df de los df_s6m4_LaVenganza \n",
      " (93, 11)\n",
      "Df de los df_s6m4_LaVenganza \n",
      " (93, 11)\n",
      "Df de los mers \n",
      " (5532, 11)\n",
      "913\n",
      "Df de los mers \n",
      " (5532, 11)\n",
      "DataFrameConcatenado\n",
      " (5625, 11)\n",
      "DataFrameConcatenado sin dupl\n",
      " (3618, 11)\n"
     ]
    },
    {
     "name": "stderr",
     "output_type": "stream",
     "text": [
      "<ipython-input-4-31de93231e4c>:43: SettingWithCopyWarning: \n",
      "A value is trying to be set on a copy of a slice from a DataFrame\n",
      "\n",
      "See the caveats in the documentation: https://pandas.pydata.org/pandas-docs/stable/user_guide/indexing.html#returning-a-view-versus-a-copy\n",
      "  df_s6m4_LaVenganza.drop_duplicates(['gen_name'], inplace=True, keep=False)\n"
     ]
    },
    {
     "name": "stdout",
     "output_type": "stream",
     "text": [
      "----------------------------------------------\n",
      "hsa-miR-10b-5p \n",
      " (8271, 11)\n",
      "hsa-miR-10b-5p \n",
      " (5625, 11)\n",
      "Df de los df_s6m4_LaVenganza \n",
      " (93, 11)\n",
      "Df de los df_s6m4_LaVenganza \n",
      " (93, 11)\n",
      "Df de los mers \n",
      " (5532, 11)\n",
      "913\n",
      "Df de los mers \n",
      " (5532, 11)\n",
      "DataFrameConcatenado\n",
      " (5625, 11)\n",
      "DataFrameConcatenado sin dupl\n",
      " (3618, 11)\n"
     ]
    },
    {
     "name": "stderr",
     "output_type": "stream",
     "text": [
      "<ipython-input-4-31de93231e4c>:43: SettingWithCopyWarning: \n",
      "A value is trying to be set on a copy of a slice from a DataFrame\n",
      "\n",
      "See the caveats in the documentation: https://pandas.pydata.org/pandas-docs/stable/user_guide/indexing.html#returning-a-view-versus-a-copy\n",
      "  df_s6m4_LaVenganza.drop_duplicates(['gen_name'], inplace=True, keep=False)\n"
     ]
    },
    {
     "name": "stdout",
     "output_type": "stream",
     "text": [
      "----------------------------------------------\n",
      "hsa-miR-125a-5p \n",
      " (9358, 11)\n",
      "hsa-miR-125a-5p \n",
      " (6830, 11)\n",
      "Df de los df_s6m4_LaVenganza \n",
      " (428, 11)\n",
      "Df de los df_s6m4_LaVenganza \n",
      " (404, 11)\n",
      "Df de los mers \n",
      " (6402, 11)\n",
      "1317\n",
      "Df de los mers \n",
      " (6402, 11)\n",
      "DataFrameConcatenado\n",
      " (6806, 11)\n",
      "DataFrameConcatenado sin dupl\n",
      " (3560, 11)\n"
     ]
    },
    {
     "name": "stderr",
     "output_type": "stream",
     "text": [
      "<ipython-input-4-31de93231e4c>:43: SettingWithCopyWarning: \n",
      "A value is trying to be set on a copy of a slice from a DataFrame\n",
      "\n",
      "See the caveats in the documentation: https://pandas.pydata.org/pandas-docs/stable/user_guide/indexing.html#returning-a-view-versus-a-copy\n",
      "  df_s6m4_LaVenganza.drop_duplicates(['gen_name'], inplace=True, keep=False)\n"
     ]
    },
    {
     "name": "stdout",
     "output_type": "stream",
     "text": [
      "----------------------------------------------\n",
      "hsa-miR-125b-5p \n",
      " (9109, 11)\n",
      "hsa-miR-125b-5p \n",
      " (6641, 11)\n",
      "Df de los df_s6m4_LaVenganza \n",
      " (239, 11)\n",
      "Df de los df_s6m4_LaVenganza \n",
      " (235, 11)\n",
      "Df de los mers \n",
      " (6402, 11)\n",
      "1317\n",
      "Df de los mers \n",
      " (6402, 11)\n",
      "DataFrameConcatenado\n",
      " (6637, 11)\n",
      "DataFrameConcatenado sin dupl\n",
      " (3560, 11)\n"
     ]
    },
    {
     "name": "stderr",
     "output_type": "stream",
     "text": [
      "<ipython-input-4-31de93231e4c>:43: SettingWithCopyWarning: \n",
      "A value is trying to be set on a copy of a slice from a DataFrame\n",
      "\n",
      "See the caveats in the documentation: https://pandas.pydata.org/pandas-docs/stable/user_guide/indexing.html#returning-a-view-versus-a-copy\n",
      "  df_s6m4_LaVenganza.drop_duplicates(['gen_name'], inplace=True, keep=False)\n"
     ]
    },
    {
     "name": "stdout",
     "output_type": "stream",
     "text": [
      "----------------------------------------------\n",
      "hsa-miR-135a-5p \n",
      " (8959, 11)\n",
      "hsa-miR-135a-5p \n",
      " (6307, 11)\n",
      "Df de los df_s6m4_LaVenganza \n",
      " (539, 11)\n",
      "Df de los df_s6m4_LaVenganza \n",
      " (509, 11)\n",
      "Df de los mers \n",
      " (5768, 11)\n",
      "995\n",
      "Df de los mers \n",
      " (5768, 11)\n",
      "DataFrameConcatenado\n",
      " (6277, 11)\n",
      "DataFrameConcatenado sin dupl\n",
      " (3678, 11)\n"
     ]
    },
    {
     "name": "stderr",
     "output_type": "stream",
     "text": [
      "<ipython-input-4-31de93231e4c>:43: SettingWithCopyWarning: \n",
      "A value is trying to be set on a copy of a slice from a DataFrame\n",
      "\n",
      "See the caveats in the documentation: https://pandas.pydata.org/pandas-docs/stable/user_guide/indexing.html#returning-a-view-versus-a-copy\n",
      "  df_s6m4_LaVenganza.drop_duplicates(['gen_name'], inplace=True, keep=False)\n"
     ]
    },
    {
     "name": "stdout",
     "output_type": "stream",
     "text": [
      "----------------------------------------------\n",
      "hsa-miR-135b-5p \n",
      " (8959, 11)\n",
      "hsa-miR-135b-5p \n",
      " (6307, 11)\n",
      "Df de los df_s6m4_LaVenganza \n",
      " (539, 11)\n",
      "Df de los df_s6m4_LaVenganza \n",
      " (509, 11)\n",
      "Df de los mers \n",
      " (5768, 11)\n",
      "995\n",
      "Df de los mers \n",
      " (5768, 11)\n",
      "DataFrameConcatenado\n",
      " (6277, 11)\n",
      "DataFrameConcatenado sin dupl\n",
      " (3678, 11)\n"
     ]
    },
    {
     "name": "stderr",
     "output_type": "stream",
     "text": [
      "<ipython-input-4-31de93231e4c>:43: SettingWithCopyWarning: \n",
      "A value is trying to be set on a copy of a slice from a DataFrame\n",
      "\n",
      "See the caveats in the documentation: https://pandas.pydata.org/pandas-docs/stable/user_guide/indexing.html#returning-a-view-versus-a-copy\n",
      "  df_s6m4_LaVenganza.drop_duplicates(['gen_name'], inplace=True, keep=False)\n"
     ]
    },
    {
     "name": "stdout",
     "output_type": "stream",
     "text": [
      "----------------------------------------------\n",
      "hsa-miR-140-3p \n",
      " (13215, 11)\n",
      "hsa-miR-140-3p \n",
      " (7680, 11)\n",
      "Df de los df_s6m4_LaVenganza \n",
      " (346, 11)\n",
      "Df de los df_s6m4_LaVenganza \n",
      " (342, 11)\n",
      "Df de los mers \n",
      " (7334, 11)\n",
      "1643\n",
      "Df de los mers \n",
      " (7334, 11)\n",
      "DataFrameConcatenado\n",
      " (7676, 11)\n",
      "DataFrameConcatenado sin dupl\n",
      " (3752, 11)\n"
     ]
    },
    {
     "name": "stderr",
     "output_type": "stream",
     "text": [
      "<ipython-input-4-31de93231e4c>:43: SettingWithCopyWarning: \n",
      "A value is trying to be set on a copy of a slice from a DataFrame\n",
      "\n",
      "See the caveats in the documentation: https://pandas.pydata.org/pandas-docs/stable/user_guide/indexing.html#returning-a-view-versus-a-copy\n",
      "  df_s6m4_LaVenganza.drop_duplicates(['gen_name'], inplace=True, keep=False)\n"
     ]
    },
    {
     "name": "stdout",
     "output_type": "stream",
     "text": [
      "----------------------------------------------\n",
      "hsa-miR-140-5p \n",
      " (7154, 11)\n",
      "hsa-miR-140-5p \n",
      " (5382, 11)\n",
      "Df de los df_s6m4_LaVenganza \n",
      " (201, 11)\n",
      "Df de los df_s6m4_LaVenganza \n",
      " (199, 11)\n",
      "Df de los mers \n",
      " (5181, 11)\n",
      "766\n",
      "Df de los mers \n",
      " (5181, 11)\n",
      "DataFrameConcatenado\n",
      " (5380, 11)\n",
      "DataFrameConcatenado sin dupl\n",
      " (3584, 11)\n"
     ]
    },
    {
     "name": "stderr",
     "output_type": "stream",
     "text": [
      "<ipython-input-4-31de93231e4c>:43: SettingWithCopyWarning: \n",
      "A value is trying to be set on a copy of a slice from a DataFrame\n",
      "\n",
      "See the caveats in the documentation: https://pandas.pydata.org/pandas-docs/stable/user_guide/indexing.html#returning-a-view-versus-a-copy\n",
      "  df_s6m4_LaVenganza.drop_duplicates(['gen_name'], inplace=True, keep=False)\n"
     ]
    },
    {
     "name": "stdout",
     "output_type": "stream",
     "text": [
      "----------------------------------------------\n",
      "hsa-miR-141-3p \n",
      " (10151, 11)\n",
      "hsa-miR-141-3p \n",
      " (6529, 11)\n",
      "Df de los df_s6m4_LaVenganza \n",
      " (340, 11)\n",
      "Df de los df_s6m4_LaVenganza \n",
      " (326, 11)\n",
      "Df de los mers \n",
      " (6189, 11)\n",
      "1290\n",
      "Df de los mers \n",
      " (6189, 11)\n",
      "DataFrameConcatenado\n",
      " (6515, 11)\n",
      "DataFrameConcatenado sin dupl\n",
      " (3374, 11)\n"
     ]
    },
    {
     "name": "stderr",
     "output_type": "stream",
     "text": [
      "<ipython-input-4-31de93231e4c>:43: SettingWithCopyWarning: \n",
      "A value is trying to be set on a copy of a slice from a DataFrame\n",
      "\n",
      "See the caveats in the documentation: https://pandas.pydata.org/pandas-docs/stable/user_guide/indexing.html#returning-a-view-versus-a-copy\n",
      "  df_s6m4_LaVenganza.drop_duplicates(['gen_name'], inplace=True, keep=False)\n"
     ]
    },
    {
     "name": "stdout",
     "output_type": "stream",
     "text": [
      "----------------------------------------------\n",
      "hsa-miR-150-5p \n",
      " (13930, 11)\n",
      "hsa-miR-150-5p \n",
      " (7311, 11)\n",
      "Df de los df_s6m4_LaVenganza \n",
      " (272, 11)\n",
      "Df de los df_s6m4_LaVenganza \n",
      " (264, 11)\n",
      "Df de los mers \n",
      " (7039, 11)\n",
      "1602\n",
      "Df de los mers \n",
      " (7039, 11)\n",
      "DataFrameConcatenado\n",
      " (7303, 11)\n",
      "DataFrameConcatenado sin dupl\n",
      " (3517, 11)\n"
     ]
    },
    {
     "name": "stderr",
     "output_type": "stream",
     "text": [
      "<ipython-input-4-31de93231e4c>:43: SettingWithCopyWarning: \n",
      "A value is trying to be set on a copy of a slice from a DataFrame\n",
      "\n",
      "See the caveats in the documentation: https://pandas.pydata.org/pandas-docs/stable/user_guide/indexing.html#returning-a-view-versus-a-copy\n",
      "  df_s6m4_LaVenganza.drop_duplicates(['gen_name'], inplace=True, keep=False)\n"
     ]
    },
    {
     "name": "stdout",
     "output_type": "stream",
     "text": [
      "----------------------------------------------\n",
      "hsa-miR-17-5p \n",
      " (10656, 11)\n",
      "hsa-miR-17-5p \n",
      " (6372, 11)\n",
      "Df de los df_s6m4_LaVenganza \n",
      " (414, 11)\n",
      "Df de los df_s6m4_LaVenganza \n",
      " (402, 11)\n",
      "Df de los mers \n",
      " (5958, 11)\n",
      "1082\n",
      "Df de los mers \n",
      " (5958, 11)\n",
      "DataFrameConcatenado\n",
      " (6360, 11)\n",
      "DataFrameConcatenado sin dupl\n",
      " (3656, 11)\n"
     ]
    },
    {
     "name": "stderr",
     "output_type": "stream",
     "text": [
      "<ipython-input-4-31de93231e4c>:43: SettingWithCopyWarning: \n",
      "A value is trying to be set on a copy of a slice from a DataFrame\n",
      "\n",
      "See the caveats in the documentation: https://pandas.pydata.org/pandas-docs/stable/user_guide/indexing.html#returning-a-view-versus-a-copy\n",
      "  df_s6m4_LaVenganza.drop_duplicates(['gen_name'], inplace=True, keep=False)\n"
     ]
    },
    {
     "name": "stdout",
     "output_type": "stream",
     "text": [
      "----------------------------------------------\n",
      "hsa-miR-183-5p \n",
      " (9923, 11)\n",
      "hsa-miR-183-5p \n",
      " (6429, 11)\n",
      "Df de los df_s6m4_LaVenganza \n",
      " (581, 11)\n",
      "Df de los df_s6m4_LaVenganza \n",
      " (555, 11)\n",
      "Df de los mers \n",
      " (5848, 11)\n",
      "1010\n",
      "Df de los mers \n",
      " (5848, 11)\n",
      "DataFrameConcatenado\n",
      " (6403, 11)\n",
      "DataFrameConcatenado sin dupl\n",
      " (3717, 11)\n"
     ]
    },
    {
     "name": "stderr",
     "output_type": "stream",
     "text": [
      "<ipython-input-4-31de93231e4c>:43: SettingWithCopyWarning: \n",
      "A value is trying to be set on a copy of a slice from a DataFrame\n",
      "\n",
      "See the caveats in the documentation: https://pandas.pydata.org/pandas-docs/stable/user_guide/indexing.html#returning-a-view-versus-a-copy\n",
      "  df_s6m4_LaVenganza.drop_duplicates(['gen_name'], inplace=True, keep=False)\n"
     ]
    },
    {
     "name": "stdout",
     "output_type": "stream",
     "text": [
      "----------------------------------------------\n",
      "hsa-miR-18a-5p \n",
      " (8966, 11)\n",
      "hsa-miR-18a-5p \n",
      " (6160, 11)\n",
      "Df de los df_s6m4_LaVenganza \n",
      " (425, 11)\n",
      "Df de los df_s6m4_LaVenganza \n",
      " (405, 11)\n",
      "Df de los mers \n",
      " (5735, 11)\n",
      "870\n",
      "Df de los mers \n",
      " (5735, 11)\n",
      "DataFrameConcatenado\n",
      " (6140, 11)\n",
      "DataFrameConcatenado sin dupl\n",
      " (3910, 11)\n"
     ]
    },
    {
     "name": "stderr",
     "output_type": "stream",
     "text": [
      "<ipython-input-4-31de93231e4c>:43: SettingWithCopyWarning: \n",
      "A value is trying to be set on a copy of a slice from a DataFrame\n",
      "\n",
      "See the caveats in the documentation: https://pandas.pydata.org/pandas-docs/stable/user_guide/indexing.html#returning-a-view-versus-a-copy\n",
      "  df_s6m4_LaVenganza.drop_duplicates(['gen_name'], inplace=True, keep=False)\n"
     ]
    },
    {
     "name": "stdout",
     "output_type": "stream",
     "text": [
      "----------------------------------------------\n",
      "hsa-miR-18b-5p \n",
      " (8966, 11)\n",
      "hsa-miR-18b-5p \n",
      " (6160, 11)\n",
      "Df de los df_s6m4_LaVenganza \n",
      " (425, 11)\n",
      "Df de los df_s6m4_LaVenganza \n",
      " (405, 11)\n",
      "Df de los mers \n",
      " (5735, 11)\n",
      "870\n",
      "Df de los mers \n",
      " (5735, 11)\n",
      "DataFrameConcatenado\n",
      " (6140, 11)\n",
      "DataFrameConcatenado sin dupl\n",
      " (3910, 11)\n"
     ]
    },
    {
     "name": "stderr",
     "output_type": "stream",
     "text": [
      "<ipython-input-4-31de93231e4c>:43: SettingWithCopyWarning: \n",
      "A value is trying to be set on a copy of a slice from a DataFrame\n",
      "\n",
      "See the caveats in the documentation: https://pandas.pydata.org/pandas-docs/stable/user_guide/indexing.html#returning-a-view-versus-a-copy\n",
      "  df_s6m4_LaVenganza.drop_duplicates(['gen_name'], inplace=True, keep=False)\n"
     ]
    },
    {
     "name": "stdout",
     "output_type": "stream",
     "text": [
      "----------------------------------------------\n",
      "hsa-miR-190a-5p \n",
      " (5138, 11)\n",
      "hsa-miR-190a-5p \n",
      " (4261, 11)\n",
      "Df de los df_s6m4_LaVenganza \n",
      " (326, 11)\n",
      "Df de los df_s6m4_LaVenganza \n",
      " (312, 11)\n",
      "Df de los mers \n",
      " (3935, 11)\n",
      "585\n",
      "Df de los mers \n",
      " (3935, 11)\n",
      "DataFrameConcatenado\n",
      " (4247, 11)\n",
      "DataFrameConcatenado sin dupl\n",
      " (2691, 11)\n"
     ]
    },
    {
     "name": "stderr",
     "output_type": "stream",
     "text": [
      "<ipython-input-4-31de93231e4c>:43: SettingWithCopyWarning: \n",
      "A value is trying to be set on a copy of a slice from a DataFrame\n",
      "\n",
      "See the caveats in the documentation: https://pandas.pydata.org/pandas-docs/stable/user_guide/indexing.html#returning-a-view-versus-a-copy\n",
      "  df_s6m4_LaVenganza.drop_duplicates(['gen_name'], inplace=True, keep=False)\n"
     ]
    },
    {
     "name": "stdout",
     "output_type": "stream",
     "text": [
      "----------------------------------------------\n",
      "hsa-miR-196a-5p \n",
      " (7085, 11)\n",
      "hsa-miR-196a-5p \n",
      " (5281, 11)\n",
      "Df de los df_s6m4_LaVenganza \n",
      " (349, 11)\n",
      "Df de los df_s6m4_LaVenganza \n",
      " (331, 11)\n",
      "Df de los mers \n",
      " (4932, 11)\n",
      "657\n",
      "Df de los mers \n",
      " (4932, 11)\n",
      "DataFrameConcatenado\n",
      " (5263, 11)\n",
      "DataFrameConcatenado sin dupl\n",
      " (3564, 11)\n"
     ]
    },
    {
     "name": "stderr",
     "output_type": "stream",
     "text": [
      "<ipython-input-4-31de93231e4c>:43: SettingWithCopyWarning: \n",
      "A value is trying to be set on a copy of a slice from a DataFrame\n",
      "\n",
      "See the caveats in the documentation: https://pandas.pydata.org/pandas-docs/stable/user_guide/indexing.html#returning-a-view-versus-a-copy\n",
      "  df_s6m4_LaVenganza.drop_duplicates(['gen_name'], inplace=True, keep=False)\n"
     ]
    },
    {
     "name": "stdout",
     "output_type": "stream",
     "text": [
      "----------------------------------------------\n",
      "hsa-miR-196b-5p \n",
      " (7085, 11)\n",
      "hsa-miR-196b-5p \n",
      " (5281, 11)\n",
      "Df de los df_s6m4_LaVenganza \n",
      " (349, 11)\n",
      "Df de los df_s6m4_LaVenganza \n",
      " (331, 11)\n",
      "Df de los mers \n",
      " (4932, 11)\n",
      "657\n",
      "Df de los mers \n",
      " (4932, 11)\n",
      "DataFrameConcatenado\n",
      " (5263, 11)\n",
      "DataFrameConcatenado sin dupl\n",
      " (3564, 11)\n"
     ]
    },
    {
     "name": "stderr",
     "output_type": "stream",
     "text": [
      "<ipython-input-4-31de93231e4c>:43: SettingWithCopyWarning: \n",
      "A value is trying to be set on a copy of a slice from a DataFrame\n",
      "\n",
      "See the caveats in the documentation: https://pandas.pydata.org/pandas-docs/stable/user_guide/indexing.html#returning-a-view-versus-a-copy\n",
      "  df_s6m4_LaVenganza.drop_duplicates(['gen_name'], inplace=True, keep=False)\n"
     ]
    },
    {
     "name": "stdout",
     "output_type": "stream",
     "text": [
      "----------------------------------------------\n",
      "hsa-miR-19a-3p \n",
      " (7663, 11)\n",
      "hsa-miR-19a-3p \n",
      " (5927, 11)\n",
      "Df de los df_s6m4_LaVenganza \n",
      " (544, 11)\n",
      "Df de los df_s6m4_LaVenganza \n",
      " (522, 11)\n",
      "Df de los mers \n",
      " (5383, 11)\n",
      "964\n",
      "Df de los mers \n",
      " (5383, 11)\n",
      "DataFrameConcatenado\n",
      " (5905, 11)\n",
      "DataFrameConcatenado sin dupl\n",
      " (3302, 11)\n"
     ]
    },
    {
     "name": "stderr",
     "output_type": "stream",
     "text": [
      "<ipython-input-4-31de93231e4c>:43: SettingWithCopyWarning: \n",
      "A value is trying to be set on a copy of a slice from a DataFrame\n",
      "\n",
      "See the caveats in the documentation: https://pandas.pydata.org/pandas-docs/stable/user_guide/indexing.html#returning-a-view-versus-a-copy\n",
      "  df_s6m4_LaVenganza.drop_duplicates(['gen_name'], inplace=True, keep=False)\n"
     ]
    },
    {
     "name": "stdout",
     "output_type": "stream",
     "text": [
      "----------------------------------------------\n",
      "hsa-miR-19b-3p \n",
      " (7663, 11)\n",
      "hsa-miR-19b-3p \n",
      " (5927, 11)\n",
      "Df de los df_s6m4_LaVenganza \n",
      " (544, 11)\n",
      "Df de los df_s6m4_LaVenganza \n",
      " (522, 11)\n",
      "Df de los mers \n",
      " (5383, 11)\n",
      "964\n",
      "Df de los mers \n",
      " (5383, 11)\n",
      "DataFrameConcatenado\n",
      " (5905, 11)\n",
      "DataFrameConcatenado sin dupl\n",
      " (3302, 11)\n"
     ]
    },
    {
     "name": "stderr",
     "output_type": "stream",
     "text": [
      "<ipython-input-4-31de93231e4c>:43: SettingWithCopyWarning: \n",
      "A value is trying to be set on a copy of a slice from a DataFrame\n",
      "\n",
      "See the caveats in the documentation: https://pandas.pydata.org/pandas-docs/stable/user_guide/indexing.html#returning-a-view-versus-a-copy\n",
      "  df_s6m4_LaVenganza.drop_duplicates(['gen_name'], inplace=True, keep=False)\n"
     ]
    },
    {
     "name": "stdout",
     "output_type": "stream",
     "text": [
      "----------------------------------------------\n",
      "hsa-miR-200a-3p \n",
      " (10151, 11)\n",
      "hsa-miR-200a-3p \n",
      " (6529, 11)\n",
      "Df de los df_s6m4_LaVenganza \n",
      " (340, 11)\n",
      "Df de los df_s6m4_LaVenganza \n",
      " (326, 11)\n",
      "Df de los mers \n",
      " (6189, 11)\n",
      "1290\n",
      "Df de los mers \n",
      " (6189, 11)\n",
      "DataFrameConcatenado\n",
      " (6515, 11)\n",
      "DataFrameConcatenado sin dupl\n",
      " (3374, 11)\n"
     ]
    },
    {
     "name": "stderr",
     "output_type": "stream",
     "text": [
      "<ipython-input-4-31de93231e4c>:43: SettingWithCopyWarning: \n",
      "A value is trying to be set on a copy of a slice from a DataFrame\n",
      "\n",
      "See the caveats in the documentation: https://pandas.pydata.org/pandas-docs/stable/user_guide/indexing.html#returning-a-view-versus-a-copy\n",
      "  df_s6m4_LaVenganza.drop_duplicates(['gen_name'], inplace=True, keep=False)\n"
     ]
    },
    {
     "name": "stdout",
     "output_type": "stream",
     "text": [
      "----------------------------------------------\n",
      "hsa-miR-200b-3p \n",
      " (10240, 11)\n",
      "hsa-miR-200b-3p \n",
      " (5950, 11)\n",
      "Df de los df_s6m4_LaVenganza \n",
      " (386, 11)\n",
      "Df de los df_s6m4_LaVenganza \n",
      " (374, 11)\n",
      "Df de los mers \n",
      " (5564, 11)\n",
      "1176\n",
      "Df de los mers \n",
      " (5564, 11)\n",
      "DataFrameConcatenado\n",
      " (5938, 11)\n",
      "DataFrameConcatenado sin dupl\n",
      " (3006, 11)\n"
     ]
    },
    {
     "name": "stderr",
     "output_type": "stream",
     "text": [
      "<ipython-input-4-31de93231e4c>:43: SettingWithCopyWarning: \n",
      "A value is trying to be set on a copy of a slice from a DataFrame\n",
      "\n",
      "See the caveats in the documentation: https://pandas.pydata.org/pandas-docs/stable/user_guide/indexing.html#returning-a-view-versus-a-copy\n",
      "  df_s6m4_LaVenganza.drop_duplicates(['gen_name'], inplace=True, keep=False)\n"
     ]
    },
    {
     "name": "stdout",
     "output_type": "stream",
     "text": [
      "----------------------------------------------\n",
      "hsa-miR-200c-3p \n",
      " (10240, 11)\n",
      "hsa-miR-200c-3p \n",
      " (5950, 11)\n",
      "Df de los df_s6m4_LaVenganza \n",
      " (386, 11)\n",
      "Df de los df_s6m4_LaVenganza \n",
      " (374, 11)\n",
      "Df de los mers \n",
      " (5564, 11)\n",
      "1176\n",
      "Df de los mers \n",
      " (5564, 11)\n",
      "DataFrameConcatenado\n",
      " (5938, 11)\n",
      "DataFrameConcatenado sin dupl\n",
      " (3006, 11)\n"
     ]
    },
    {
     "name": "stderr",
     "output_type": "stream",
     "text": [
      "<ipython-input-4-31de93231e4c>:43: SettingWithCopyWarning: \n",
      "A value is trying to be set on a copy of a slice from a DataFrame\n",
      "\n",
      "See the caveats in the documentation: https://pandas.pydata.org/pandas-docs/stable/user_guide/indexing.html#returning-a-view-versus-a-copy\n",
      "  df_s6m4_LaVenganza.drop_duplicates(['gen_name'], inplace=True, keep=False)\n"
     ]
    },
    {
     "name": "stdout",
     "output_type": "stream",
     "text": [
      "----------------------------------------------\n",
      "hsa-miR-20a-5p \n",
      " (10656, 11)\n",
      "hsa-miR-20a-5p \n",
      " (6372, 11)\n",
      "Df de los df_s6m4_LaVenganza \n",
      " (414, 11)\n",
      "Df de los df_s6m4_LaVenganza \n",
      " (402, 11)\n",
      "Df de los mers \n",
      " (5958, 11)\n",
      "1082\n",
      "Df de los mers \n",
      " (5958, 11)\n",
      "DataFrameConcatenado\n",
      " (6360, 11)\n",
      "DataFrameConcatenado sin dupl\n",
      " (3656, 11)\n"
     ]
    },
    {
     "name": "stderr",
     "output_type": "stream",
     "text": [
      "<ipython-input-4-31de93231e4c>:43: SettingWithCopyWarning: \n",
      "A value is trying to be set on a copy of a slice from a DataFrame\n",
      "\n",
      "See the caveats in the documentation: https://pandas.pydata.org/pandas-docs/stable/user_guide/indexing.html#returning-a-view-versus-a-copy\n",
      "  df_s6m4_LaVenganza.drop_duplicates(['gen_name'], inplace=True, keep=False)\n"
     ]
    },
    {
     "name": "stdout",
     "output_type": "stream",
     "text": [
      "----------------------------------------------\n",
      "hsa-miR-20b-5p \n",
      " (10656, 11)\n",
      "hsa-miR-20b-5p \n",
      " (6372, 11)\n",
      "Df de los df_s6m4_LaVenganza \n",
      " (414, 11)\n",
      "Df de los df_s6m4_LaVenganza \n",
      " (402, 11)\n",
      "Df de los mers \n",
      " (5958, 11)\n",
      "1082\n",
      "Df de los mers \n",
      " (5958, 11)\n",
      "DataFrameConcatenado\n",
      " (6360, 11)\n",
      "DataFrameConcatenado sin dupl\n",
      " (3656, 11)\n"
     ]
    },
    {
     "name": "stderr",
     "output_type": "stream",
     "text": [
      "<ipython-input-4-31de93231e4c>:43: SettingWithCopyWarning: \n",
      "A value is trying to be set on a copy of a slice from a DataFrame\n",
      "\n",
      "See the caveats in the documentation: https://pandas.pydata.org/pandas-docs/stable/user_guide/indexing.html#returning-a-view-versus-a-copy\n",
      "  df_s6m4_LaVenganza.drop_duplicates(['gen_name'], inplace=True, keep=False)\n"
     ]
    },
    {
     "name": "stdout",
     "output_type": "stream",
     "text": [
      "----------------------------------------------\n",
      "hsa-miR-214-5p \n",
      " (9815, 11)\n",
      "hsa-miR-214-5p \n",
      " (6246, 11)\n",
      "Df de los df_s6m4_LaVenganza \n",
      " (478, 11)\n",
      "Df de los df_s6m4_LaVenganza \n",
      " (468, 11)\n",
      "Df de los mers \n",
      " (5768, 11)\n",
      "1108\n",
      "Df de los mers \n",
      " (5768, 11)\n",
      "DataFrameConcatenado\n",
      " (6236, 11)\n",
      "DataFrameConcatenado sin dupl\n",
      " (3418, 11)\n"
     ]
    },
    {
     "name": "stderr",
     "output_type": "stream",
     "text": [
      "<ipython-input-4-31de93231e4c>:43: SettingWithCopyWarning: \n",
      "A value is trying to be set on a copy of a slice from a DataFrame\n",
      "\n",
      "See the caveats in the documentation: https://pandas.pydata.org/pandas-docs/stable/user_guide/indexing.html#returning-a-view-versus-a-copy\n",
      "  df_s6m4_LaVenganza.drop_duplicates(['gen_name'], inplace=True, keep=False)\n"
     ]
    },
    {
     "name": "stdout",
     "output_type": "stream",
     "text": [
      "----------------------------------------------\n",
      "hsa-miR-217 \n",
      " (11772, 11)\n",
      "hsa-miR-217 \n",
      " (6351, 11)\n",
      "Df de los df_s6m4_LaVenganza \n",
      " (368, 11)\n",
      "Df de los df_s6m4_LaVenganza \n",
      " (349, 11)\n",
      "Df de los mers \n",
      " (5983, 11)\n",
      "1083\n",
      "Df de los mers \n",
      " (5983, 11)\n",
      "DataFrameConcatenado\n",
      " (6332, 11)\n",
      "DataFrameConcatenado sin dupl\n",
      " (3658, 11)\n"
     ]
    },
    {
     "name": "stderr",
     "output_type": "stream",
     "text": [
      "<ipython-input-4-31de93231e4c>:43: SettingWithCopyWarning: \n",
      "A value is trying to be set on a copy of a slice from a DataFrame\n",
      "\n",
      "See the caveats in the documentation: https://pandas.pydata.org/pandas-docs/stable/user_guide/indexing.html#returning-a-view-versus-a-copy\n",
      "  df_s6m4_LaVenganza.drop_duplicates(['gen_name'], inplace=True, keep=False)\n"
     ]
    },
    {
     "name": "stdout",
     "output_type": "stream",
     "text": [
      "----------------------------------------------\n",
      "hsa-miR-218-5p \n",
      " (9275, 11)\n",
      "hsa-miR-218-5p \n",
      " (6525, 11)\n",
      "Df de los df_s6m4_LaVenganza \n",
      " (294, 11)\n",
      "Df de los df_s6m4_LaVenganza \n",
      " (286, 11)\n",
      "Df de los mers \n",
      " (6231, 11)\n",
      "1189\n",
      "Df de los mers \n",
      " (6231, 11)\n",
      "DataFrameConcatenado\n",
      " (6517, 11)\n",
      "DataFrameConcatenado sin dupl\n",
      " (3637, 11)\n"
     ]
    },
    {
     "name": "stderr",
     "output_type": "stream",
     "text": [
      "<ipython-input-4-31de93231e4c>:43: SettingWithCopyWarning: \n",
      "A value is trying to be set on a copy of a slice from a DataFrame\n",
      "\n",
      "See the caveats in the documentation: https://pandas.pydata.org/pandas-docs/stable/user_guide/indexing.html#returning-a-view-versus-a-copy\n",
      "  df_s6m4_LaVenganza.drop_duplicates(['gen_name'], inplace=True, keep=False)\n"
     ]
    },
    {
     "name": "stdout",
     "output_type": "stream",
     "text": [
      "----------------------------------------------\n",
      "hsa-miR-23a-3p \n",
      " (11035, 11)\n",
      "hsa-miR-23a-3p \n",
      " (7422, 11)\n",
      "Df de los df_s6m4_LaVenganza \n",
      " (369, 11)\n",
      "Df de los df_s6m4_LaVenganza \n",
      " (357, 11)\n",
      "Df de los mers \n",
      " (7053, 11)\n",
      "1553\n",
      "Df de los mers \n",
      " (7053, 11)\n",
      "DataFrameConcatenado\n",
      " (7410, 11)\n",
      "DataFrameConcatenado sin dupl\n",
      " (3585, 11)\n"
     ]
    },
    {
     "name": "stderr",
     "output_type": "stream",
     "text": [
      "<ipython-input-4-31de93231e4c>:43: SettingWithCopyWarning: \n",
      "A value is trying to be set on a copy of a slice from a DataFrame\n",
      "\n",
      "See the caveats in the documentation: https://pandas.pydata.org/pandas-docs/stable/user_guide/indexing.html#returning-a-view-versus-a-copy\n",
      "  df_s6m4_LaVenganza.drop_duplicates(['gen_name'], inplace=True, keep=False)\n"
     ]
    },
    {
     "name": "stdout",
     "output_type": "stream",
     "text": [
      "----------------------------------------------\n",
      "hsa-miR-23b-3p \n",
      " (11035, 11)\n",
      "hsa-miR-23b-3p \n",
      " (7422, 11)\n",
      "Df de los df_s6m4_LaVenganza \n",
      " (369, 11)\n",
      "Df de los df_s6m4_LaVenganza \n",
      " (357, 11)\n",
      "Df de los mers \n",
      " (7053, 11)\n",
      "1553\n",
      "Df de los mers \n",
      " (7053, 11)\n",
      "DataFrameConcatenado\n",
      " (7410, 11)\n",
      "DataFrameConcatenado sin dupl\n",
      " (3585, 11)\n"
     ]
    },
    {
     "name": "stderr",
     "output_type": "stream",
     "text": [
      "<ipython-input-4-31de93231e4c>:43: SettingWithCopyWarning: \n",
      "A value is trying to be set on a copy of a slice from a DataFrame\n",
      "\n",
      "See the caveats in the documentation: https://pandas.pydata.org/pandas-docs/stable/user_guide/indexing.html#returning-a-view-versus-a-copy\n",
      "  df_s6m4_LaVenganza.drop_duplicates(['gen_name'], inplace=True, keep=False)\n"
     ]
    },
    {
     "name": "stdout",
     "output_type": "stream",
     "text": [
      "----------------------------------------------\n",
      "hsa-miR-23c \n",
      " (11063, 11)\n",
      "hsa-miR-23c \n",
      " (7404, 11)\n",
      "Df de los df_s6m4_LaVenganza \n",
      " (351, 11)\n",
      "Df de los df_s6m4_LaVenganza \n",
      " (333, 11)\n",
      "Df de los mers \n",
      " (7053, 11)\n",
      "1553\n",
      "Df de los mers \n",
      " (7053, 11)\n",
      "DataFrameConcatenado\n",
      " (7386, 11)\n",
      "DataFrameConcatenado sin dupl\n",
      " (3585, 11)\n"
     ]
    },
    {
     "name": "stderr",
     "output_type": "stream",
     "text": [
      "<ipython-input-4-31de93231e4c>:43: SettingWithCopyWarning: \n",
      "A value is trying to be set on a copy of a slice from a DataFrame\n",
      "\n",
      "See the caveats in the documentation: https://pandas.pydata.org/pandas-docs/stable/user_guide/indexing.html#returning-a-view-versus-a-copy\n",
      "  df_s6m4_LaVenganza.drop_duplicates(['gen_name'], inplace=True, keep=False)\n"
     ]
    },
    {
     "name": "stdout",
     "output_type": "stream",
     "text": [
      "----------------------------------------------\n",
      "hsa-miR-24-3p \n",
      " (12138, 11)\n",
      "hsa-miR-24-3p \n",
      " (7587, 11)\n",
      "Df de los df_s6m4_LaVenganza \n",
      " (624, 11)\n",
      "Df de los df_s6m4_LaVenganza \n",
      " (580, 11)\n",
      "Df de los mers \n",
      " (6963, 11)\n",
      "1536\n",
      "Df de los mers \n",
      " (6963, 11)\n",
      "DataFrameConcatenado\n",
      " (7543, 11)\n",
      "DataFrameConcatenado sin dupl\n",
      " (3597, 11)\n"
     ]
    },
    {
     "name": "stderr",
     "output_type": "stream",
     "text": [
      "<ipython-input-4-31de93231e4c>:43: SettingWithCopyWarning: \n",
      "A value is trying to be set on a copy of a slice from a DataFrame\n",
      "\n",
      "See the caveats in the documentation: https://pandas.pydata.org/pandas-docs/stable/user_guide/indexing.html#returning-a-view-versus-a-copy\n",
      "  df_s6m4_LaVenganza.drop_duplicates(['gen_name'], inplace=True, keep=False)\n"
     ]
    },
    {
     "name": "stdout",
     "output_type": "stream",
     "text": [
      "----------------------------------------------\n",
      "hsa-miR-29a-3p \n",
      " (8194, 11)\n",
      "hsa-miR-29a-3p \n",
      " (6075, 11)\n",
      "Df de los df_s6m4_LaVenganza \n",
      " (491, 11)\n",
      "Df de los df_s6m4_LaVenganza \n",
      " (471, 11)\n",
      "Df de los mers \n",
      " (5584, 11)\n",
      "940\n",
      "Df de los mers \n",
      " (5584, 11)\n",
      "DataFrameConcatenado\n",
      " (6055, 11)\n",
      "DataFrameConcatenado sin dupl\n",
      " (3613, 11)\n"
     ]
    },
    {
     "name": "stderr",
     "output_type": "stream",
     "text": [
      "<ipython-input-4-31de93231e4c>:43: SettingWithCopyWarning: \n",
      "A value is trying to be set on a copy of a slice from a DataFrame\n",
      "\n",
      "See the caveats in the documentation: https://pandas.pydata.org/pandas-docs/stable/user_guide/indexing.html#returning-a-view-versus-a-copy\n",
      "  df_s6m4_LaVenganza.drop_duplicates(['gen_name'], inplace=True, keep=False)\n"
     ]
    },
    {
     "name": "stdout",
     "output_type": "stream",
     "text": [
      "----------------------------------------------\n",
      "hsa-miR-29b-3p \n",
      " (8194, 11)\n",
      "hsa-miR-29b-3p \n",
      " (6075, 11)\n",
      "Df de los df_s6m4_LaVenganza \n",
      " (491, 11)\n",
      "Df de los df_s6m4_LaVenganza \n",
      " (471, 11)\n",
      "Df de los mers \n",
      " (5584, 11)\n",
      "940\n",
      "Df de los mers \n",
      " (5584, 11)\n",
      "DataFrameConcatenado\n",
      " (6055, 11)\n",
      "DataFrameConcatenado sin dupl\n",
      " (3613, 11)\n"
     ]
    },
    {
     "name": "stderr",
     "output_type": "stream",
     "text": [
      "<ipython-input-4-31de93231e4c>:43: SettingWithCopyWarning: \n",
      "A value is trying to be set on a copy of a slice from a DataFrame\n",
      "\n",
      "See the caveats in the documentation: https://pandas.pydata.org/pandas-docs/stable/user_guide/indexing.html#returning-a-view-versus-a-copy\n",
      "  df_s6m4_LaVenganza.drop_duplicates(['gen_name'], inplace=True, keep=False)\n"
     ]
    },
    {
     "name": "stdout",
     "output_type": "stream",
     "text": [
      "----------------------------------------------\n",
      "hsa-miR-29c-3p \n",
      " (8194, 11)\n",
      "hsa-miR-29c-3p \n",
      " (6075, 11)\n",
      "Df de los df_s6m4_LaVenganza \n",
      " (491, 11)\n",
      "Df de los df_s6m4_LaVenganza \n",
      " (471, 11)\n",
      "Df de los mers \n",
      " (5584, 11)\n",
      "940\n",
      "Df de los mers \n",
      " (5584, 11)\n",
      "DataFrameConcatenado\n",
      " (6055, 11)\n",
      "DataFrameConcatenado sin dupl\n",
      " (3613, 11)\n"
     ]
    },
    {
     "name": "stderr",
     "output_type": "stream",
     "text": [
      "<ipython-input-4-31de93231e4c>:43: SettingWithCopyWarning: \n",
      "A value is trying to be set on a copy of a slice from a DataFrame\n",
      "\n",
      "See the caveats in the documentation: https://pandas.pydata.org/pandas-docs/stable/user_guide/indexing.html#returning-a-view-versus-a-copy\n",
      "  df_s6m4_LaVenganza.drop_duplicates(['gen_name'], inplace=True, keep=False)\n"
     ]
    },
    {
     "name": "stdout",
     "output_type": "stream",
     "text": [
      "----------------------------------------------\n",
      "hsa-miR-30a-5p \n",
      " (6022, 11)\n",
      "hsa-miR-30a-5p \n",
      " (5044, 11)\n",
      "Df de los df_s6m4_LaVenganza \n",
      " (29, 11)\n",
      "Df de los df_s6m4_LaVenganza \n",
      " (29, 11)\n",
      "Df de los mers \n",
      " (5015, 11)\n",
      "901\n",
      "Df de los mers \n",
      " (5015, 11)\n",
      "DataFrameConcatenado\n",
      " (5044, 11)\n",
      "DataFrameConcatenado sin dupl\n",
      " (3033, 11)\n"
     ]
    },
    {
     "name": "stderr",
     "output_type": "stream",
     "text": [
      "<ipython-input-4-31de93231e4c>:43: SettingWithCopyWarning: \n",
      "A value is trying to be set on a copy of a slice from a DataFrame\n",
      "\n",
      "See the caveats in the documentation: https://pandas.pydata.org/pandas-docs/stable/user_guide/indexing.html#returning-a-view-versus-a-copy\n",
      "  df_s6m4_LaVenganza.drop_duplicates(['gen_name'], inplace=True, keep=False)\n"
     ]
    },
    {
     "name": "stdout",
     "output_type": "stream",
     "text": [
      "----------------------------------------------\n",
      "hsa-miR-30b-5p \n",
      " (6401, 11)\n",
      "hsa-miR-30b-5p \n",
      " (5332, 11)\n",
      "Df de los df_s6m4_LaVenganza \n",
      " (317, 11)\n",
      "Df de los df_s6m4_LaVenganza \n",
      " (307, 11)\n",
      "Df de los mers \n",
      " (5015, 11)\n",
      "901\n",
      "Df de los mers \n",
      " (5015, 11)\n",
      "DataFrameConcatenado\n",
      " (5322, 11)\n",
      "DataFrameConcatenado sin dupl\n",
      " (3033, 11)\n"
     ]
    },
    {
     "name": "stderr",
     "output_type": "stream",
     "text": [
      "<ipython-input-4-31de93231e4c>:43: SettingWithCopyWarning: \n",
      "A value is trying to be set on a copy of a slice from a DataFrame\n",
      "\n",
      "See the caveats in the documentation: https://pandas.pydata.org/pandas-docs/stable/user_guide/indexing.html#returning-a-view-versus-a-copy\n",
      "  df_s6m4_LaVenganza.drop_duplicates(['gen_name'], inplace=True, keep=False)\n"
     ]
    },
    {
     "name": "stdout",
     "output_type": "stream",
     "text": [
      "----------------------------------------------\n",
      "hsa-miR-30c-5p \n",
      " (6401, 11)\n",
      "hsa-miR-30c-5p \n",
      " (5332, 11)\n",
      "Df de los df_s6m4_LaVenganza \n",
      " (317, 11)\n",
      "Df de los df_s6m4_LaVenganza \n",
      " (307, 11)\n",
      "Df de los mers \n",
      " (5015, 11)\n",
      "901\n",
      "Df de los mers \n",
      " (5015, 11)\n",
      "DataFrameConcatenado\n",
      " (5322, 11)\n",
      "DataFrameConcatenado sin dupl\n",
      " (3033, 11)\n"
     ]
    },
    {
     "name": "stderr",
     "output_type": "stream",
     "text": [
      "<ipython-input-4-31de93231e4c>:43: SettingWithCopyWarning: \n",
      "A value is trying to be set on a copy of a slice from a DataFrame\n",
      "\n",
      "See the caveats in the documentation: https://pandas.pydata.org/pandas-docs/stable/user_guide/indexing.html#returning-a-view-versus-a-copy\n",
      "  df_s6m4_LaVenganza.drop_duplicates(['gen_name'], inplace=True, keep=False)\n"
     ]
    },
    {
     "name": "stdout",
     "output_type": "stream",
     "text": [
      "----------------------------------------------\n",
      "hsa-miR-30d-5p \n",
      " (6022, 11)\n",
      "hsa-miR-30d-5p \n",
      " (5044, 11)\n",
      "Df de los df_s6m4_LaVenganza \n",
      " (29, 11)\n",
      "Df de los df_s6m4_LaVenganza \n",
      " (29, 11)\n",
      "Df de los mers \n",
      " (5015, 11)\n",
      "901\n",
      "Df de los mers \n",
      " (5015, 11)\n",
      "DataFrameConcatenado\n",
      " (5044, 11)\n",
      "DataFrameConcatenado sin dupl\n",
      " (3033, 11)\n"
     ]
    },
    {
     "name": "stderr",
     "output_type": "stream",
     "text": [
      "<ipython-input-4-31de93231e4c>:43: SettingWithCopyWarning: \n",
      "A value is trying to be set on a copy of a slice from a DataFrame\n",
      "\n",
      "See the caveats in the documentation: https://pandas.pydata.org/pandas-docs/stable/user_guide/indexing.html#returning-a-view-versus-a-copy\n",
      "  df_s6m4_LaVenganza.drop_duplicates(['gen_name'], inplace=True, keep=False)\n"
     ]
    },
    {
     "name": "stdout",
     "output_type": "stream",
     "text": [
      "----------------------------------------------\n",
      "hsa-miR-30e-5p \n",
      " (6324, 11)\n",
      "hsa-miR-30e-5p \n",
      " (5272, 11)\n",
      "Df de los df_s6m4_LaVenganza \n",
      " (257, 11)\n",
      "Df de los df_s6m4_LaVenganza \n",
      " (251, 11)\n",
      "Df de los mers \n",
      " (5015, 11)\n",
      "901\n",
      "Df de los mers \n",
      " (5015, 11)\n",
      "DataFrameConcatenado\n",
      " (5266, 11)\n",
      "DataFrameConcatenado sin dupl\n",
      " (3033, 11)\n"
     ]
    },
    {
     "name": "stderr",
     "output_type": "stream",
     "text": [
      "<ipython-input-4-31de93231e4c>:43: SettingWithCopyWarning: \n",
      "A value is trying to be set on a copy of a slice from a DataFrame\n",
      "\n",
      "See the caveats in the documentation: https://pandas.pydata.org/pandas-docs/stable/user_guide/indexing.html#returning-a-view-versus-a-copy\n",
      "  df_s6m4_LaVenganza.drop_duplicates(['gen_name'], inplace=True, keep=False)\n"
     ]
    },
    {
     "name": "stdout",
     "output_type": "stream",
     "text": [
      "----------------------------------------------\n",
      "hsa-miR-32-5p \n",
      " (7791, 11)\n",
      "hsa-miR-32-5p \n",
      " (5535, 11)\n",
      "Df de los df_s6m4_LaVenganza \n",
      " (282, 11)\n",
      "Df de los df_s6m4_LaVenganza \n",
      " (276, 11)\n",
      "Df de los mers \n",
      " (5253, 11)\n",
      "904\n",
      "Df de los mers \n",
      " (5253, 11)\n",
      "DataFrameConcatenado\n",
      " (5529, 11)\n",
      "DataFrameConcatenado sin dupl\n",
      " (3338, 11)\n"
     ]
    },
    {
     "name": "stderr",
     "output_type": "stream",
     "text": [
      "<ipython-input-4-31de93231e4c>:43: SettingWithCopyWarning: \n",
      "A value is trying to be set on a copy of a slice from a DataFrame\n",
      "\n",
      "See the caveats in the documentation: https://pandas.pydata.org/pandas-docs/stable/user_guide/indexing.html#returning-a-view-versus-a-copy\n",
      "  df_s6m4_LaVenganza.drop_duplicates(['gen_name'], inplace=True, keep=False)\n"
     ]
    },
    {
     "name": "stdout",
     "output_type": "stream",
     "text": [
      "----------------------------------------------\n",
      "hsa-miR-338-3p \n",
      " (12679, 11)\n",
      "hsa-miR-338-3p \n",
      " (7081, 11)\n",
      "Df de los df_s6m4_LaVenganza \n",
      " (245, 11)\n",
      "Df de los df_s6m4_LaVenganza \n",
      " (239, 11)\n",
      "Df de los mers \n",
      " (6836, 11)\n",
      "1460\n",
      "Df de los mers \n",
      " (6836, 11)\n",
      "DataFrameConcatenado\n",
      " (7075, 11)\n",
      "DataFrameConcatenado sin dupl\n",
      " (3691, 11)\n"
     ]
    },
    {
     "name": "stderr",
     "output_type": "stream",
     "text": [
      "<ipython-input-4-31de93231e4c>:43: SettingWithCopyWarning: \n",
      "A value is trying to be set on a copy of a slice from a DataFrame\n",
      "\n",
      "See the caveats in the documentation: https://pandas.pydata.org/pandas-docs/stable/user_guide/indexing.html#returning-a-view-versus-a-copy\n",
      "  df_s6m4_LaVenganza.drop_duplicates(['gen_name'], inplace=True, keep=False)\n"
     ]
    },
    {
     "name": "stdout",
     "output_type": "stream",
     "text": [
      "----------------------------------------------\n",
      "hsa-miR-34a-5p \n",
      " (8853, 11)\n",
      "hsa-miR-34a-5p \n",
      " (6953, 11)\n",
      "Df de los df_s6m4_LaVenganza \n",
      " (537, 11)\n",
      "Df de los df_s6m4_LaVenganza \n",
      " (505, 11)\n",
      "Df de los mers \n",
      " (6416, 11)\n",
      "1276\n",
      "Df de los mers \n",
      " (6416, 11)\n",
      "DataFrameConcatenado\n",
      " (6921, 11)\n",
      "DataFrameConcatenado sin dupl\n",
      " (3641, 11)\n"
     ]
    },
    {
     "name": "stderr",
     "output_type": "stream",
     "text": [
      "<ipython-input-4-31de93231e4c>:43: SettingWithCopyWarning: \n",
      "A value is trying to be set on a copy of a slice from a DataFrame\n",
      "\n",
      "See the caveats in the documentation: https://pandas.pydata.org/pandas-docs/stable/user_guide/indexing.html#returning-a-view-versus-a-copy\n",
      "  df_s6m4_LaVenganza.drop_duplicates(['gen_name'], inplace=True, keep=False)\n"
     ]
    },
    {
     "name": "stdout",
     "output_type": "stream",
     "text": [
      "----------------------------------------------\n",
      "hsa-miR-34c-5p \n",
      " (8359, 11)\n",
      "hsa-miR-34c-5p \n",
      " (6617, 11)\n",
      "Df de los df_s6m4_LaVenganza \n",
      " (201, 11)\n",
      "Df de los df_s6m4_LaVenganza \n",
      " (197, 11)\n",
      "Df de los mers \n",
      " (6416, 11)\n",
      "1276\n",
      "Df de los mers \n",
      " (6416, 11)\n",
      "DataFrameConcatenado\n",
      " (6613, 11)\n",
      "DataFrameConcatenado sin dupl\n",
      " (3641, 11)\n"
     ]
    },
    {
     "name": "stderr",
     "output_type": "stream",
     "text": [
      "<ipython-input-4-31de93231e4c>:43: SettingWithCopyWarning: \n",
      "A value is trying to be set on a copy of a slice from a DataFrame\n",
      "\n",
      "See the caveats in the documentation: https://pandas.pydata.org/pandas-docs/stable/user_guide/indexing.html#returning-a-view-versus-a-copy\n",
      "  df_s6m4_LaVenganza.drop_duplicates(['gen_name'], inplace=True, keep=False)\n"
     ]
    },
    {
     "name": "stdout",
     "output_type": "stream",
     "text": [
      "----------------------------------------------\n",
      "hsa-miR-363-3p \n",
      " (8892, 11)\n",
      "hsa-miR-363-3p \n",
      " (6250, 11)\n",
      "Df de los df_s6m4_LaVenganza \n",
      " (592, 11)\n",
      "Df de los df_s6m4_LaVenganza \n",
      " (572, 11)\n",
      "Df de los mers \n",
      " (5658, 11)\n",
      "1058\n",
      "Df de los mers \n",
      " (5658, 11)\n",
      "DataFrameConcatenado\n",
      " (6230, 11)\n",
      "DataFrameConcatenado sin dupl\n",
      " (3397, 11)\n"
     ]
    },
    {
     "name": "stderr",
     "output_type": "stream",
     "text": [
      "<ipython-input-4-31de93231e4c>:43: SettingWithCopyWarning: \n",
      "A value is trying to be set on a copy of a slice from a DataFrame\n",
      "\n",
      "See the caveats in the documentation: https://pandas.pydata.org/pandas-docs/stable/user_guide/indexing.html#returning-a-view-versus-a-copy\n",
      "  df_s6m4_LaVenganza.drop_duplicates(['gen_name'], inplace=True, keep=False)\n"
     ]
    },
    {
     "name": "stdout",
     "output_type": "stream",
     "text": [
      "----------------------------------------------\n",
      "hsa-miR-429 \n",
      " (9853, 11)\n",
      "hsa-miR-429 \n",
      " (5801, 11)\n",
      "Df de los df_s6m4_LaVenganza \n",
      " (362, 11)\n",
      "Df de los df_s6m4_LaVenganza \n",
      " (354, 11)\n",
      "Df de los mers \n",
      " (5439, 11)\n",
      "1089\n",
      "Df de los mers \n",
      " (5439, 11)\n",
      "DataFrameConcatenado\n",
      " (5793, 11)\n",
      "DataFrameConcatenado sin dupl\n",
      " (3077, 11)\n"
     ]
    },
    {
     "name": "stderr",
     "output_type": "stream",
     "text": [
      "<ipython-input-4-31de93231e4c>:43: SettingWithCopyWarning: \n",
      "A value is trying to be set on a copy of a slice from a DataFrame\n",
      "\n",
      "See the caveats in the documentation: https://pandas.pydata.org/pandas-docs/stable/user_guide/indexing.html#returning-a-view-versus-a-copy\n",
      "  df_s6m4_LaVenganza.drop_duplicates(['gen_name'], inplace=True, keep=False)\n"
     ]
    },
    {
     "name": "stdout",
     "output_type": "stream",
     "text": [
      "----------------------------------------------\n",
      "hsa-miR-455-3p \n",
      " (8070, 11)\n",
      "hsa-miR-455-3p \n",
      " (6280, 11)\n",
      "Df de los df_s6m4_LaVenganza \n",
      " (304, 11)\n",
      "Df de los df_s6m4_LaVenganza \n",
      " (298, 11)\n",
      "Df de los mers \n",
      " (5976, 11)\n",
      "1034\n",
      "Df de los mers \n",
      " (5976, 11)\n",
      "DataFrameConcatenado\n",
      " (6274, 11)\n",
      "DataFrameConcatenado sin dupl\n",
      " (3773, 11)\n"
     ]
    },
    {
     "name": "stderr",
     "output_type": "stream",
     "text": [
      "<ipython-input-4-31de93231e4c>:43: SettingWithCopyWarning: \n",
      "A value is trying to be set on a copy of a slice from a DataFrame\n",
      "\n",
      "See the caveats in the documentation: https://pandas.pydata.org/pandas-docs/stable/user_guide/indexing.html#returning-a-view-versus-a-copy\n",
      "  df_s6m4_LaVenganza.drop_duplicates(['gen_name'], inplace=True, keep=False)\n"
     ]
    },
    {
     "name": "stdout",
     "output_type": "stream",
     "text": [
      "----------------------------------------------\n",
      "hsa-miR-7-5p \n",
      " (12022, 11)\n",
      "hsa-miR-7-5p \n",
      " (6964, 11)\n",
      "Df de los df_s6m4_LaVenganza \n",
      " (289, 11)\n",
      "Df de los df_s6m4_LaVenganza \n",
      " (285, 11)\n",
      "Df de los mers \n",
      " (6675, 11)\n",
      "1348\n",
      "Df de los mers \n",
      " (6675, 11)\n",
      "DataFrameConcatenado\n",
      " (6960, 11)\n",
      "DataFrameConcatenado sin dupl\n",
      " (3800, 11)\n"
     ]
    },
    {
     "name": "stderr",
     "output_type": "stream",
     "text": [
      "<ipython-input-4-31de93231e4c>:43: SettingWithCopyWarning: \n",
      "A value is trying to be set on a copy of a slice from a DataFrame\n",
      "\n",
      "See the caveats in the documentation: https://pandas.pydata.org/pandas-docs/stable/user_guide/indexing.html#returning-a-view-versus-a-copy\n",
      "  df_s6m4_LaVenganza.drop_duplicates(['gen_name'], inplace=True, keep=False)\n"
     ]
    },
    {
     "name": "stdout",
     "output_type": "stream",
     "text": [
      "----------------------------------------------\n",
      "hsa-miR-9-5p \n",
      " (11107, 11)\n",
      "hsa-miR-9-5p \n",
      " (6745, 11)\n",
      "Df de los df_s6m4_LaVenganza \n",
      " (203, 11)\n",
      "Df de los df_s6m4_LaVenganza \n",
      " (199, 11)\n",
      "Df de los mers \n",
      " (6542, 11)\n",
      "1284\n",
      "Df de los mers \n",
      " (6542, 11)\n",
      "DataFrameConcatenado\n",
      " (6741, 11)\n",
      "DataFrameConcatenado sin dupl\n",
      " (3781, 11)\n"
     ]
    },
    {
     "name": "stderr",
     "output_type": "stream",
     "text": [
      "<ipython-input-4-31de93231e4c>:43: SettingWithCopyWarning: \n",
      "A value is trying to be set on a copy of a slice from a DataFrame\n",
      "\n",
      "See the caveats in the documentation: https://pandas.pydata.org/pandas-docs/stable/user_guide/indexing.html#returning-a-view-versus-a-copy\n",
      "  df_s6m4_LaVenganza.drop_duplicates(['gen_name'], inplace=True, keep=False)\n"
     ]
    },
    {
     "name": "stdout",
     "output_type": "stream",
     "text": [
      "----------------------------------------------\n",
      "hsa-miR-93-5p \n",
      " (10055, 11)\n",
      "hsa-miR-93-5p \n",
      " (6135, 11)\n",
      "Df de los df_s6m4_LaVenganza \n",
      " (177, 11)\n",
      "Df de los df_s6m4_LaVenganza \n",
      " (177, 11)\n",
      "Df de los mers \n",
      " (5958, 11)\n",
      "1082\n",
      "Df de los mers \n",
      " (5958, 11)\n",
      "DataFrameConcatenado\n",
      " (6135, 11)\n",
      "DataFrameConcatenado sin dupl\n",
      " (3656, 11)\n"
     ]
    },
    {
     "name": "stderr",
     "output_type": "stream",
     "text": [
      "<ipython-input-4-31de93231e4c>:43: SettingWithCopyWarning: \n",
      "A value is trying to be set on a copy of a slice from a DataFrame\n",
      "\n",
      "See the caveats in the documentation: https://pandas.pydata.org/pandas-docs/stable/user_guide/indexing.html#returning-a-view-versus-a-copy\n",
      "  df_s6m4_LaVenganza.drop_duplicates(['gen_name'], inplace=True, keep=False)\n"
     ]
    },
    {
     "name": "stdout",
     "output_type": "stream",
     "text": [
      "----------------------------------------------\n",
      "hsa-miR-98-5p \n",
      " (6507, 11)\n",
      "hsa-miR-98-5p \n",
      " (5382, 11)\n",
      "Df de los df_s6m4_LaVenganza \n",
      " (286, 11)\n",
      "Df de los df_s6m4_LaVenganza \n",
      " (280, 11)\n",
      "Df de los mers \n",
      " (5096, 11)\n",
      "864\n",
      "Df de los mers \n",
      " (5096, 11)\n",
      "DataFrameConcatenado\n",
      " (5376, 11)\n",
      "DataFrameConcatenado sin dupl\n",
      " (3253, 11)\n"
     ]
    },
    {
     "name": "stderr",
     "output_type": "stream",
     "text": [
      "<ipython-input-4-31de93231e4c>:43: SettingWithCopyWarning: \n",
      "A value is trying to be set on a copy of a slice from a DataFrame\n",
      "\n",
      "See the caveats in the documentation: https://pandas.pydata.org/pandas-docs/stable/user_guide/indexing.html#returning-a-view-versus-a-copy\n",
      "  df_s6m4_LaVenganza.drop_duplicates(['gen_name'], inplace=True, keep=False)\n"
     ]
    },
    {
     "name": "stdout",
     "output_type": "stream",
     "text": [
      "----------------------------------------------\n",
      "hsa-miR-1271-5p \n",
      " (9682, 11)\n",
      "hsa-miR-1271-5p \n",
      " (6905, 11)\n",
      "Df de los df_s6m4_LaVenganza \n",
      " (433, 11)\n",
      "Df de los df_s6m4_LaVenganza \n",
      " (425, 11)\n",
      "Df de los mers \n",
      " (6472, 11)\n",
      "1222\n",
      "Df de los mers \n",
      " (6472, 11)\n",
      "DataFrameConcatenado\n",
      " (6897, 11)\n",
      "DataFrameConcatenado sin dupl\n",
      " (3884, 11)\n"
     ]
    },
    {
     "name": "stderr",
     "output_type": "stream",
     "text": [
      "<ipython-input-4-31de93231e4c>:43: SettingWithCopyWarning: \n",
      "A value is trying to be set on a copy of a slice from a DataFrame\n",
      "\n",
      "See the caveats in the documentation: https://pandas.pydata.org/pandas-docs/stable/user_guide/indexing.html#returning-a-view-versus-a-copy\n",
      "  df_s6m4_LaVenganza.drop_duplicates(['gen_name'], inplace=True, keep=False)\n"
     ]
    },
    {
     "name": "stdout",
     "output_type": "stream",
     "text": [
      "----------------------------------------------\n",
      "hsa-miR-146a-5p \n",
      " (7759, 11)\n",
      "hsa-miR-146a-5p \n",
      " (6041, 11)\n",
      "Df de los df_s6m4_LaVenganza \n",
      " (469, 11)\n",
      "Df de los df_s6m4_LaVenganza \n",
      " (455, 11)\n",
      "Df de los mers \n",
      " (5572, 11)\n",
      "950\n",
      "Df de los mers \n",
      " (5572, 11)\n",
      "DataFrameConcatenado\n",
      " (6027, 11)\n",
      "DataFrameConcatenado sin dupl\n",
      " (3529, 11)\n"
     ]
    },
    {
     "name": "stderr",
     "output_type": "stream",
     "text": [
      "<ipython-input-4-31de93231e4c>:43: SettingWithCopyWarning: \n",
      "A value is trying to be set on a copy of a slice from a DataFrame\n",
      "\n",
      "See the caveats in the documentation: https://pandas.pydata.org/pandas-docs/stable/user_guide/indexing.html#returning-a-view-versus-a-copy\n",
      "  df_s6m4_LaVenganza.drop_duplicates(['gen_name'], inplace=True, keep=False)\n"
     ]
    },
    {
     "name": "stdout",
     "output_type": "stream",
     "text": [
      "----------------------------------------------\n",
      "hsa-miR-146b-5p \n",
      " (7759, 11)\n",
      "hsa-miR-146b-5p \n",
      " (6041, 11)\n",
      "Df de los df_s6m4_LaVenganza \n",
      " (469, 11)\n",
      "Df de los df_s6m4_LaVenganza \n",
      " (455, 11)\n",
      "Df de los mers \n",
      " (5572, 11)\n",
      "950\n",
      "Df de los mers \n",
      " (5572, 11)\n",
      "DataFrameConcatenado\n",
      " (6027, 11)\n",
      "DataFrameConcatenado sin dupl\n",
      " (3529, 11)\n"
     ]
    },
    {
     "name": "stderr",
     "output_type": "stream",
     "text": [
      "<ipython-input-4-31de93231e4c>:43: SettingWithCopyWarning: \n",
      "A value is trying to be set on a copy of a slice from a DataFrame\n",
      "\n",
      "See the caveats in the documentation: https://pandas.pydata.org/pandas-docs/stable/user_guide/indexing.html#returning-a-view-versus-a-copy\n",
      "  df_s6m4_LaVenganza.drop_duplicates(['gen_name'], inplace=True, keep=False)\n"
     ]
    },
    {
     "name": "stdout",
     "output_type": "stream",
     "text": [
      "----------------------------------------------\n",
      "hsa-miR-182-5p \n",
      " (10189, 11)\n",
      "hsa-miR-182-5p \n",
      " (7462, 11)\n",
      "Df de los df_s6m4_LaVenganza \n",
      " (719, 11)\n",
      "Df de los df_s6m4_LaVenganza \n",
      " (669, 11)\n",
      "Df de los mers \n",
      " (6743, 11)\n",
      "1348\n",
      "Df de los mers \n",
      " (6743, 11)\n",
      "DataFrameConcatenado\n",
      " (7412, 11)\n",
      "DataFrameConcatenado sin dupl\n",
      " (3823, 11)\n"
     ]
    },
    {
     "name": "stderr",
     "output_type": "stream",
     "text": [
      "<ipython-input-4-31de93231e4c>:43: SettingWithCopyWarning: \n",
      "A value is trying to be set on a copy of a slice from a DataFrame\n",
      "\n",
      "See the caveats in the documentation: https://pandas.pydata.org/pandas-docs/stable/user_guide/indexing.html#returning-a-view-versus-a-copy\n",
      "  df_s6m4_LaVenganza.drop_duplicates(['gen_name'], inplace=True, keep=False)\n"
     ]
    },
    {
     "name": "stdout",
     "output_type": "stream",
     "text": [
      "----------------------------------------------\n",
      "hsa-miR-205-5p \n",
      " (10007, 11)\n",
      "hsa-miR-205-5p \n",
      " (6861, 11)\n",
      "Df de los df_s6m4_LaVenganza \n",
      " (129, 11)\n",
      "Df de los df_s6m4_LaVenganza \n",
      " (125, 11)\n",
      "Df de los mers \n",
      " (6732, 11)\n",
      "1392\n",
      "Df de los mers \n",
      " (6732, 11)\n",
      "DataFrameConcatenado\n",
      " (6857, 11)\n",
      "DataFrameConcatenado sin dupl\n",
      " (3714, 11)\n"
     ]
    },
    {
     "name": "stderr",
     "output_type": "stream",
     "text": [
      "<ipython-input-4-31de93231e4c>:43: SettingWithCopyWarning: \n",
      "A value is trying to be set on a copy of a slice from a DataFrame\n",
      "\n",
      "See the caveats in the documentation: https://pandas.pydata.org/pandas-docs/stable/user_guide/indexing.html#returning-a-view-versus-a-copy\n",
      "  df_s6m4_LaVenganza.drop_duplicates(['gen_name'], inplace=True, keep=False)\n"
     ]
    },
    {
     "name": "stdout",
     "output_type": "stream",
     "text": [
      "----------------------------------------------\n",
      "hsa-miR-210-3p \n",
      " (2068, 11)\n",
      "hsa-miR-210-3p \n",
      " (1922, 11)\n",
      "Df de los df_s6m4_LaVenganza \n",
      " (208, 11)\n",
      "Df de los df_s6m4_LaVenganza \n",
      " (204, 11)\n",
      "Df de los mers \n",
      " (1714, 11)\n",
      "97\n",
      "Df de los mers \n",
      " (1714, 11)\n",
      "DataFrameConcatenado\n",
      " (1918, 11)\n",
      "DataFrameConcatenado sin dupl\n",
      " (1514, 11)\n"
     ]
    },
    {
     "name": "stderr",
     "output_type": "stream",
     "text": [
      "<ipython-input-4-31de93231e4c>:43: SettingWithCopyWarning: \n",
      "A value is trying to be set on a copy of a slice from a DataFrame\n",
      "\n",
      "See the caveats in the documentation: https://pandas.pydata.org/pandas-docs/stable/user_guide/indexing.html#returning-a-view-versus-a-copy\n",
      "  df_s6m4_LaVenganza.drop_duplicates(['gen_name'], inplace=True, keep=False)\n"
     ]
    },
    {
     "name": "stdout",
     "output_type": "stream",
     "text": [
      "----------------------------------------------\n",
      "hsa-miR-26a-5p \n",
      " (9544, 11)\n",
      "hsa-miR-26a-5p \n",
      " (6452, 11)\n",
      "Df de los df_s6m4_LaVenganza \n",
      " (383, 11)\n",
      "Df de los df_s6m4_LaVenganza \n",
      " (374, 11)\n",
      "Df de los mers \n",
      " (6069, 11)\n",
      "1213\n",
      "Df de los mers \n",
      " (6069, 11)\n",
      "DataFrameConcatenado\n",
      " (6443, 11)\n",
      "DataFrameConcatenado sin dupl\n",
      " (3454, 11)\n"
     ]
    },
    {
     "name": "stderr",
     "output_type": "stream",
     "text": [
      "<ipython-input-4-31de93231e4c>:43: SettingWithCopyWarning: \n",
      "A value is trying to be set on a copy of a slice from a DataFrame\n",
      "\n",
      "See the caveats in the documentation: https://pandas.pydata.org/pandas-docs/stable/user_guide/indexing.html#returning-a-view-versus-a-copy\n",
      "  df_s6m4_LaVenganza.drop_duplicates(['gen_name'], inplace=True, keep=False)\n"
     ]
    },
    {
     "name": "stdout",
     "output_type": "stream",
     "text": [
      "----------------------------------------------\n",
      "hsa-miR-26b-5p \n",
      " (9544, 11)\n",
      "hsa-miR-26b-5p \n",
      " (6452, 11)\n",
      "Df de los df_s6m4_LaVenganza \n",
      " (383, 11)\n",
      "Df de los df_s6m4_LaVenganza \n",
      " (374, 11)\n",
      "Df de los mers \n",
      " (6069, 11)\n",
      "1213\n",
      "Df de los mers \n",
      " (6069, 11)\n",
      "DataFrameConcatenado\n",
      " (6443, 11)\n",
      "DataFrameConcatenado sin dupl\n",
      " (3454, 11)\n"
     ]
    },
    {
     "name": "stderr",
     "output_type": "stream",
     "text": [
      "<ipython-input-4-31de93231e4c>:43: SettingWithCopyWarning: \n",
      "A value is trying to be set on a copy of a slice from a DataFrame\n",
      "\n",
      "See the caveats in the documentation: https://pandas.pydata.org/pandas-docs/stable/user_guide/indexing.html#returning-a-view-versus-a-copy\n",
      "  df_s6m4_LaVenganza.drop_duplicates(['gen_name'], inplace=True, keep=False)\n"
     ]
    },
    {
     "name": "stdout",
     "output_type": "stream",
     "text": [
      "----------------------------------------------\n",
      "hsa-miR-33a-5p \n",
      " (10020, 11)\n",
      "hsa-miR-33a-5p \n",
      " (6131, 11)\n",
      "Df de los df_s6m4_LaVenganza \n",
      " (432, 11)\n",
      "Df de los df_s6m4_LaVenganza \n",
      " (414, 11)\n",
      "Df de los mers \n",
      " (5699, 11)\n",
      "1065\n",
      "Df de los mers \n",
      " (5699, 11)\n",
      "DataFrameConcatenado\n",
      " (6113, 11)\n",
      "DataFrameConcatenado sin dupl\n",
      " (3430, 11)\n"
     ]
    },
    {
     "name": "stderr",
     "output_type": "stream",
     "text": [
      "<ipython-input-4-31de93231e4c>:43: SettingWithCopyWarning: \n",
      "A value is trying to be set on a copy of a slice from a DataFrame\n",
      "\n",
      "See the caveats in the documentation: https://pandas.pydata.org/pandas-docs/stable/user_guide/indexing.html#returning-a-view-versus-a-copy\n",
      "  df_s6m4_LaVenganza.drop_duplicates(['gen_name'], inplace=True, keep=False)\n"
     ]
    },
    {
     "name": "stdout",
     "output_type": "stream",
     "text": [
      "----------------------------------------------\n",
      "hsa-miR-33b-5p \n",
      " (10190, 11)\n",
      "hsa-miR-33b-5p \n",
      " (6193, 11)\n",
      "Df de los df_s6m4_LaVenganza \n",
      " (431, 11)\n",
      "Df de los df_s6m4_LaVenganza \n",
      " (417, 11)\n",
      "Df de los mers \n",
      " (5762, 11)\n",
      "1100\n",
      "Df de los mers \n",
      " (5762, 11)\n",
      "DataFrameConcatenado\n",
      " (6179, 11)\n",
      "DataFrameConcatenado sin dupl\n",
      " (3412, 11)\n"
     ]
    },
    {
     "name": "stderr",
     "output_type": "stream",
     "text": [
      "<ipython-input-4-31de93231e4c>:43: SettingWithCopyWarning: \n",
      "A value is trying to be set on a copy of a slice from a DataFrame\n",
      "\n",
      "See the caveats in the documentation: https://pandas.pydata.org/pandas-docs/stable/user_guide/indexing.html#returning-a-view-versus-a-copy\n",
      "  df_s6m4_LaVenganza.drop_duplicates(['gen_name'], inplace=True, keep=False)\n"
     ]
    },
    {
     "name": "stdout",
     "output_type": "stream",
     "text": [
      "----------------------------------------------\n",
      "hsa-miR-365a-3p \n",
      " (8237, 11)\n",
      "hsa-miR-365a-3p \n",
      " (5972, 11)\n",
      "Df de los df_s6m4_LaVenganza \n",
      " (677, 11)\n",
      "Df de los df_s6m4_LaVenganza \n",
      " (643, 11)\n",
      "Df de los mers \n",
      " (5295, 11)\n",
      "860\n",
      "Df de los mers \n",
      " (5295, 11)\n",
      "DataFrameConcatenado\n",
      " (5938, 11)\n",
      "DataFrameConcatenado sin dupl\n",
      " (3478, 11)\n"
     ]
    },
    {
     "name": "stderr",
     "output_type": "stream",
     "text": [
      "<ipython-input-4-31de93231e4c>:43: SettingWithCopyWarning: \n",
      "A value is trying to be set on a copy of a slice from a DataFrame\n",
      "\n",
      "See the caveats in the documentation: https://pandas.pydata.org/pandas-docs/stable/user_guide/indexing.html#returning-a-view-versus-a-copy\n",
      "  df_s6m4_LaVenganza.drop_duplicates(['gen_name'], inplace=True, keep=False)\n"
     ]
    },
    {
     "name": "stdout",
     "output_type": "stream",
     "text": [
      "----------------------------------------------\n",
      "hsa-miR-128-3p \n",
      " (11373, 11)\n",
      "hsa-miR-128-3p \n",
      " (7746, 11)\n",
      "Df de los df_s6m4_LaVenganza \n",
      " (334, 11)\n",
      "Df de los df_s6m4_LaVenganza \n",
      " (320, 11)\n",
      "Df de los mers \n",
      " (7412, 11)\n",
      "1617\n",
      "Df de los mers \n",
      " (7412, 11)\n",
      "DataFrameConcatenado\n",
      " (7732, 11)\n",
      "DataFrameConcatenado sin dupl\n",
      " (3879, 11)\n"
     ]
    },
    {
     "name": "stderr",
     "output_type": "stream",
     "text": [
      "<ipython-input-4-31de93231e4c>:43: SettingWithCopyWarning: \n",
      "A value is trying to be set on a copy of a slice from a DataFrame\n",
      "\n",
      "See the caveats in the documentation: https://pandas.pydata.org/pandas-docs/stable/user_guide/indexing.html#returning-a-view-versus-a-copy\n",
      "  df_s6m4_LaVenganza.drop_duplicates(['gen_name'], inplace=True, keep=False)\n"
     ]
    },
    {
     "name": "stdout",
     "output_type": "stream",
     "text": [
      "----------------------------------------------\n",
      "hsa-miR-129-5p \n",
      " (16445, 11)\n",
      "hsa-miR-129-5p \n",
      " (6871, 11)\n",
      "Df de los df_s6m4_LaVenganza \n",
      " (428, 11)\n",
      "Df de los df_s6m4_LaVenganza \n",
      " (398, 11)\n",
      "Df de los mers \n",
      " (6443, 11)\n",
      "1593\n",
      "Df de los mers \n",
      " (6443, 11)\n",
      "DataFrameConcatenado\n",
      " (6841, 11)\n",
      "DataFrameConcatenado sin dupl\n",
      " (2905, 11)\n"
     ]
    },
    {
     "name": "stderr",
     "output_type": "stream",
     "text": [
      "<ipython-input-4-31de93231e4c>:43: SettingWithCopyWarning: \n",
      "A value is trying to be set on a copy of a slice from a DataFrame\n",
      "\n",
      "See the caveats in the documentation: https://pandas.pydata.org/pandas-docs/stable/user_guide/indexing.html#returning-a-view-versus-a-copy\n",
      "  df_s6m4_LaVenganza.drop_duplicates(['gen_name'], inplace=True, keep=False)\n"
     ]
    },
    {
     "name": "stdout",
     "output_type": "stream",
     "text": [
      "----------------------------------------------\n",
      "hsa-miR-130a-3p \n",
      " (9396, 11)\n",
      "hsa-miR-130a-3p \n",
      " (6318, 11)\n",
      "Df de los df_s6m4_LaVenganza \n",
      " (566, 11)\n",
      "Df de los df_s6m4_LaVenganza \n",
      " (536, 11)\n",
      "Df de los mers \n",
      " (5752, 11)\n",
      "921\n",
      "Df de los mers \n",
      " (5752, 11)\n",
      "DataFrameConcatenado\n",
      " (6288, 11)\n",
      "DataFrameConcatenado sin dupl\n",
      " (3810, 11)\n"
     ]
    },
    {
     "name": "stderr",
     "output_type": "stream",
     "text": [
      "<ipython-input-4-31de93231e4c>:43: SettingWithCopyWarning: \n",
      "A value is trying to be set on a copy of a slice from a DataFrame\n",
      "\n",
      "See the caveats in the documentation: https://pandas.pydata.org/pandas-docs/stable/user_guide/indexing.html#returning-a-view-versus-a-copy\n",
      "  df_s6m4_LaVenganza.drop_duplicates(['gen_name'], inplace=True, keep=False)\n"
     ]
    },
    {
     "name": "stdout",
     "output_type": "stream",
     "text": [
      "----------------------------------------------\n",
      "hsa-miR-130b-3p \n",
      " (9332, 11)\n",
      "hsa-miR-130b-3p \n",
      " (6275, 11)\n",
      "Df de los df_s6m4_LaVenganza \n",
      " (523, 11)\n",
      "Df de los df_s6m4_LaVenganza \n",
      " (501, 11)\n",
      "Df de los mers \n",
      " (5752, 11)\n",
      "921\n",
      "Df de los mers \n",
      " (5752, 11)\n",
      "DataFrameConcatenado\n",
      " (6253, 11)\n",
      "DataFrameConcatenado sin dupl\n",
      " (3810, 11)\n"
     ]
    },
    {
     "name": "stderr",
     "output_type": "stream",
     "text": [
      "<ipython-input-4-31de93231e4c>:43: SettingWithCopyWarning: \n",
      "A value is trying to be set on a copy of a slice from a DataFrame\n",
      "\n",
      "See the caveats in the documentation: https://pandas.pydata.org/pandas-docs/stable/user_guide/indexing.html#returning-a-view-versus-a-copy\n",
      "  df_s6m4_LaVenganza.drop_duplicates(['gen_name'], inplace=True, keep=False)\n"
     ]
    },
    {
     "name": "stdout",
     "output_type": "stream",
     "text": [
      "----------------------------------------------\n",
      "hsa-miR-143-3p \n",
      " (10836, 11)\n",
      "hsa-miR-143-3p \n",
      " (7235, 11)\n",
      "Df de los df_s6m4_LaVenganza \n",
      " (647, 11)\n",
      "Df de los df_s6m4_LaVenganza \n",
      " (583, 11)\n",
      "Df de los mers \n",
      " (6588, 11)\n",
      "1361\n",
      "Df de los mers \n",
      " (6588, 11)\n",
      "DataFrameConcatenado\n",
      " (7171, 11)\n",
      "DataFrameConcatenado sin dupl\n",
      " (3636, 11)\n"
     ]
    },
    {
     "name": "stderr",
     "output_type": "stream",
     "text": [
      "<ipython-input-4-31de93231e4c>:43: SettingWithCopyWarning: \n",
      "A value is trying to be set on a copy of a slice from a DataFrame\n",
      "\n",
      "See the caveats in the documentation: https://pandas.pydata.org/pandas-docs/stable/user_guide/indexing.html#returning-a-view-versus-a-copy\n",
      "  df_s6m4_LaVenganza.drop_duplicates(['gen_name'], inplace=True, keep=False)\n"
     ]
    },
    {
     "name": "stdout",
     "output_type": "stream",
     "text": [
      "----------------------------------------------\n",
      "hsa-miR-145-5p \n",
      " (9979, 11)\n",
      "hsa-miR-145-5p \n",
      " (7196, 11)\n",
      "Df de los df_s6m4_LaVenganza \n",
      " (669, 11)\n",
      "Df de los df_s6m4_LaVenganza \n",
      " (641, 11)\n",
      "Df de los mers \n",
      " (6527, 11)\n",
      "1286\n",
      "Df de los mers \n",
      " (6527, 11)\n",
      "DataFrameConcatenado\n",
      " (7168, 11)\n",
      "DataFrameConcatenado sin dupl\n",
      " (3754, 11)\n"
     ]
    },
    {
     "name": "stderr",
     "output_type": "stream",
     "text": [
      "<ipython-input-4-31de93231e4c>:43: SettingWithCopyWarning: \n",
      "A value is trying to be set on a copy of a slice from a DataFrame\n",
      "\n",
      "See the caveats in the documentation: https://pandas.pydata.org/pandas-docs/stable/user_guide/indexing.html#returning-a-view-versus-a-copy\n",
      "  df_s6m4_LaVenganza.drop_duplicates(['gen_name'], inplace=True, keep=False)\n"
     ]
    },
    {
     "name": "stdout",
     "output_type": "stream",
     "text": [
      "----------------------------------------------\n",
      "hsa-miR-153-3p \n",
      " (8148, 11)\n",
      "hsa-miR-153-3p \n",
      " (5738, 11)\n",
      "Df de los df_s6m4_LaVenganza \n",
      " (741, 11)\n",
      "Df de los df_s6m4_LaVenganza \n",
      " (687, 11)\n",
      "Df de los mers \n",
      " (4997, 11)\n",
      "873\n",
      "Df de los mers \n",
      " (4997, 11)\n",
      "DataFrameConcatenado\n",
      " (5684, 11)\n",
      "DataFrameConcatenado sin dupl\n",
      " (3155, 11)\n"
     ]
    },
    {
     "name": "stderr",
     "output_type": "stream",
     "text": [
      "<ipython-input-4-31de93231e4c>:43: SettingWithCopyWarning: \n",
      "A value is trying to be set on a copy of a slice from a DataFrame\n",
      "\n",
      "See the caveats in the documentation: https://pandas.pydata.org/pandas-docs/stable/user_guide/indexing.html#returning-a-view-versus-a-copy\n",
      "  df_s6m4_LaVenganza.drop_duplicates(['gen_name'], inplace=True, keep=False)\n"
     ]
    },
    {
     "name": "stdout",
     "output_type": "stream",
     "text": [
      "----------------------------------------------\n",
      "hsa-miR-181a-5p \n",
      " (9978, 11)\n",
      "hsa-miR-181a-5p \n",
      " (6652, 11)\n",
      "Df de los df_s6m4_LaVenganza \n",
      " (354, 11)\n",
      "Df de los df_s6m4_LaVenganza \n",
      " (333, 11)\n",
      "Df de los mers \n",
      " (6298, 11)\n",
      "1299\n",
      "Df de los mers \n",
      " (6298, 11)\n",
      "DataFrameConcatenado\n",
      " (6631, 11)\n",
      "DataFrameConcatenado sin dupl\n",
      " (3462, 11)\n"
     ]
    },
    {
     "name": "stderr",
     "output_type": "stream",
     "text": [
      "<ipython-input-4-31de93231e4c>:43: SettingWithCopyWarning: \n",
      "A value is trying to be set on a copy of a slice from a DataFrame\n",
      "\n",
      "See the caveats in the documentation: https://pandas.pydata.org/pandas-docs/stable/user_guide/indexing.html#returning-a-view-versus-a-copy\n",
      "  df_s6m4_LaVenganza.drop_duplicates(['gen_name'], inplace=True, keep=False)\n"
     ]
    },
    {
     "name": "stdout",
     "output_type": "stream",
     "text": [
      "----------------------------------------------\n",
      "hsa-miR-181b-5p \n",
      " (9964, 11)\n",
      "hsa-miR-181b-5p \n",
      " (6682, 11)\n",
      "Df de los df_s6m4_LaVenganza \n",
      " (345, 11)\n",
      "Df de los df_s6m4_LaVenganza \n",
      " (333, 11)\n",
      "Df de los mers \n",
      " (6337, 11)\n",
      "1294\n",
      "Df de los mers \n",
      " (6337, 11)\n",
      "DataFrameConcatenado\n",
      " (6670, 11)\n",
      "DataFrameConcatenado sin dupl\n",
      " (3509, 11)\n"
     ]
    },
    {
     "name": "stderr",
     "output_type": "stream",
     "text": [
      "<ipython-input-4-31de93231e4c>:43: SettingWithCopyWarning: \n",
      "A value is trying to be set on a copy of a slice from a DataFrame\n",
      "\n",
      "See the caveats in the documentation: https://pandas.pydata.org/pandas-docs/stable/user_guide/indexing.html#returning-a-view-versus-a-copy\n",
      "  df_s6m4_LaVenganza.drop_duplicates(['gen_name'], inplace=True, keep=False)\n"
     ]
    },
    {
     "name": "stdout",
     "output_type": "stream",
     "text": [
      "----------------------------------------------\n",
      "hsa-miR-181c-5p \n",
      " (9395, 11)\n",
      "hsa-miR-181c-5p \n",
      " (6330, 11)\n",
      "Df de los df_s6m4_LaVenganza \n",
      " (32, 11)\n",
      "Df de los df_s6m4_LaVenganza \n",
      " (32, 11)\n",
      "Df de los mers \n",
      " (6298, 11)\n",
      "1299\n",
      "Df de los mers \n",
      " (6298, 11)\n",
      "DataFrameConcatenado\n",
      " (6330, 11)\n",
      "DataFrameConcatenado sin dupl\n",
      " (3462, 11)\n"
     ]
    },
    {
     "name": "stderr",
     "output_type": "stream",
     "text": [
      "<ipython-input-4-31de93231e4c>:43: SettingWithCopyWarning: \n",
      "A value is trying to be set on a copy of a slice from a DataFrame\n",
      "\n",
      "See the caveats in the documentation: https://pandas.pydata.org/pandas-docs/stable/user_guide/indexing.html#returning-a-view-versus-a-copy\n",
      "  df_s6m4_LaVenganza.drop_duplicates(['gen_name'], inplace=True, keep=False)\n",
      "/home/juan/anaconda3/lib/python3.8/site-packages/numpy/core/fromnumeric.py:3702: RuntimeWarning: Degrees of freedom <= 0 for slice\n",
      "  return _methods._var(a, axis=axis, dtype=dtype, out=out, ddof=ddof,\n",
      "/home/juan/anaconda3/lib/python3.8/site-packages/numpy/core/_methods.py:253: RuntimeWarning: invalid value encountered in double_scalars\n",
      "  ret = ret.dtype.type(ret / rcount)\n"
     ]
    },
    {
     "name": "stdout",
     "output_type": "stream",
     "text": [
      "----------------------------------------------\n",
      "hsa-miR-181d-5p \n",
      " (9964, 11)\n",
      "hsa-miR-181d-5p \n",
      " (6682, 11)\n",
      "Df de los df_s6m4_LaVenganza \n",
      " (345, 11)\n",
      "Df de los df_s6m4_LaVenganza \n",
      " (333, 11)\n",
      "Df de los mers \n",
      " (6337, 11)\n",
      "1294\n",
      "Df de los mers \n",
      " (6337, 11)\n",
      "DataFrameConcatenado\n",
      " (6670, 11)\n",
      "DataFrameConcatenado sin dupl\n",
      " (3509, 11)\n"
     ]
    },
    {
     "name": "stderr",
     "output_type": "stream",
     "text": [
      "<ipython-input-4-31de93231e4c>:43: SettingWithCopyWarning: \n",
      "A value is trying to be set on a copy of a slice from a DataFrame\n",
      "\n",
      "See the caveats in the documentation: https://pandas.pydata.org/pandas-docs/stable/user_guide/indexing.html#returning-a-view-versus-a-copy\n",
      "  df_s6m4_LaVenganza.drop_duplicates(['gen_name'], inplace=True, keep=False)\n"
     ]
    },
    {
     "name": "stdout",
     "output_type": "stream",
     "text": [
      "----------------------------------------------\n",
      "hsa-miR-192-5p \n",
      " (7911, 11)\n",
      "hsa-miR-192-5p \n",
      " (5446, 11)\n",
      "Df de los df_s6m4_LaVenganza \n",
      " (278, 11)\n",
      "Df de los df_s6m4_LaVenganza \n",
      " (272, 11)\n",
      "Df de los mers \n",
      " (5168, 11)\n",
      "768\n",
      "Df de los mers \n",
      " (5168, 11)\n",
      "DataFrameConcatenado\n",
      " (5440, 11)\n",
      "DataFrameConcatenado sin dupl\n",
      " (3566, 11)\n"
     ]
    },
    {
     "name": "stderr",
     "output_type": "stream",
     "text": [
      "<ipython-input-4-31de93231e4c>:43: SettingWithCopyWarning: \n",
      "A value is trying to be set on a copy of a slice from a DataFrame\n",
      "\n",
      "See the caveats in the documentation: https://pandas.pydata.org/pandas-docs/stable/user_guide/indexing.html#returning-a-view-versus-a-copy\n",
      "  df_s6m4_LaVenganza.drop_duplicates(['gen_name'], inplace=True, keep=False)\n"
     ]
    },
    {
     "name": "stdout",
     "output_type": "stream",
     "text": [
      "----------------------------------------------\n",
      "hsa-miR-193a-5p \n",
      " (7537, 11)\n",
      "hsa-miR-193a-5p \n",
      " (5642, 11)\n",
      "Df de los df_s6m4_LaVenganza \n",
      " (130, 11)\n",
      "Df de los df_s6m4_LaVenganza \n",
      " (126, 11)\n",
      "Df de los mers \n",
      " (5512, 11)\n",
      "947\n",
      "Df de los mers \n",
      " (5512, 11)\n",
      "DataFrameConcatenado\n",
      " (5638, 11)\n",
      "DataFrameConcatenado sin dupl\n",
      " (3472, 11)\n"
     ]
    },
    {
     "name": "stderr",
     "output_type": "stream",
     "text": [
      "<ipython-input-4-31de93231e4c>:43: SettingWithCopyWarning: \n",
      "A value is trying to be set on a copy of a slice from a DataFrame\n",
      "\n",
      "See the caveats in the documentation: https://pandas.pydata.org/pandas-docs/stable/user_guide/indexing.html#returning-a-view-versus-a-copy\n",
      "  df_s6m4_LaVenganza.drop_duplicates(['gen_name'], inplace=True, keep=False)\n"
     ]
    },
    {
     "name": "stdout",
     "output_type": "stream",
     "text": [
      "----------------------------------------------\n",
      "hsa-miR-204-5p \n",
      " (11201, 11)\n",
      "hsa-miR-204-5p \n",
      " (7812, 11)\n",
      "Df de los df_s6m4_LaVenganza \n",
      " (731, 11)\n",
      "Df de los df_s6m4_LaVenganza \n",
      " (693, 11)\n",
      "Df de los mers \n",
      " (7081, 11)\n",
      "1526\n",
      "Df de los mers \n",
      " (7081, 11)\n",
      "DataFrameConcatenado\n",
      " (7774, 11)\n",
      "DataFrameConcatenado sin dupl\n",
      " (3708, 11)\n"
     ]
    },
    {
     "name": "stderr",
     "output_type": "stream",
     "text": [
      "<ipython-input-4-31de93231e4c>:43: SettingWithCopyWarning: \n",
      "A value is trying to be set on a copy of a slice from a DataFrame\n",
      "\n",
      "See the caveats in the documentation: https://pandas.pydata.org/pandas-docs/stable/user_guide/indexing.html#returning-a-view-versus-a-copy\n",
      "  df_s6m4_LaVenganza.drop_duplicates(['gen_name'], inplace=True, keep=False)\n"
     ]
    },
    {
     "name": "stdout",
     "output_type": "stream",
     "text": [
      "----------------------------------------------\n",
      "hsa-miR-215-5p \n",
      " (7911, 11)\n",
      "hsa-miR-215-5p \n",
      " (5446, 11)\n",
      "Df de los df_s6m4_LaVenganza \n",
      " (278, 11)\n",
      "Df de los df_s6m4_LaVenganza \n",
      " (272, 11)\n",
      "Df de los mers \n",
      " (5168, 11)\n",
      "768\n",
      "Df de los mers \n",
      " (5168, 11)\n",
      "DataFrameConcatenado\n",
      " (5440, 11)\n",
      "DataFrameConcatenado sin dupl\n",
      " (3566, 11)\n"
     ]
    },
    {
     "name": "stderr",
     "output_type": "stream",
     "text": [
      "<ipython-input-4-31de93231e4c>:43: SettingWithCopyWarning: \n",
      "A value is trying to be set on a copy of a slice from a DataFrame\n",
      "\n",
      "See the caveats in the documentation: https://pandas.pydata.org/pandas-docs/stable/user_guide/indexing.html#returning-a-view-versus-a-copy\n",
      "  df_s6m4_LaVenganza.drop_duplicates(['gen_name'], inplace=True, keep=False)\n"
     ]
    },
    {
     "name": "stdout",
     "output_type": "stream",
     "text": [
      "----------------------------------------------\n",
      "hsa-miR-219a-5p \n",
      " (4790, 11)\n",
      "hsa-miR-219a-5p \n",
      " (3982, 11)\n",
      "Df de los df_s6m4_LaVenganza \n",
      " (48, 11)\n",
      "Df de los df_s6m4_LaVenganza \n",
      " (48, 11)\n",
      "Df de los mers \n",
      " (3934, 11)\n",
      "586\n",
      "Df de los mers \n",
      " (3934, 11)\n",
      "DataFrameConcatenado\n",
      " (3982, 11)\n",
      "DataFrameConcatenado sin dupl\n",
      " (2706, 11)\n"
     ]
    },
    {
     "name": "stderr",
     "output_type": "stream",
     "text": [
      "<ipython-input-4-31de93231e4c>:43: SettingWithCopyWarning: \n",
      "A value is trying to be set on a copy of a slice from a DataFrame\n",
      "\n",
      "See the caveats in the documentation: https://pandas.pydata.org/pandas-docs/stable/user_guide/indexing.html#returning-a-view-versus-a-copy\n",
      "  df_s6m4_LaVenganza.drop_duplicates(['gen_name'], inplace=True, keep=False)\n"
     ]
    },
    {
     "name": "stdout",
     "output_type": "stream",
     "text": [
      "----------------------------------------------\n",
      "hsa-miR-27a-3p \n",
      " (12596, 11)\n",
      "hsa-miR-27a-3p \n",
      " (7778, 11)\n",
      "Df de los df_s6m4_LaVenganza \n",
      " (546, 11)\n",
      "Df de los df_s6m4_LaVenganza \n",
      " (500, 11)\n",
      "Df de los mers \n",
      " (7232, 11)\n",
      "1557\n",
      "Df de los mers \n",
      " (7232, 11)\n",
      "DataFrameConcatenado\n",
      " (7732, 11)\n",
      "DataFrameConcatenado sin dupl\n",
      " (3841, 11)\n"
     ]
    },
    {
     "name": "stderr",
     "output_type": "stream",
     "text": [
      "<ipython-input-4-31de93231e4c>:43: SettingWithCopyWarning: \n",
      "A value is trying to be set on a copy of a slice from a DataFrame\n",
      "\n",
      "See the caveats in the documentation: https://pandas.pydata.org/pandas-docs/stable/user_guide/indexing.html#returning-a-view-versus-a-copy\n",
      "  df_s6m4_LaVenganza.drop_duplicates(['gen_name'], inplace=True, keep=False)\n"
     ]
    },
    {
     "name": "stdout",
     "output_type": "stream",
     "text": [
      "----------------------------------------------\n",
      "hsa-miR-27b-3p \n",
      " (12596, 11)\n",
      "hsa-miR-27b-3p \n",
      " (7778, 11)\n",
      "Df de los df_s6m4_LaVenganza \n",
      " (546, 11)\n",
      "Df de los df_s6m4_LaVenganza \n",
      " (500, 11)\n",
      "Df de los mers \n",
      " (7232, 11)\n",
      "1557\n",
      "Df de los mers \n",
      " (7232, 11)\n",
      "DataFrameConcatenado\n",
      " (7732, 11)\n",
      "DataFrameConcatenado sin dupl\n",
      " (3841, 11)\n"
     ]
    },
    {
     "name": "stderr",
     "output_type": "stream",
     "text": [
      "<ipython-input-4-31de93231e4c>:43: SettingWithCopyWarning: \n",
      "A value is trying to be set on a copy of a slice from a DataFrame\n",
      "\n",
      "See the caveats in the documentation: https://pandas.pydata.org/pandas-docs/stable/user_guide/indexing.html#returning-a-view-versus-a-copy\n",
      "  df_s6m4_LaVenganza.drop_duplicates(['gen_name'], inplace=True, keep=False)\n"
     ]
    },
    {
     "name": "stdout",
     "output_type": "stream",
     "text": [
      "----------------------------------------------\n",
      "hsa-miR-301a-3p \n",
      " (8833, 11)\n",
      "hsa-miR-301a-3p \n",
      " (6008, 11)\n",
      "Df de los df_s6m4_LaVenganza \n",
      " (256, 11)\n",
      "Df de los df_s6m4_LaVenganza \n",
      " (244, 11)\n",
      "Df de los mers \n",
      " (5752, 11)\n",
      "921\n",
      "Df de los mers \n",
      " (5752, 11)\n",
      "DataFrameConcatenado\n",
      " (5996, 11)\n",
      "DataFrameConcatenado sin dupl\n",
      " (3810, 11)\n"
     ]
    },
    {
     "name": "stderr",
     "output_type": "stream",
     "text": [
      "<ipython-input-4-31de93231e4c>:43: SettingWithCopyWarning: \n",
      "A value is trying to be set on a copy of a slice from a DataFrame\n",
      "\n",
      "See the caveats in the documentation: https://pandas.pydata.org/pandas-docs/stable/user_guide/indexing.html#returning-a-view-versus-a-copy\n",
      "  df_s6m4_LaVenganza.drop_duplicates(['gen_name'], inplace=True, keep=False)\n"
     ]
    },
    {
     "name": "stdout",
     "output_type": "stream",
     "text": [
      "----------------------------------------------\n",
      "hsa-miR-375 \n",
      " (8069, 11)\n",
      "hsa-miR-375 \n",
      " (5433, 11)\n",
      "Df de los df_s6m4_LaVenganza \n",
      " (276, 11)\n",
      "Df de los df_s6m4_LaVenganza \n",
      " (276, 11)\n",
      "Df de los mers \n",
      " (5157, 11)\n",
      "819\n",
      "Df de los mers \n",
      " (5157, 11)\n",
      "DataFrameConcatenado\n",
      " (5433, 11)\n",
      "DataFrameConcatenado sin dupl\n",
      " (3503, 11)\n"
     ]
    },
    {
     "name": "stderr",
     "output_type": "stream",
     "text": [
      "<ipython-input-4-31de93231e4c>:43: SettingWithCopyWarning: \n",
      "A value is trying to be set on a copy of a slice from a DataFrame\n",
      "\n",
      "See the caveats in the documentation: https://pandas.pydata.org/pandas-docs/stable/user_guide/indexing.html#returning-a-view-versus-a-copy\n",
      "  df_s6m4_LaVenganza.drop_duplicates(['gen_name'], inplace=True, keep=False)\n",
      "/home/juan/anaconda3/lib/python3.8/site-packages/numpy/core/fromnumeric.py:3702: RuntimeWarning: Degrees of freedom <= 0 for slice\n",
      "  return _methods._var(a, axis=axis, dtype=dtype, out=out, ddof=ddof,\n",
      "/home/juan/anaconda3/lib/python3.8/site-packages/numpy/core/_methods.py:253: RuntimeWarning: invalid value encountered in double_scalars\n",
      "  ret = ret.dtype.type(ret / rcount)\n"
     ]
    },
    {
     "name": "stdout",
     "output_type": "stream",
     "text": [
      "----------------------------------------------\n",
      "hsa-miR-454-3p \n",
      " (8987, 11)\n",
      "hsa-miR-454-3p \n",
      " (6079, 11)\n",
      "Df de los df_s6m4_LaVenganza \n",
      " (327, 11)\n",
      "Df de los df_s6m4_LaVenganza \n",
      " (323, 11)\n",
      "Df de los mers \n",
      " (5752, 11)\n",
      "921\n",
      "Df de los mers \n",
      " (5752, 11)\n",
      "DataFrameConcatenado\n",
      " (6075, 11)\n",
      "DataFrameConcatenado sin dupl\n",
      " (3810, 11)\n"
     ]
    },
    {
     "name": "stderr",
     "output_type": "stream",
     "text": [
      "<ipython-input-4-31de93231e4c>:43: SettingWithCopyWarning: \n",
      "A value is trying to be set on a copy of a slice from a DataFrame\n",
      "\n",
      "See the caveats in the documentation: https://pandas.pydata.org/pandas-docs/stable/user_guide/indexing.html#returning-a-view-versus-a-copy\n",
      "  df_s6m4_LaVenganza.drop_duplicates(['gen_name'], inplace=True, keep=False)\n"
     ]
    },
    {
     "name": "stdout",
     "output_type": "stream",
     "text": [
      "----------------------------------------------\n",
      "hsa-miR-148a-3p \n",
      " (9462, 11)\n",
      "hsa-miR-148a-3p \n",
      " (7004, 11)\n",
      "Df de los df_s6m4_LaVenganza \n",
      " (626, 11)\n",
      "Df de los df_s6m4_LaVenganza \n",
      " (599, 11)\n",
      "Df de los mers \n",
      " (6378, 11)\n",
      "1193\n",
      "Df de los mers \n",
      " (6378, 11)\n",
      "DataFrameConcatenado\n",
      " (6977, 11)\n",
      "DataFrameConcatenado sin dupl\n",
      " (3809, 11)\n"
     ]
    },
    {
     "name": "stderr",
     "output_type": "stream",
     "text": [
      "<ipython-input-4-31de93231e4c>:43: SettingWithCopyWarning: \n",
      "A value is trying to be set on a copy of a slice from a DataFrame\n",
      "\n",
      "See the caveats in the documentation: https://pandas.pydata.org/pandas-docs/stable/user_guide/indexing.html#returning-a-view-versus-a-copy\n",
      "  df_s6m4_LaVenganza.drop_duplicates(['gen_name'], inplace=True, keep=False)\n"
     ]
    },
    {
     "name": "stdout",
     "output_type": "stream",
     "text": [
      "----------------------------------------------\n",
      "hsa-miR-148b-3p \n",
      " (9408, 11)\n",
      "hsa-miR-148b-3p \n",
      " (6971, 11)\n",
      "Df de los df_s6m4_LaVenganza \n",
      " (601, 11)\n",
      "Df de los df_s6m4_LaVenganza \n",
      " (572, 11)\n",
      "Df de los mers \n",
      " (6370, 11)\n",
      "1192\n",
      "Df de los mers \n",
      " (6370, 11)\n",
      "DataFrameConcatenado\n",
      " (6942, 11)\n",
      "DataFrameConcatenado sin dupl\n",
      " (3815, 11)\n"
     ]
    },
    {
     "name": "stderr",
     "output_type": "stream",
     "text": [
      "<ipython-input-4-31de93231e4c>:43: SettingWithCopyWarning: \n",
      "A value is trying to be set on a copy of a slice from a DataFrame\n",
      "\n",
      "See the caveats in the documentation: https://pandas.pydata.org/pandas-docs/stable/user_guide/indexing.html#returning-a-view-versus-a-copy\n",
      "  df_s6m4_LaVenganza.drop_duplicates(['gen_name'], inplace=True, keep=False)\n"
     ]
    },
    {
     "name": "stdout",
     "output_type": "stream",
     "text": [
      "----------------------------------------------\n",
      "hsa-miR-152-3p \n",
      " (9408, 11)\n",
      "hsa-miR-152-3p \n",
      " (6971, 11)\n",
      "Df de los df_s6m4_LaVenganza \n",
      " (601, 11)\n",
      "Df de los df_s6m4_LaVenganza \n",
      " (572, 11)\n",
      "Df de los mers \n",
      " (6370, 11)\n",
      "1192\n",
      "Df de los mers \n",
      " (6370, 11)\n",
      "DataFrameConcatenado\n",
      " (6942, 11)\n",
      "DataFrameConcatenado sin dupl\n",
      " (3815, 11)\n"
     ]
    },
    {
     "name": "stderr",
     "output_type": "stream",
     "text": [
      "<ipython-input-4-31de93231e4c>:43: SettingWithCopyWarning: \n",
      "A value is trying to be set on a copy of a slice from a DataFrame\n",
      "\n",
      "See the caveats in the documentation: https://pandas.pydata.org/pandas-docs/stable/user_guide/indexing.html#returning-a-view-versus-a-copy\n",
      "  df_s6m4_LaVenganza.drop_duplicates(['gen_name'], inplace=True, keep=False)\n"
     ]
    },
    {
     "name": "stdout",
     "output_type": "stream",
     "text": [
      "----------------------------------------------\n",
      "hsa-miR-155-5p \n",
      " (6105, 11)\n",
      "hsa-miR-155-5p \n",
      " (4864, 11)\n",
      "Df de los df_s6m4_LaVenganza \n",
      " (240, 11)\n",
      "Df de los df_s6m4_LaVenganza \n",
      " (232, 11)\n",
      "Df de los mers \n",
      " (4624, 11)\n",
      "854\n",
      "Df de los mers \n",
      " (4624, 11)\n",
      "DataFrameConcatenado\n",
      " (4856, 11)\n",
      "DataFrameConcatenado sin dupl\n",
      " (2787, 11)\n"
     ]
    },
    {
     "name": "stderr",
     "output_type": "stream",
     "text": [
      "<ipython-input-4-31de93231e4c>:43: SettingWithCopyWarning: \n",
      "A value is trying to be set on a copy of a slice from a DataFrame\n",
      "\n",
      "See the caveats in the documentation: https://pandas.pydata.org/pandas-docs/stable/user_guide/indexing.html#returning-a-view-versus-a-copy\n",
      "  df_s6m4_LaVenganza.drop_duplicates(['gen_name'], inplace=True, keep=False)\n"
     ]
    },
    {
     "name": "stdout",
     "output_type": "stream",
     "text": [
      "----------------------------------------------\n",
      "hsa-miR-199a-5p \n",
      " (9663, 11)\n",
      "hsa-miR-199a-5p \n",
      " (6730, 11)\n",
      "Df de los df_s6m4_LaVenganza \n",
      " (215, 11)\n",
      "Df de los df_s6m4_LaVenganza \n",
      " (211, 11)\n",
      "Df de los mers \n",
      " (6515, 11)\n",
      "1228\n",
      "Df de los mers \n",
      " (6515, 11)\n",
      "DataFrameConcatenado\n",
      " (6726, 11)\n",
      "DataFrameConcatenado sin dupl\n",
      " (3865, 11)\n"
     ]
    },
    {
     "name": "stderr",
     "output_type": "stream",
     "text": [
      "<ipython-input-4-31de93231e4c>:43: SettingWithCopyWarning: \n",
      "A value is trying to be set on a copy of a slice from a DataFrame\n",
      "\n",
      "See the caveats in the documentation: https://pandas.pydata.org/pandas-docs/stable/user_guide/indexing.html#returning-a-view-versus-a-copy\n",
      "  df_s6m4_LaVenganza.drop_duplicates(['gen_name'], inplace=True, keep=False)\n"
     ]
    },
    {
     "name": "stdout",
     "output_type": "stream",
     "text": [
      "----------------------------------------------\n",
      "hsa-miR-199b-5p \n",
      " (9663, 11)\n",
      "hsa-miR-199b-5p \n",
      " (6730, 11)\n",
      "Df de los df_s6m4_LaVenganza \n",
      " (215, 11)\n",
      "Df de los df_s6m4_LaVenganza \n",
      " (211, 11)\n",
      "Df de los mers \n",
      " (6515, 11)\n",
      "1228\n",
      "Df de los mers \n",
      " (6515, 11)\n",
      "DataFrameConcatenado\n",
      " (6726, 11)\n",
      "DataFrameConcatenado sin dupl\n",
      " (3865, 11)\n"
     ]
    },
    {
     "name": "stderr",
     "output_type": "stream",
     "text": [
      "<ipython-input-4-31de93231e4c>:43: SettingWithCopyWarning: \n",
      "A value is trying to be set on a copy of a slice from a DataFrame\n",
      "\n",
      "See the caveats in the documentation: https://pandas.pydata.org/pandas-docs/stable/user_guide/indexing.html#returning-a-view-versus-a-copy\n",
      "  df_s6m4_LaVenganza.drop_duplicates(['gen_name'], inplace=True, keep=False)\n"
     ]
    },
    {
     "name": "stdout",
     "output_type": "stream",
     "text": [
      "----------------------------------------------\n",
      "hsa-miR-142-3p \n",
      " (4619, 11)\n",
      "hsa-miR-142-3p \n",
      " (4006, 11)\n",
      "Df de los df_s6m4_LaVenganza \n",
      " (190, 11)\n",
      "Df de los df_s6m4_LaVenganza \n",
      " (186, 11)\n",
      "Df de los mers \n",
      " (3816, 11)\n",
      "471\n",
      "Df de los mers \n",
      " (3816, 11)\n",
      "DataFrameConcatenado\n",
      " (4002, 11)\n",
      "DataFrameConcatenado sin dupl\n",
      " (2826, 11)\n"
     ]
    },
    {
     "name": "stderr",
     "output_type": "stream",
     "text": [
      "<ipython-input-4-31de93231e4c>:43: SettingWithCopyWarning: \n",
      "A value is trying to be set on a copy of a slice from a DataFrame\n",
      "\n",
      "See the caveats in the documentation: https://pandas.pydata.org/pandas-docs/stable/user_guide/indexing.html#returning-a-view-versus-a-copy\n",
      "  df_s6m4_LaVenganza.drop_duplicates(['gen_name'], inplace=True, keep=False)\n"
     ]
    },
    {
     "name": "stdout",
     "output_type": "stream",
     "text": [
      "----------------------------------------------\n",
      "hsa-miR-15a-5p \n",
      " (12343, 11)\n",
      "hsa-miR-15a-5p \n",
      " (7367, 11)\n",
      "Df de los df_s6m4_LaVenganza \n",
      " (493, 11)\n",
      "Df de los df_s6m4_LaVenganza \n",
      " (459, 11)\n",
      "Df de los mers \n",
      " (6874, 11)\n",
      "1479\n",
      "Df de los mers \n",
      " (6874, 11)\n",
      "DataFrameConcatenado\n",
      " (7333, 11)\n",
      "DataFrameConcatenado sin dupl\n",
      " (3686, 11)\n"
     ]
    },
    {
     "name": "stderr",
     "output_type": "stream",
     "text": [
      "<ipython-input-4-31de93231e4c>:43: SettingWithCopyWarning: \n",
      "A value is trying to be set on a copy of a slice from a DataFrame\n",
      "\n",
      "See the caveats in the documentation: https://pandas.pydata.org/pandas-docs/stable/user_guide/indexing.html#returning-a-view-versus-a-copy\n",
      "  df_s6m4_LaVenganza.drop_duplicates(['gen_name'], inplace=True, keep=False)\n"
     ]
    },
    {
     "name": "stdout",
     "output_type": "stream",
     "text": [
      "----------------------------------------------\n",
      "hsa-miR-15b-5p \n",
      " (12343, 11)\n",
      "hsa-miR-15b-5p \n",
      " (7367, 11)\n",
      "Df de los df_s6m4_LaVenganza \n",
      " (493, 11)\n",
      "Df de los df_s6m4_LaVenganza \n",
      " (459, 11)\n",
      "Df de los mers \n",
      " (6874, 11)\n",
      "1479\n",
      "Df de los mers \n",
      " (6874, 11)\n",
      "DataFrameConcatenado\n",
      " (7333, 11)\n",
      "DataFrameConcatenado sin dupl\n",
      " (3686, 11)\n"
     ]
    },
    {
     "name": "stderr",
     "output_type": "stream",
     "text": [
      "<ipython-input-4-31de93231e4c>:43: SettingWithCopyWarning: \n",
      "A value is trying to be set on a copy of a slice from a DataFrame\n",
      "\n",
      "See the caveats in the documentation: https://pandas.pydata.org/pandas-docs/stable/user_guide/indexing.html#returning-a-view-versus-a-copy\n",
      "  df_s6m4_LaVenganza.drop_duplicates(['gen_name'], inplace=True, keep=False)\n"
     ]
    },
    {
     "name": "stdout",
     "output_type": "stream",
     "text": [
      "----------------------------------------------\n",
      "hsa-miR-16-5p \n",
      " (12117, 11)\n",
      "hsa-miR-16-5p \n",
      " (7315, 11)\n",
      "Df de los df_s6m4_LaVenganza \n",
      " (441, 11)\n",
      "Df de los df_s6m4_LaVenganza \n",
      " (416, 11)\n",
      "Df de los mers \n",
      " (6874, 11)\n",
      "1479\n",
      "Df de los mers \n",
      " (6874, 11)\n",
      "DataFrameConcatenado\n",
      " (7290, 11)\n",
      "DataFrameConcatenado sin dupl\n",
      " (3686, 11)\n"
     ]
    },
    {
     "name": "stderr",
     "output_type": "stream",
     "text": [
      "<ipython-input-4-31de93231e4c>:43: SettingWithCopyWarning: \n",
      "A value is trying to be set on a copy of a slice from a DataFrame\n",
      "\n",
      "See the caveats in the documentation: https://pandas.pydata.org/pandas-docs/stable/user_guide/indexing.html#returning-a-view-versus-a-copy\n",
      "  df_s6m4_LaVenganza.drop_duplicates(['gen_name'], inplace=True, keep=False)\n"
     ]
    },
    {
     "name": "stdout",
     "output_type": "stream",
     "text": [
      "----------------------------------------------\n",
      "hsa-miR-195-5p \n",
      " (12117, 11)\n",
      "hsa-miR-195-5p \n",
      " (7315, 11)\n",
      "Df de los df_s6m4_LaVenganza \n",
      " (441, 11)\n",
      "Df de los df_s6m4_LaVenganza \n",
      " (416, 11)\n",
      "Df de los mers \n",
      " (6874, 11)\n",
      "1479\n",
      "Df de los mers \n",
      " (6874, 11)\n",
      "DataFrameConcatenado\n",
      " (7290, 11)\n",
      "DataFrameConcatenado sin dupl\n",
      " (3686, 11)\n"
     ]
    },
    {
     "name": "stderr",
     "output_type": "stream",
     "text": [
      "<ipython-input-4-31de93231e4c>:43: SettingWithCopyWarning: \n",
      "A value is trying to be set on a copy of a slice from a DataFrame\n",
      "\n",
      "See the caveats in the documentation: https://pandas.pydata.org/pandas-docs/stable/user_guide/indexing.html#returning-a-view-versus-a-copy\n",
      "  df_s6m4_LaVenganza.drop_duplicates(['gen_name'], inplace=True, keep=False)\n"
     ]
    },
    {
     "name": "stdout",
     "output_type": "stream",
     "text": [
      "----------------------------------------------\n",
      "hsa-miR-31-5p \n",
      " (8748, 11)\n",
      "hsa-miR-31-5p \n",
      " (6543, 11)\n",
      "Df de los df_s6m4_LaVenganza \n",
      " (509, 11)\n",
      "Df de los df_s6m4_LaVenganza \n",
      " (495, 11)\n",
      "Df de los mers \n",
      " (6034, 11)\n",
      "1069\n",
      "Df de los mers \n",
      " (6034, 11)\n",
      "DataFrameConcatenado\n",
      " (6529, 11)\n",
      "DataFrameConcatenado sin dupl\n",
      " (3733, 11)\n"
     ]
    },
    {
     "name": "stderr",
     "output_type": "stream",
     "text": [
      "<ipython-input-4-31de93231e4c>:43: SettingWithCopyWarning: \n",
      "A value is trying to be set on a copy of a slice from a DataFrame\n",
      "\n",
      "See the caveats in the documentation: https://pandas.pydata.org/pandas-docs/stable/user_guide/indexing.html#returning-a-view-versus-a-copy\n",
      "  df_s6m4_LaVenganza.drop_duplicates(['gen_name'], inplace=True, keep=False)\n"
     ]
    },
    {
     "name": "stdout",
     "output_type": "stream",
     "text": [
      "----------------------------------------------\n",
      "hsa-miR-383-5p \n",
      " (5854, 11)\n",
      "hsa-miR-383-5p \n",
      " (4901, 11)\n",
      "Df de los df_s6m4_LaVenganza \n",
      " (209, 11)\n",
      "Df de los df_s6m4_LaVenganza \n",
      " (205, 11)\n",
      "Df de los mers \n",
      " (4692, 11)\n",
      "698\n",
      "Df de los mers \n",
      " (4692, 11)\n",
      "DataFrameConcatenado\n",
      " (4897, 11)\n",
      "DataFrameConcatenado sin dupl\n",
      " (3209, 11)\n"
     ]
    },
    {
     "name": "stderr",
     "output_type": "stream",
     "text": [
      "<ipython-input-4-31de93231e4c>:43: SettingWithCopyWarning: \n",
      "A value is trying to be set on a copy of a slice from a DataFrame\n",
      "\n",
      "See the caveats in the documentation: https://pandas.pydata.org/pandas-docs/stable/user_guide/indexing.html#returning-a-view-versus-a-copy\n",
      "  df_s6m4_LaVenganza.drop_duplicates(['gen_name'], inplace=True, keep=False)\n"
     ]
    },
    {
     "name": "stdout",
     "output_type": "stream",
     "text": [
      "----------------------------------------------\n",
      "hsa-miR-424-5p \n",
      " (11856, 11)\n",
      "hsa-miR-424-5p \n",
      " (7150, 11)\n",
      "Df de los df_s6m4_LaVenganza \n",
      " (421, 11)\n",
      "Df de los df_s6m4_LaVenganza \n",
      " (395, 11)\n",
      "Df de los mers \n",
      " (6729, 11)\n",
      "1377\n",
      "Df de los mers \n",
      " (6729, 11)\n",
      "DataFrameConcatenado\n",
      " (7124, 11)\n",
      "DataFrameConcatenado sin dupl\n",
      " (3763, 11)\n"
     ]
    },
    {
     "name": "stderr",
     "output_type": "stream",
     "text": [
      "<ipython-input-4-31de93231e4c>:43: SettingWithCopyWarning: \n",
      "A value is trying to be set on a copy of a slice from a DataFrame\n",
      "\n",
      "See the caveats in the documentation: https://pandas.pydata.org/pandas-docs/stable/user_guide/indexing.html#returning-a-view-versus-a-copy\n",
      "  df_s6m4_LaVenganza.drop_duplicates(['gen_name'], inplace=True, keep=False)\n"
     ]
    },
    {
     "name": "stdout",
     "output_type": "stream",
     "text": [
      "----------------------------------------------\n",
      "hsa-miR-497-5p \n",
      " (12570, 11)\n",
      "hsa-miR-497-5p \n",
      " (7403, 11)\n",
      "Df de los df_s6m4_LaVenganza \n",
      " (529, 11)\n",
      "Df de los df_s6m4_LaVenganza \n",
      " (470, 11)\n",
      "Df de los mers \n",
      " (6874, 11)\n",
      "1479\n",
      "Df de los mers \n",
      " (6874, 11)\n",
      "DataFrameConcatenado\n",
      " (7344, 11)\n",
      "DataFrameConcatenado sin dupl\n",
      " (3686, 11)\n"
     ]
    },
    {
     "name": "stderr",
     "output_type": "stream",
     "text": [
      "<ipython-input-4-31de93231e4c>:43: SettingWithCopyWarning: \n",
      "A value is trying to be set on a copy of a slice from a DataFrame\n",
      "\n",
      "See the caveats in the documentation: https://pandas.pydata.org/pandas-docs/stable/user_guide/indexing.html#returning-a-view-versus-a-copy\n",
      "  df_s6m4_LaVenganza.drop_duplicates(['gen_name'], inplace=True, keep=False)\n"
     ]
    },
    {
     "name": "stdout",
     "output_type": "stream",
     "text": [
      "----------------------------------------------\n",
      "hsa-miR-100-5p \n",
      " (1323, 11)\n",
      "hsa-miR-100-5p \n",
      " (1252, 11)\n",
      "Df de los df_s6m4_LaVenganza \n",
      " (17, 11)\n",
      "Df de los df_s6m4_LaVenganza \n",
      " (17, 11)\n",
      "Df de los mers \n",
      " (1235, 11)\n",
      "32\n",
      "Df de los mers \n",
      " (1235, 11)\n",
      "DataFrameConcatenado\n",
      " (1252, 11)\n",
      "DataFrameConcatenado sin dupl\n",
      " (1170, 11)\n"
     ]
    },
    {
     "name": "stderr",
     "output_type": "stream",
     "text": [
      "<ipython-input-4-31de93231e4c>:43: SettingWithCopyWarning: \n",
      "A value is trying to be set on a copy of a slice from a DataFrame\n",
      "\n",
      "See the caveats in the documentation: https://pandas.pydata.org/pandas-docs/stable/user_guide/indexing.html#returning-a-view-versus-a-copy\n",
      "  df_s6m4_LaVenganza.drop_duplicates(['gen_name'], inplace=True, keep=False)\n",
      "/home/juan/anaconda3/lib/python3.8/site-packages/numpy/core/fromnumeric.py:3702: RuntimeWarning: Degrees of freedom <= 0 for slice\n",
      "  return _methods._var(a, axis=axis, dtype=dtype, out=out, ddof=ddof,\n",
      "/home/juan/anaconda3/lib/python3.8/site-packages/numpy/core/_methods.py:253: RuntimeWarning: invalid value encountered in double_scalars\n",
      "  ret = ret.dtype.type(ret / rcount)\n"
     ]
    },
    {
     "name": "stdout",
     "output_type": "stream",
     "text": [
      "----------------------------------------------\n",
      "hsa-miR-139-5p \n",
      " (8034, 11)\n",
      "hsa-miR-139-5p \n",
      " (5687, 11)\n",
      "Df de los df_s6m4_LaVenganza \n",
      " (295, 11)\n",
      "Df de los df_s6m4_LaVenganza \n",
      " (281, 11)\n",
      "Df de los mers \n",
      " (5392, 11)\n",
      "912\n",
      "Df de los mers \n",
      " (5392, 11)\n",
      "DataFrameConcatenado\n",
      " (5673, 11)\n",
      "DataFrameConcatenado sin dupl\n",
      " (3432, 11)\n"
     ]
    },
    {
     "name": "stderr",
     "output_type": "stream",
     "text": [
      "<ipython-input-4-31de93231e4c>:43: SettingWithCopyWarning: \n",
      "A value is trying to be set on a copy of a slice from a DataFrame\n",
      "\n",
      "See the caveats in the documentation: https://pandas.pydata.org/pandas-docs/stable/user_guide/indexing.html#returning-a-view-versus-a-copy\n",
      "  df_s6m4_LaVenganza.drop_duplicates(['gen_name'], inplace=True, keep=False)\n"
     ]
    },
    {
     "name": "stdout",
     "output_type": "stream",
     "text": [
      "----------------------------------------------\n",
      "hsa-miR-142-5p \n",
      " (11380, 11)\n",
      "hsa-miR-142-5p \n",
      " (6572, 11)\n",
      "Df de los df_s6m4_LaVenganza \n",
      " (460, 11)\n",
      "Df de los df_s6m4_LaVenganza \n",
      " (444, 11)\n",
      "Df de los mers \n",
      " (6112, 11)\n",
      "1281\n",
      "Df de los mers \n",
      " (6112, 11)\n",
      "DataFrameConcatenado\n",
      " (6556, 11)\n",
      "DataFrameConcatenado sin dupl\n",
      " (3304, 11)\n"
     ]
    },
    {
     "name": "stderr",
     "output_type": "stream",
     "text": [
      "<ipython-input-4-31de93231e4c>:43: SettingWithCopyWarning: \n",
      "A value is trying to be set on a copy of a slice from a DataFrame\n",
      "\n",
      "See the caveats in the documentation: https://pandas.pydata.org/pandas-docs/stable/user_guide/indexing.html#returning-a-view-versus-a-copy\n",
      "  df_s6m4_LaVenganza.drop_duplicates(['gen_name'], inplace=True, keep=False)\n"
     ]
    },
    {
     "name": "stdout",
     "output_type": "stream",
     "text": [
      "----------------------------------------------\n",
      "hsa-miR-184 \n",
      " (2341, 11)\n",
      "hsa-miR-184 \n",
      " (2025, 11)\n",
      "Df de los df_s6m4_LaVenganza \n",
      " (81, 11)\n",
      "Df de los df_s6m4_LaVenganza \n",
      " (81, 11)\n",
      "Df de los mers \n",
      " (1944, 11)\n",
      "168\n",
      "Df de los mers \n",
      " (1944, 11)\n",
      "DataFrameConcatenado\n",
      " (2025, 11)\n",
      "DataFrameConcatenado sin dupl\n",
      " (1602, 11)\n"
     ]
    },
    {
     "name": "stderr",
     "output_type": "stream",
     "text": [
      "<ipython-input-4-31de93231e4c>:43: SettingWithCopyWarning: \n",
      "A value is trying to be set on a copy of a slice from a DataFrame\n",
      "\n",
      "See the caveats in the documentation: https://pandas.pydata.org/pandas-docs/stable/user_guide/indexing.html#returning-a-view-versus-a-copy\n",
      "  df_s6m4_LaVenganza.drop_duplicates(['gen_name'], inplace=True, keep=False)\n"
     ]
    },
    {
     "name": "stdout",
     "output_type": "stream",
     "text": [
      "----------------------------------------------\n",
      "hsa-miR-25-3p \n",
      " (7163, 11)\n",
      "hsa-miR-25-3p \n",
      " (5239, 11)\n",
      "Df de los df_s6m4_LaVenganza \n",
      " (57, 11)\n",
      "Df de los df_s6m4_LaVenganza \n",
      " (57, 11)\n",
      "Df de los mers \n",
      " (5182, 11)\n",
      "854\n",
      "Df de los mers \n",
      " (5182, 11)\n",
      "DataFrameConcatenado\n",
      " (5239, 11)\n",
      "DataFrameConcatenado sin dupl\n",
      " (3378, 11)\n"
     ]
    },
    {
     "name": "stderr",
     "output_type": "stream",
     "text": [
      "<ipython-input-4-31de93231e4c>:43: SettingWithCopyWarning: \n",
      "A value is trying to be set on a copy of a slice from a DataFrame\n",
      "\n",
      "See the caveats in the documentation: https://pandas.pydata.org/pandas-docs/stable/user_guide/indexing.html#returning-a-view-versus-a-copy\n",
      "  df_s6m4_LaVenganza.drop_duplicates(['gen_name'], inplace=True, keep=False)\n"
     ]
    },
    {
     "name": "stdout",
     "output_type": "stream",
     "text": [
      "----------------------------------------------\n",
      "hsa-miR-425-5p \n",
      " (9775, 11)\n",
      "hsa-miR-425-5p \n",
      " (6117, 11)\n",
      "Df de los df_s6m4_LaVenganza \n",
      " (287, 11)\n",
      "Df de los df_s6m4_LaVenganza \n",
      " (285, 11)\n",
      "Df de los mers \n",
      " (5830, 11)\n",
      "1025\n",
      "Df de los mers \n",
      " (5830, 11)\n",
      "DataFrameConcatenado\n",
      " (6115, 11)\n",
      "DataFrameConcatenado sin dupl\n",
      " (3642, 11)\n"
     ]
    },
    {
     "name": "stderr",
     "output_type": "stream",
     "text": [
      "<ipython-input-4-31de93231e4c>:43: SettingWithCopyWarning: \n",
      "A value is trying to be set on a copy of a slice from a DataFrame\n",
      "\n",
      "See the caveats in the documentation: https://pandas.pydata.org/pandas-docs/stable/user_guide/indexing.html#returning-a-view-versus-a-copy\n",
      "  df_s6m4_LaVenganza.drop_duplicates(['gen_name'], inplace=True, keep=False)\n"
     ]
    },
    {
     "name": "stdout",
     "output_type": "stream",
     "text": [
      "----------------------------------------------\n",
      "hsa-miR-455-5p \n",
      " (6891, 11)\n",
      "hsa-miR-455-5p \n",
      " (5190, 11)\n",
      "Df de los df_s6m4_LaVenganza \n",
      " (211, 11)\n",
      "Df de los df_s6m4_LaVenganza \n",
      " (203, 11)\n",
      "Df de los mers \n",
      " (4979, 11)\n",
      "756\n",
      "Df de los mers \n",
      " (4979, 11)\n",
      "DataFrameConcatenado\n",
      " (5182, 11)\n",
      "DataFrameConcatenado sin dupl\n",
      " (3395, 11)\n"
     ]
    },
    {
     "name": "stderr",
     "output_type": "stream",
     "text": [
      "<ipython-input-4-31de93231e4c>:43: SettingWithCopyWarning: \n",
      "A value is trying to be set on a copy of a slice from a DataFrame\n",
      "\n",
      "See the caveats in the documentation: https://pandas.pydata.org/pandas-docs/stable/user_guide/indexing.html#returning-a-view-versus-a-copy\n",
      "  df_s6m4_LaVenganza.drop_duplicates(['gen_name'], inplace=True, keep=False)\n"
     ]
    },
    {
     "name": "stdout",
     "output_type": "stream",
     "text": [
      "----------------------------------------------\n",
      "hsa-miR-92a-3p \n",
      " (7177, 11)\n",
      "hsa-miR-92a-3p \n",
      " (5260, 11)\n",
      "Df de los df_s6m4_LaVenganza \n",
      " (78, 11)\n",
      "Df de los df_s6m4_LaVenganza \n",
      " (78, 11)\n",
      "Df de los mers \n",
      " (5182, 11)\n",
      "854\n",
      "Df de los mers \n",
      " (5182, 11)\n",
      "DataFrameConcatenado\n",
      " (5260, 11)\n",
      "DataFrameConcatenado sin dupl\n",
      " (3378, 11)\n"
     ]
    },
    {
     "name": "stderr",
     "output_type": "stream",
     "text": [
      "<ipython-input-4-31de93231e4c>:43: SettingWithCopyWarning: \n",
      "A value is trying to be set on a copy of a slice from a DataFrame\n",
      "\n",
      "See the caveats in the documentation: https://pandas.pydata.org/pandas-docs/stable/user_guide/indexing.html#returning-a-view-versus-a-copy\n",
      "  df_s6m4_LaVenganza.drop_duplicates(['gen_name'], inplace=True, keep=False)\n"
     ]
    },
    {
     "name": "stdout",
     "output_type": "stream",
     "text": [
      "----------------------------------------------\n",
      "hsa-miR-92b-3p \n",
      " (7177, 11)\n",
      "hsa-miR-92b-3p \n",
      " (5260, 11)\n",
      "Df de los df_s6m4_LaVenganza \n",
      " (78, 11)\n",
      "Df de los df_s6m4_LaVenganza \n",
      " (78, 11)\n",
      "Df de los mers \n",
      " (5182, 11)\n",
      "854\n",
      "Df de los mers \n",
      " (5182, 11)\n",
      "DataFrameConcatenado\n",
      " (5260, 11)\n",
      "DataFrameConcatenado sin dupl\n",
      " (3378, 11)\n"
     ]
    },
    {
     "name": "stderr",
     "output_type": "stream",
     "text": [
      "<ipython-input-4-31de93231e4c>:43: SettingWithCopyWarning: \n",
      "A value is trying to be set on a copy of a slice from a DataFrame\n",
      "\n",
      "See the caveats in the documentation: https://pandas.pydata.org/pandas-docs/stable/user_guide/indexing.html#returning-a-view-versus-a-copy\n",
      "  df_s6m4_LaVenganza.drop_duplicates(['gen_name'], inplace=True, keep=False)\n"
     ]
    },
    {
     "name": "stdout",
     "output_type": "stream",
     "text": [
      "----------------------------------------------\n",
      "hsa-miR-99a-5p \n",
      " (1322, 11)\n",
      "hsa-miR-99a-5p \n",
      " (1249, 11)\n",
      "Df de los df_s6m4_LaVenganza \n",
      " (14, 11)\n",
      "Df de los df_s6m4_LaVenganza \n",
      " (14, 11)\n",
      "Df de los mers \n",
      " (1235, 11)\n",
      "32\n",
      "Df de los mers \n",
      " (1235, 11)\n",
      "DataFrameConcatenado\n",
      " (1249, 11)\n",
      "DataFrameConcatenado sin dupl\n",
      " (1170, 11)\n"
     ]
    },
    {
     "name": "stderr",
     "output_type": "stream",
     "text": [
      "<ipython-input-4-31de93231e4c>:43: SettingWithCopyWarning: \n",
      "A value is trying to be set on a copy of a slice from a DataFrame\n",
      "\n",
      "See the caveats in the documentation: https://pandas.pydata.org/pandas-docs/stable/user_guide/indexing.html#returning-a-view-versus-a-copy\n",
      "  df_s6m4_LaVenganza.drop_duplicates(['gen_name'], inplace=True, keep=False)\n"
     ]
    },
    {
     "name": "stdout",
     "output_type": "stream",
     "text": [
      "----------------------------------------------\n",
      "hsa-miR-99b-5p \n",
      " (1320, 11)\n",
      "hsa-miR-99b-5p \n",
      " (1246, 11)\n",
      "Df de los df_s6m4_LaVenganza \n",
      " (11, 11)\n",
      "Df de los df_s6m4_LaVenganza \n",
      " (11, 11)\n",
      "Df de los mers \n",
      " (1235, 11)\n",
      "32\n",
      "Df de los mers \n",
      " (1235, 11)\n",
      "DataFrameConcatenado\n",
      " (1246, 11)\n",
      "DataFrameConcatenado sin dupl\n",
      " (1170, 11)\n"
     ]
    },
    {
     "name": "stderr",
     "output_type": "stream",
     "text": [
      "<ipython-input-4-31de93231e4c>:43: SettingWithCopyWarning: \n",
      "A value is trying to be set on a copy of a slice from a DataFrame\n",
      "\n",
      "See the caveats in the documentation: https://pandas.pydata.org/pandas-docs/stable/user_guide/indexing.html#returning-a-view-versus-a-copy\n",
      "  df_s6m4_LaVenganza.drop_duplicates(['gen_name'], inplace=True, keep=False)\n",
      "/home/juan/anaconda3/lib/python3.8/site-packages/numpy/core/fromnumeric.py:3702: RuntimeWarning: Degrees of freedom <= 0 for slice\n",
      "  return _methods._var(a, axis=axis, dtype=dtype, out=out, ddof=ddof,\n",
      "/home/juan/anaconda3/lib/python3.8/site-packages/numpy/core/_methods.py:253: RuntimeWarning: invalid value encountered in double_scalars\n",
      "  ret = ret.dtype.type(ret / rcount)\n"
     ]
    },
    {
     "name": "stdout",
     "output_type": "stream",
     "text": [
      "----------------------------------------------\n",
      "hsa-miR-21-5p \n",
      " (6184, 11)\n",
      "hsa-miR-21-5p \n",
      " (4872, 11)\n",
      "Df de los df_s6m4_LaVenganza \n",
      " (392, 11)\n",
      "Df de los df_s6m4_LaVenganza \n",
      " (382, 11)\n",
      "Df de los mers \n",
      " (4480, 11)\n",
      "709\n",
      "Df de los mers \n",
      " (4480, 11)\n",
      "DataFrameConcatenado\n",
      " (4862, 11)\n",
      "DataFrameConcatenado sin dupl\n",
      " (2972, 11)\n"
     ]
    },
    {
     "name": "stderr",
     "output_type": "stream",
     "text": [
      "<ipython-input-4-31de93231e4c>:43: SettingWithCopyWarning: \n",
      "A value is trying to be set on a copy of a slice from a DataFrame\n",
      "\n",
      "See the caveats in the documentation: https://pandas.pydata.org/pandas-docs/stable/user_guide/indexing.html#returning-a-view-versus-a-copy\n",
      "  df_s6m4_LaVenganza.drop_duplicates(['gen_name'], inplace=True, keep=False)\n"
     ]
    },
    {
     "name": "stdout",
     "output_type": "stream",
     "text": [
      "----------------------------------------------\n",
      "hsa-miR-590-5p \n",
      " (6364, 11)\n",
      "hsa-miR-590-5p \n",
      " (4977, 11)\n",
      "Df de los df_s6m4_LaVenganza \n",
      " (675, 11)\n",
      "Df de los df_s6m4_LaVenganza \n",
      " (625, 11)\n",
      "Df de los mers \n",
      " (4302, 11)\n",
      "638\n",
      "Df de los mers \n",
      " (4302, 11)\n",
      "DataFrameConcatenado\n",
      " (4927, 11)\n",
      "DataFrameConcatenado sin dupl\n",
      " (2960, 11)\n"
     ]
    },
    {
     "name": "stderr",
     "output_type": "stream",
     "text": [
      "<ipython-input-4-31de93231e4c>:43: SettingWithCopyWarning: \n",
      "A value is trying to be set on a copy of a slice from a DataFrame\n",
      "\n",
      "See the caveats in the documentation: https://pandas.pydata.org/pandas-docs/stable/user_guide/indexing.html#returning-a-view-versus-a-copy\n",
      "  df_s6m4_LaVenganza.drop_duplicates(['gen_name'], inplace=True, keep=False)\n"
     ]
    },
    {
     "name": "stdout",
     "output_type": "stream",
     "text": [
      "----------------------------------------------\n",
      "hsa-miR-101-3p \n",
      " (9767, 11)\n",
      "hsa-miR-101-3p \n",
      " (6105, 11)\n",
      "Df de los df_s6m4_LaVenganza \n",
      " (621, 11)\n",
      "Df de los df_s6m4_LaVenganza \n",
      " (566, 11)\n",
      "Df de los mers \n",
      " (5484, 11)\n",
      "985\n",
      "Df de los mers \n",
      " (5484, 11)\n",
      "DataFrameConcatenado\n",
      " (6050, 11)\n",
      "DataFrameConcatenado sin dupl\n",
      " (3361, 11)\n"
     ]
    },
    {
     "name": "stderr",
     "output_type": "stream",
     "text": [
      "<ipython-input-4-31de93231e4c>:43: SettingWithCopyWarning: \n",
      "A value is trying to be set on a copy of a slice from a DataFrame\n",
      "\n",
      "See the caveats in the documentation: https://pandas.pydata.org/pandas-docs/stable/user_guide/indexing.html#returning-a-view-versus-a-copy\n",
      "  df_s6m4_LaVenganza.drop_duplicates(['gen_name'], inplace=True, keep=False)\n"
     ]
    },
    {
     "name": "stdout",
     "output_type": "stream",
     "text": [
      "----------------------------------------------\n",
      "hsa-miR-132-3p \n",
      " (9430, 11)\n",
      "hsa-miR-132-3p \n",
      " (5844, 11)\n",
      "Df de los df_s6m4_LaVenganza \n",
      " (322, 11)\n",
      "Df de los df_s6m4_LaVenganza \n",
      " (318, 11)\n",
      "Df de los mers \n",
      " (5522, 11)\n",
      "924\n",
      "Df de los mers \n",
      " (5522, 11)\n",
      "DataFrameConcatenado\n",
      " (5840, 11)\n",
      "DataFrameConcatenado sin dupl\n",
      " (3552, 11)\n"
     ]
    },
    {
     "name": "stderr",
     "output_type": "stream",
     "text": [
      "<ipython-input-4-31de93231e4c>:43: SettingWithCopyWarning: \n",
      "A value is trying to be set on a copy of a slice from a DataFrame\n",
      "\n",
      "See the caveats in the documentation: https://pandas.pydata.org/pandas-docs/stable/user_guide/indexing.html#returning-a-view-versus-a-copy\n",
      "  df_s6m4_LaVenganza.drop_duplicates(['gen_name'], inplace=True, keep=False)\n"
     ]
    },
    {
     "name": "stdout",
     "output_type": "stream",
     "text": [
      "----------------------------------------------\n",
      "hsa-miR-133b \n",
      " (6636, 11)\n",
      "hsa-miR-133b \n",
      " (5388, 11)\n",
      "Df de los df_s6m4_LaVenganza \n",
      " (238, 11)\n",
      "Df de los df_s6m4_LaVenganza \n",
      " (230, 11)\n",
      "Df de los mers \n",
      " (5150, 11)\n",
      "820\n",
      "Df de los mers \n",
      " (5150, 11)\n",
      "DataFrameConcatenado\n",
      " (5380, 11)\n",
      "DataFrameConcatenado sin dupl\n",
      " (3420, 11)\n"
     ]
    },
    {
     "name": "stderr",
     "output_type": "stream",
     "text": [
      "<ipython-input-4-31de93231e4c>:43: SettingWithCopyWarning: \n",
      "A value is trying to be set on a copy of a slice from a DataFrame\n",
      "\n",
      "See the caveats in the documentation: https://pandas.pydata.org/pandas-docs/stable/user_guide/indexing.html#returning-a-view-versus-a-copy\n",
      "  df_s6m4_LaVenganza.drop_duplicates(['gen_name'], inplace=True, keep=False)\n"
     ]
    },
    {
     "name": "stdout",
     "output_type": "stream",
     "text": [
      "----------------------------------------------\n",
      "hsa-miR-144-3p \n",
      " (9315, 11)\n",
      "hsa-miR-144-3p \n",
      " (6193, 11)\n",
      "Df de los df_s6m4_LaVenganza \n",
      " (316, 11)\n",
      "Df de los df_s6m4_LaVenganza \n",
      " (306, 11)\n",
      "Df de los mers \n",
      " (5877, 11)\n",
      "1175\n",
      "Df de los mers \n",
      " (5877, 11)\n",
      "DataFrameConcatenado\n",
      " (6183, 11)\n",
      "DataFrameConcatenado sin dupl\n",
      " (3342, 11)\n"
     ]
    },
    {
     "name": "stderr",
     "output_type": "stream",
     "text": [
      "<ipython-input-4-31de93231e4c>:43: SettingWithCopyWarning: \n",
      "A value is trying to be set on a copy of a slice from a DataFrame\n",
      "\n",
      "See the caveats in the documentation: https://pandas.pydata.org/pandas-docs/stable/user_guide/indexing.html#returning-a-view-versus-a-copy\n",
      "  df_s6m4_LaVenganza.drop_duplicates(['gen_name'], inplace=True, keep=False)\n"
     ]
    },
    {
     "name": "stdout",
     "output_type": "stream",
     "text": [
      "----------------------------------------------\n",
      "hsa-miR-193a-3p \n",
      " (7687, 11)\n",
      "hsa-miR-193a-3p \n",
      " (5759, 11)\n",
      "Df de los df_s6m4_LaVenganza \n",
      " (359, 11)\n",
      "Df de los df_s6m4_LaVenganza \n",
      " (341, 11)\n",
      "Df de los mers \n",
      " (5400, 11)\n",
      "864\n",
      "Df de los mers \n",
      " (5400, 11)\n",
      "DataFrameConcatenado\n",
      " (5741, 11)\n",
      "DataFrameConcatenado sin dupl\n",
      " (3593, 11)\n"
     ]
    },
    {
     "name": "stderr",
     "output_type": "stream",
     "text": [
      "<ipython-input-4-31de93231e4c>:43: SettingWithCopyWarning: \n",
      "A value is trying to be set on a copy of a slice from a DataFrame\n",
      "\n",
      "See the caveats in the documentation: https://pandas.pydata.org/pandas-docs/stable/user_guide/indexing.html#returning-a-view-versus-a-copy\n",
      "  df_s6m4_LaVenganza.drop_duplicates(['gen_name'], inplace=True, keep=False)\n"
     ]
    },
    {
     "name": "stdout",
     "output_type": "stream",
     "text": [
      "----------------------------------------------\n",
      "hsa-miR-193b-3p \n",
      " (7839, 11)\n",
      "hsa-miR-193b-3p \n",
      " (5872, 11)\n",
      "Df de los df_s6m4_LaVenganza \n",
      " (366, 11)\n",
      "Df de los df_s6m4_LaVenganza \n",
      " (354, 11)\n",
      "Df de los mers \n",
      " (5506, 11)\n",
      "894\n",
      "Df de los mers \n",
      " (5506, 11)\n",
      "DataFrameConcatenado\n",
      " (5860, 11)\n",
      "DataFrameConcatenado sin dupl\n",
      " (3628, 11)\n"
     ]
    },
    {
     "name": "stderr",
     "output_type": "stream",
     "text": [
      "<ipython-input-4-31de93231e4c>:43: SettingWithCopyWarning: \n",
      "A value is trying to be set on a copy of a slice from a DataFrame\n",
      "\n",
      "See the caveats in the documentation: https://pandas.pydata.org/pandas-docs/stable/user_guide/indexing.html#returning-a-view-versus-a-copy\n",
      "  df_s6m4_LaVenganza.drop_duplicates(['gen_name'], inplace=True, keep=False)\n"
     ]
    },
    {
     "name": "stdout",
     "output_type": "stream",
     "text": [
      "----------------------------------------------\n",
      "hsa-miR-194-5p \n",
      " (7660, 11)\n",
      "hsa-miR-194-5p \n",
      " (5628, 11)\n",
      "Df de los df_s6m4_LaVenganza \n",
      " (433, 11)\n",
      "Df de los df_s6m4_LaVenganza \n",
      " (417, 11)\n",
      "Df de los mers \n",
      " (5195, 11)\n",
      "931\n",
      "Df de los mers \n",
      " (5195, 11)\n",
      "DataFrameConcatenado\n",
      " (5612, 11)\n",
      "DataFrameConcatenado sin dupl\n",
      " (3177, 11)\n"
     ]
    },
    {
     "name": "stderr",
     "output_type": "stream",
     "text": [
      "<ipython-input-4-31de93231e4c>:43: SettingWithCopyWarning: \n",
      "A value is trying to be set on a copy of a slice from a DataFrame\n",
      "\n",
      "See the caveats in the documentation: https://pandas.pydata.org/pandas-docs/stable/user_guide/indexing.html#returning-a-view-versus-a-copy\n",
      "  df_s6m4_LaVenganza.drop_duplicates(['gen_name'], inplace=True, keep=False)\n"
     ]
    },
    {
     "name": "stdout",
     "output_type": "stream",
     "text": [
      "----------------------------------------------\n",
      "hsa-miR-199a-3p \n",
      " (7384, 11)\n",
      "hsa-miR-199a-3p \n",
      " (5696, 11)\n",
      "Df de los df_s6m4_LaVenganza \n",
      " (425, 11)\n",
      "Df de los df_s6m4_LaVenganza \n",
      " (397, 11)\n",
      "Df de los mers \n",
      " (5271, 11)\n",
      "883\n",
      "Df de los mers \n",
      " (5271, 11)\n",
      "DataFrameConcatenado\n",
      " (5668, 11)\n",
      "DataFrameConcatenado sin dupl\n",
      " (3406, 11)\n"
     ]
    },
    {
     "name": "stderr",
     "output_type": "stream",
     "text": [
      "<ipython-input-4-31de93231e4c>:43: SettingWithCopyWarning: \n",
      "A value is trying to be set on a copy of a slice from a DataFrame\n",
      "\n",
      "See the caveats in the documentation: https://pandas.pydata.org/pandas-docs/stable/user_guide/indexing.html#returning-a-view-versus-a-copy\n",
      "  df_s6m4_LaVenganza.drop_duplicates(['gen_name'], inplace=True, keep=False)\n"
     ]
    },
    {
     "name": "stdout",
     "output_type": "stream",
     "text": [
      "----------------------------------------------\n",
      "hsa-miR-199b-3p \n",
      " (7384, 11)\n",
      "hsa-miR-199b-3p \n",
      " (5696, 11)\n",
      "Df de los df_s6m4_LaVenganza \n",
      " (425, 11)\n",
      "Df de los df_s6m4_LaVenganza \n",
      " (397, 11)\n",
      "Df de los mers \n",
      " (5271, 11)\n",
      "883\n",
      "Df de los mers \n",
      " (5271, 11)\n",
      "DataFrameConcatenado\n",
      " (5668, 11)\n",
      "DataFrameConcatenado sin dupl\n",
      " (3406, 11)\n"
     ]
    },
    {
     "name": "stderr",
     "output_type": "stream",
     "text": [
      "<ipython-input-4-31de93231e4c>:43: SettingWithCopyWarning: \n",
      "A value is trying to be set on a copy of a slice from a DataFrame\n",
      "\n",
      "See the caveats in the documentation: https://pandas.pydata.org/pandas-docs/stable/user_guide/indexing.html#returning-a-view-versus-a-copy\n",
      "  df_s6m4_LaVenganza.drop_duplicates(['gen_name'], inplace=True, keep=False)\n"
     ]
    },
    {
     "name": "stdout",
     "output_type": "stream",
     "text": [
      "----------------------------------------------\n",
      "hsa-miR-212-3p \n",
      " (9412, 11)\n",
      "hsa-miR-212-3p \n",
      " (5815, 11)\n",
      "Df de los df_s6m4_LaVenganza \n",
      " (293, 11)\n",
      "Df de los df_s6m4_LaVenganza \n",
      " (289, 11)\n",
      "Df de los mers \n",
      " (5522, 11)\n",
      "924\n",
      "Df de los mers \n",
      " (5522, 11)\n",
      "DataFrameConcatenado\n",
      " (5811, 11)\n",
      "DataFrameConcatenado sin dupl\n",
      " (3552, 11)\n"
     ]
    },
    {
     "name": "stderr",
     "output_type": "stream",
     "text": [
      "<ipython-input-4-31de93231e4c>:43: SettingWithCopyWarning: \n",
      "A value is trying to be set on a copy of a slice from a DataFrame\n",
      "\n",
      "See the caveats in the documentation: https://pandas.pydata.org/pandas-docs/stable/user_guide/indexing.html#returning-a-view-versus-a-copy\n",
      "  df_s6m4_LaVenganza.drop_duplicates(['gen_name'], inplace=True, keep=False)\n"
     ]
    },
    {
     "name": "stdout",
     "output_type": "stream",
     "text": [
      "----------------------------------------------\n",
      "hsa-miR-22-3p \n",
      " (10327, 11)\n",
      "hsa-miR-22-3p \n",
      " (6574, 11)\n",
      "Df de los df_s6m4_LaVenganza \n",
      " (534, 11)\n",
      "Df de los df_s6m4_LaVenganza \n",
      " (502, 11)\n",
      "Df de los mers \n",
      " (6040, 11)\n",
      "1082\n",
      "Df de los mers \n",
      " (6040, 11)\n",
      "DataFrameConcatenado\n",
      " (6542, 11)\n",
      "DataFrameConcatenado sin dupl\n",
      " (3757, 11)\n"
     ]
    },
    {
     "name": "stderr",
     "output_type": "stream",
     "text": [
      "<ipython-input-4-31de93231e4c>:43: SettingWithCopyWarning: \n",
      "A value is trying to be set on a copy of a slice from a DataFrame\n",
      "\n",
      "See the caveats in the documentation: https://pandas.pydata.org/pandas-docs/stable/user_guide/indexing.html#returning-a-view-versus-a-copy\n",
      "  df_s6m4_LaVenganza.drop_duplicates(['gen_name'], inplace=True, keep=False)\n"
     ]
    },
    {
     "name": "stdout",
     "output_type": "stream",
     "text": [
      "----------------------------------------------\n",
      "hsa-miR-221-3p \n",
      " (6155, 11)\n",
      "hsa-miR-221-3p \n",
      " (4982, 11)\n",
      "Df de los df_s6m4_LaVenganza \n",
      " (318, 11)\n",
      "Df de los df_s6m4_LaVenganza \n",
      " (314, 11)\n",
      "Df de los mers \n",
      " (4664, 11)\n",
      "689\n",
      "Df de los mers \n",
      " (4664, 11)\n",
      "DataFrameConcatenado\n",
      " (4978, 11)\n",
      "DataFrameConcatenado sin dupl\n",
      " (3212, 11)\n"
     ]
    },
    {
     "name": "stderr",
     "output_type": "stream",
     "text": [
      "<ipython-input-4-31de93231e4c>:43: SettingWithCopyWarning: \n",
      "A value is trying to be set on a copy of a slice from a DataFrame\n",
      "\n",
      "See the caveats in the documentation: https://pandas.pydata.org/pandas-docs/stable/user_guide/indexing.html#returning-a-view-versus-a-copy\n",
      "  df_s6m4_LaVenganza.drop_duplicates(['gen_name'], inplace=True, keep=False)\n"
     ]
    },
    {
     "name": "stdout",
     "output_type": "stream",
     "text": [
      "----------------------------------------------\n",
      "hsa-miR-222-3p \n",
      " (6216, 11)\n",
      "hsa-miR-222-3p \n",
      " (5020, 11)\n",
      "Df de los df_s6m4_LaVenganza \n",
      " (196, 11)\n",
      "Df de los df_s6m4_LaVenganza \n",
      " (192, 11)\n",
      "Df de los mers \n",
      " (4824, 11)\n",
      "753\n",
      "Df de los mers \n",
      " (4824, 11)\n",
      "DataFrameConcatenado\n",
      " (5016, 11)\n",
      "DataFrameConcatenado sin dupl\n",
      " (3218, 11)\n"
     ]
    },
    {
     "name": "stderr",
     "output_type": "stream",
     "text": [
      "<ipython-input-4-31de93231e4c>:43: SettingWithCopyWarning: \n",
      "A value is trying to be set on a copy of a slice from a DataFrame\n",
      "\n",
      "See the caveats in the documentation: https://pandas.pydata.org/pandas-docs/stable/user_guide/indexing.html#returning-a-view-versus-a-copy\n",
      "  df_s6m4_LaVenganza.drop_duplicates(['gen_name'], inplace=True, keep=False)\n"
     ]
    },
    {
     "name": "stdout",
     "output_type": "stream",
     "text": [
      "----------------------------------------------\n",
      "hsa-miR-96-5p \n",
      " (9629, 11)\n",
      "hsa-miR-96-5p \n",
      " (6914, 11)\n",
      "Df de los df_s6m4_LaVenganza \n",
      " (511, 11)\n",
      "Df de los df_s6m4_LaVenganza \n",
      " (489, 11)\n",
      "Df de los mers \n",
      " (6403, 11)\n",
      "1198\n",
      "Df de los mers \n",
      " (6403, 11)\n",
      "DataFrameConcatenado\n",
      " (6892, 11)\n",
      "DataFrameConcatenado sin dupl\n",
      " (3877, 11)\n"
     ]
    },
    {
     "name": "stderr",
     "output_type": "stream",
     "text": [
      "<ipython-input-4-31de93231e4c>:43: SettingWithCopyWarning: \n",
      "A value is trying to be set on a copy of a slice from a DataFrame\n",
      "\n",
      "See the caveats in the documentation: https://pandas.pydata.org/pandas-docs/stable/user_guide/indexing.html#returning-a-view-versus-a-copy\n",
      "  df_s6m4_LaVenganza.drop_duplicates(['gen_name'], inplace=True, keep=False)\n"
     ]
    },
    {
     "name": "stdout",
     "output_type": "stream",
     "text": [
      "----------------------------------------------\n",
      "hsa-miR-133a-3p \n",
      " (7101, 11)\n",
      "hsa-miR-133a-3p \n",
      " (5680, 11)\n",
      "Df de los df_s6m4_LaVenganza \n",
      " (223, 11)\n",
      "Df de los df_s6m4_LaVenganza \n",
      " (223, 11)\n",
      "Df de los mers \n",
      " (5457, 11)\n",
      "891\n",
      "Df de los mers \n",
      " (5457, 11)\n",
      "DataFrameConcatenado\n",
      " (5680, 11)\n",
      "DataFrameConcatenado sin dupl\n",
      " (3549, 11)\n"
     ]
    },
    {
     "name": "stderr",
     "output_type": "stream",
     "text": [
      "<ipython-input-4-31de93231e4c>:43: SettingWithCopyWarning: \n",
      "A value is trying to be set on a copy of a slice from a DataFrame\n",
      "\n",
      "See the caveats in the documentation: https://pandas.pydata.org/pandas-docs/stable/user_guide/indexing.html#returning-a-view-versus-a-copy\n",
      "  df_s6m4_LaVenganza.drop_duplicates(['gen_name'], inplace=True, keep=False)\n"
     ]
    },
    {
     "name": "stdout",
     "output_type": "stream",
     "text": [
      "----------------------------------------------\n",
      "hsa-miR-191-5p \n",
      " (1864, 11)\n",
      "hsa-miR-191-5p \n",
      " (1764, 11)\n",
      "Df de los df_s6m4_LaVenganza \n",
      " (171, 11)\n",
      "Df de los df_s6m4_LaVenganza \n",
      " (165, 11)\n",
      "Df de los mers \n",
      " (1593, 11)\n",
      "89\n",
      "Df de los mers \n",
      " (1593, 11)\n",
      "DataFrameConcatenado\n",
      " (1758, 11)\n",
      "DataFrameConcatenado sin dupl\n",
      " (1411, 11)\n"
     ]
    },
    {
     "name": "stderr",
     "output_type": "stream",
     "text": [
      "<ipython-input-4-31de93231e4c>:43: SettingWithCopyWarning: \n",
      "A value is trying to be set on a copy of a slice from a DataFrame\n",
      "\n",
      "See the caveats in the documentation: https://pandas.pydata.org/pandas-docs/stable/user_guide/indexing.html#returning-a-view-versus-a-copy\n",
      "  df_s6m4_LaVenganza.drop_duplicates(['gen_name'], inplace=True, keep=False)\n"
     ]
    },
    {
     "name": "stdout",
     "output_type": "stream",
     "text": [
      "----------------------------------------------\n",
      "hsa-miR-223-3p \n",
      " (6719, 11)\n",
      "hsa-miR-223-3p \n",
      " (5595, 11)\n",
      "Df de los df_s6m4_LaVenganza \n",
      " (581, 11)\n",
      "Df de los df_s6m4_LaVenganza \n",
      " (535, 11)\n",
      "Df de los mers \n",
      " (5014, 11)\n",
      "770\n",
      "Df de los mers \n",
      " (5014, 11)\n",
      "DataFrameConcatenado\n",
      " (5549, 11)\n",
      "DataFrameConcatenado sin dupl\n",
      " (3395, 11)\n"
     ]
    },
    {
     "name": "stderr",
     "output_type": "stream",
     "text": [
      "<ipython-input-4-31de93231e4c>:43: SettingWithCopyWarning: \n",
      "A value is trying to be set on a copy of a slice from a DataFrame\n",
      "\n",
      "See the caveats in the documentation: https://pandas.pydata.org/pandas-docs/stable/user_guide/indexing.html#returning-a-view-versus-a-copy\n",
      "  df_s6m4_LaVenganza.drop_duplicates(['gen_name'], inplace=True, keep=False)\n"
     ]
    },
    {
     "name": "stdout",
     "output_type": "stream",
     "text": [
      "----------------------------------------------\n",
      "hsa-miR-126-3p \n",
      " (914, 11)\n",
      "hsa-miR-126-3p \n",
      " (894, 11)\n",
      "Df de los df_s6m4_LaVenganza \n",
      " (55, 11)\n",
      "Df de los df_s6m4_LaVenganza \n",
      " (53, 11)\n",
      "Df de los mers \n",
      " (839, 11)\n",
      "25\n",
      "Df de los mers \n",
      " (839, 11)\n",
      "DataFrameConcatenado\n",
      " (892, 11)\n",
      "DataFrameConcatenado sin dupl\n",
      " (789, 11)\n"
     ]
    },
    {
     "name": "stderr",
     "output_type": "stream",
     "text": [
      "<ipython-input-4-31de93231e4c>:43: SettingWithCopyWarning: \n",
      "A value is trying to be set on a copy of a slice from a DataFrame\n",
      "\n",
      "See the caveats in the documentation: https://pandas.pydata.org/pandas-docs/stable/user_guide/indexing.html#returning-a-view-versus-a-copy\n",
      "  df_s6m4_LaVenganza.drop_duplicates(['gen_name'], inplace=True, keep=False)\n"
     ]
    },
    {
     "name": "stdout",
     "output_type": "stream",
     "text": [
      "----------------------------------------------\n",
      "hsa-miR-187-3p \n",
      " (2061, 11)\n",
      "hsa-miR-187-3p \n",
      " (1933, 11)\n",
      "Df de los df_s6m4_LaVenganza \n",
      " (83, 11)\n",
      "Df de los df_s6m4_LaVenganza \n",
      " (83, 11)\n",
      "Df de los mers \n",
      " (1850, 11)\n",
      "127\n",
      "Df de los mers \n",
      " (1850, 11)\n",
      "DataFrameConcatenado\n",
      " (1933, 11)\n",
      "DataFrameConcatenado sin dupl\n",
      " (1586, 11)\n"
     ]
    },
    {
     "name": "stderr",
     "output_type": "stream",
     "text": [
      "<ipython-input-4-31de93231e4c>:43: SettingWithCopyWarning: \n",
      "A value is trying to be set on a copy of a slice from a DataFrame\n",
      "\n",
      "See the caveats in the documentation: https://pandas.pydata.org/pandas-docs/stable/user_guide/indexing.html#returning-a-view-versus-a-copy\n",
      "  df_s6m4_LaVenganza.drop_duplicates(['gen_name'], inplace=True, keep=False)\n"
     ]
    },
    {
     "name": "stdout",
     "output_type": "stream",
     "text": [
      "----------------------------------------------\n",
      "hsa-miR-451a \n",
      " (1525, 11)\n",
      "hsa-miR-451a \n",
      " (1444, 11)\n",
      "Df de los df_s6m4_LaVenganza \n",
      " (59, 11)\n",
      "Df de los df_s6m4_LaVenganza \n",
      " (59, 11)\n",
      "Df de los mers \n",
      " (1385, 11)\n",
      "69\n",
      "Df de los mers \n",
      " (1385, 11)\n",
      "DataFrameConcatenado\n",
      " (1444, 11)\n",
      "DataFrameConcatenado sin dupl\n",
      " (1245, 11)\n"
     ]
    },
    {
     "name": "stderr",
     "output_type": "stream",
     "text": [
      "<ipython-input-4-31de93231e4c>:43: SettingWithCopyWarning: \n",
      "A value is trying to be set on a copy of a slice from a DataFrame\n",
      "\n",
      "See the caveats in the documentation: https://pandas.pydata.org/pandas-docs/stable/user_guide/indexing.html#returning-a-view-versus-a-copy\n",
      "  df_s6m4_LaVenganza.drop_duplicates(['gen_name'], inplace=True, keep=False)\n",
      "/home/juan/anaconda3/lib/python3.8/site-packages/numpy/core/fromnumeric.py:3702: RuntimeWarning: Degrees of freedom <= 0 for slice\n",
      "  return _methods._var(a, axis=axis, dtype=dtype, out=out, ddof=ddof,\n",
      "/home/juan/anaconda3/lib/python3.8/site-packages/numpy/core/_methods.py:253: RuntimeWarning: invalid value encountered in double_scalars\n",
      "  ret = ret.dtype.type(ret / rcount)\n"
     ]
    }
   ],
   "source": [
    "#valor de expresion de los miRs\n",
    "#expr = 0\n",
    "#lista_conservados_expresion = list(merge[merge['media_EXPR'] >= expr]['miR'])\n",
    "\n",
    "#parametros del for loop\n",
    "\n",
    "#multiple_boxplot_SOLOunodelosmotivos = pd.DataFrame()\n",
    "multiple_boxplot_SOLOunodelosmotivos_lista = []\n",
    "estadisticaDF =[]\n",
    "estadistica_Ttest = []\n",
    "\n",
    "mir_numeroDatos_un_motivo = {}\n",
    "dif_medias_solounmotivo = {}\n",
    "\n",
    "\n",
    "for miR in joinned['miroRNA_name'].unique():\n",
    "    \n",
    "    #Generar el df para cada miR\n",
    "    \n",
    "    df = joinned.copy()\n",
    "    \n",
    "    df = df[(df['miroRNA_name'] == miR) & (df['MIMAT'].str.contains('_zscore'))] #me quedo con el miR y los valores de ZSCORE o spearman\n",
    "    df.dropna(subset=['motivo'], inplace=True)\n",
    "    \n",
    "    print('----------------------------------------------')\n",
    "    print(miR,'\\n', df.shape)\n",
    "    \n",
    "    #saco posibles duplicados dentro de cada motvio (no hay)\n",
    "    df.sort_values('apariciones_motivo', ascending=False).drop_duplicates(['gen_name', 'motivo'], inplace=True, keep= 'first') #no deberian haber porque los filtre antes, en el script anterior.\n",
    "    \n",
    "    #elimino todos los genes que tienen mas de un motivo de cualquiera de ellos, esta rebuscado hay formas mas sencillas de hacerlo pero ahora no voy a tocar el script.\n",
    "    #Saco todo gen que de cualquiera de los motivos tenga mas de uno.  Saco por el nombre no por la cantidad. Por eso esta bien el filtro.\n",
    "    df_mayora1 = df[df['apariciones_motivo'] > 1]\n",
    "    df = df[~df['gen_name'].isin(list(df_mayora1['gen_name']))]\n",
    "    \n",
    "    print(miR,'\\n', df.shape)\n",
    "    \n",
    "    #Agarro todo los motivos con suppl. Incluso creo que este paso no es necesario.\n",
    "    \n",
    "    df_s6m4_LaVenganza = df[df['motivo'].str.contains('SUPPL')] \n",
    "    print('Df de los df_s6m4_LaVenganza \\n', df_s6m4_LaVenganza.shape)\n",
    "    #Saco si estan duplicados, es decir si estan en mas de uno de los motivos\n",
    "    df_s6m4_LaVenganza.drop_duplicates(['gen_name'], inplace=True, keep=False)\n",
    "    #df_s6m4_LaVenganza = df_s6m4_LaVenganza[df_s6m4_LaVenganza['motivo'].str.contains('SUPPL')] #agregado\n",
    "    \n",
    "    print('Df de los df_s6m4_LaVenganza \\n', df_s6m4_LaVenganza.shape)\n",
    "    \n",
    "    \n",
    "    #Hago lo mismo para los mers, saco cualquier duplicado dentro de ellos, es importante separar porque los suppl y los mers estan duplicados porque los suppl incluyen obviamente a los mers respectivos\n",
    "    df_mers = df[df['motivo'].isin(['6mer_site','7merA1_site', '7merm8_site', '8mer_site'])]\n",
    "    \n",
    "    print('Df de los mers \\n',df_mers.shape)\n",
    "    \n",
    "    # Me quedo con los nombres de aquellos genes que estan duplicados para luego quitarlos del DF final\n",
    "    duplicados_mers = set(df_mers[df_mers.duplicated(subset=['gen_name'], keep=False)]['gen_name'])\n",
    "    \n",
    "    print(len(duplicados_mers))\n",
    "    #df_mers.drop_duplicates(['gen_name'], inplace=True, keep=False) #Script viejo\n",
    "    \n",
    "    print('Df de los mers \\n',df_mers.shape)\n",
    "    #Ahora que saque los duplicados de los suppl y tengo la lista de los duplicados en mers. Uno los DFs.\n",
    "    df = pd.concat([df_s6m4_LaVenganza, df_mers])\n",
    "    \n",
    "    print('DataFrameConcatenado\\n', df.shape)\n",
    "    \n",
    "    #saco los duplicados que habia obtenido de los mers    \n",
    "    df = df[~df['gen_name'].isin(duplicados_mers)]\n",
    "    #Ahora en el DF los suppl estan arriba, como tiene seguro un duplicado de mers porque lo incluyen lo que hago es sacarduplicados pero quedarme con el de arriba.\n",
    "    df.drop_duplicates(['gen_name'], inplace=True, keep='first')\n",
    "    \n",
    "    print('DataFrameConcatenado sin dupl\\n', df.shape)\n",
    "    #multiple boxplot\n",
    "    \n",
    "    #df.loc[:,'microRNA'] = str(miR)\n",
    "    \n",
    "    \n",
    "    #df.rename(columns={eje_y[0]: \"correlacion\"},inplace=True)#, inplace=True)\n",
    "    #df.rename(columns={eje_y[1]: \"zscore\"}, inplace=True)\n",
    "    \n",
    "    multiple_boxplot_SOLOunodelosmotivos_lista.append(df)\n",
    "    #multiple_boxplot_SOLOunodelosmotivos = pd.concat([multiple_boxplot_SOLOunodelosmotivos, df], sort=False)\n",
    "    \n",
    "    #statistics\n",
    "    comp1 = mc.MultiComparison(df['CorrOrZscore'], df['motivo'])\n",
    "    #tbl, a1, a2 = comp1.allpairtest(stats.ttest_ind, method= \"bonf\")\n",
    "    tbl = comp1.tukeyhsd()\n",
    "    stast_DF = pd.DataFrame(data=tbl._results_table.data[1:], columns=tbl._results_table.data[0])\n",
    "    stast_DF['microRNA'] = miR\n",
    "    \n",
    "    estadisticaDF.append(stast_DF)\n",
    "\n",
    "    \n",
    "    #statistics 2\n",
    "    \n",
    "    stast2_DF = estadistica_dataFrame(df, 'CorrOrZscore', 'motivo')\n",
    "    stast2_DF['microRNA'] = miR    \n",
    "    \n",
    "    \n",
    "    estadistica_Ttest.append(stast2_DF)\n",
    "\n",
    "    \n",
    "\n",
    "    \n",
    "multiple_boxplot_SOLOunodelosmotivos = pd.concat(multiple_boxplot_SOLOunodelosmotivos_lista)\n",
    "dataFrame_estadistica = pd.concat(estadisticaDF)\n",
    "Student_test_DF = pd.concat(estadistica_Ttest)\n",
    "\n"
   ]
  },
  {
   "cell_type": "code",
   "execution_count": 5,
   "metadata": {},
   "outputs": [],
   "source": [
    "multiple_boxplot_SOLOunodelosmotivos.to_csv('Df_unSoloMotivo_TARGETSCAN_zscore_3UTR_correlaciones_filtrado80porciento.csv', sep='\\t')\n",
    "dataFrame_estadistica.to_csv('Df_unSoloMotivo_TARGETSCAN_zscore_tukethsdTEST_3UTR_correlaciones_filtrado80porciento.csv', sep='\\t')\n",
    "Student_test_DF.to_csv('Df_unSoloMotivo_TARGETSCAN_zscore_studentTEST_3UTR_correlaciones_filtrado80porciento.csv', sep='\\t')"
   ]
  },
  {
   "cell_type": "code",
   "execution_count": 6,
   "metadata": {},
   "outputs": [],
   "source": [
    "#dataFrame_estadistica[(dataFrame_estadistica['group1'] == '6mer_site') & (dataFrame_estadistica['group2'] == '8mer_site') & (dataFrame_estadistica['reject'] == True)]"
   ]
  },
  {
   "cell_type": "code",
   "execution_count": 7,
   "metadata": {},
   "outputs": [],
   "source": [
    "#multiple_boxplot_SOLOunodelosmotivos.to_csv('df_multiple_boxplot_SOLOunodelosmotivos_s8_s7m4_s6m4_s7_s6_3UTR_CambioNDatos_12_2020.csv', sep='\\t')"
   ]
  },
  {
   "cell_type": "code",
   "execution_count": null,
   "metadata": {},
   "outputs": [],
   "source": []
  }
 ],
 "metadata": {
  "kernelspec": {
   "display_name": "Python 3",
   "language": "python",
   "name": "python3"
  },
  "language_info": {
   "codemirror_mode": {
    "name": "ipython",
    "version": 3
   },
   "file_extension": ".py",
   "mimetype": "text/x-python",
   "name": "python",
   "nbconvert_exporter": "python",
   "pygments_lexer": "ipython3",
   "version": "3.8.8"
  }
 },
 "nbformat": 4,
 "nbformat_minor": 4
}
