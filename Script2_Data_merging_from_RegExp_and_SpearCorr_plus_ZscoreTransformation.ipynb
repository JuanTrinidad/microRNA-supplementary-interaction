{
 "cells": [
  {
   "cell_type": "code",
   "execution_count": 42,
   "metadata": {},
   "outputs": [],
   "source": [
    "import pandas as pd\n",
    "import seaborn as sns\n",
    "import numpy as np\n",
    "import mygene\n",
    "mg = mygene.MyGeneInfo()\n",
    "\n",
    "#import sys\n",
    "#!conda install --yes --prefix {sys.prefix} seaborn\n",
    "#!pip install mygene"
   ]
  },
  {
   "cell_type": "code",
   "execution_count": null,
   "metadata": {
    "tags": []
   },
   "outputs": [],
   "source": [
    "#output file from regular expressions script, in this case 3UTR (same script was used for 5'UTR and CDS data)\n",
    "\n",
    "df_MOTIVOS = pd.read_csv('../ExpresionesRegulares_TargetScanCANONICAL_3UTR.csv', sep='\\t',\\\n",
    "                index_col=0, names=['gene', 'seq', 'mir', 'motivo', 'apariciones_motivo','zonaMedia', 'LargoZM'])\n",
    "\n"
   ]
  },
  {
   "cell_type": "code",
   "execution_count": null,
   "metadata": {},
   "outputs": [],
   "source": [
    "df_MOTIVOS.shape"
   ]
  },
  {
   "cell_type": "code",
   "execution_count": null,
   "metadata": {},
   "outputs": [],
   "source": [
    "#Aca el dropduplicates estaba solo genname y mir por eso no me aparecian muchos de los datos de los duplicados\n",
    "\n",
    "def separarunaCol(df, colname):\n",
    "    \n",
    "    \n",
    "    df['gen_name'] = list(df.reset_index()[colname].str.split('|', expand = True)[1])\n",
    "    \n",
    "    return df.sort_values('apariciones_motivo', ascending=False).drop_duplicates(['gen_name', 'mir','motivo'], keep = 'first')\n",
    "    \n",
    "    \n"
   ]
  },
  {
   "cell_type": "code",
   "execution_count": null,
   "metadata": {},
   "outputs": [],
   "source": [
    "\n",
    "df_MOTIVOS = separarunaCol(df_MOTIVOS, 'gene')"
   ]
  },
  {
   "cell_type": "code",
   "execution_count": null,
   "metadata": {},
   "outputs": [],
   "source": [
    "unionConcat = df_MOTIVOS.copy()"
   ]
  },
  {
   "cell_type": "code",
   "execution_count": null,
   "metadata": {},
   "outputs": [],
   "source": [
    "unionConcat.shape"
   ]
  },
  {
   "cell_type": "markdown",
   "metadata": {},
   "source": [
    "### agregar correlaciones"
   ]
  },
  {
   "cell_type": "code",
   "execution_count": null,
   "metadata": {},
   "outputs": [],
   "source": [
    "cr = pd.read_csv('correlaciones_caluladasconPandas_2020_2p0_POST_BARTEL_Filtrado80porciento_de_los_datos_143_microRNAs.csv', sep='\\t',\\\n",
    "                index_col=0)\n",
    "corr = pd.DataFrame(cr)\n",
    "\n",
    "#corr.set_index('index', inplace=True)\n",
    "corr = corr.T\n",
    "corr.reset_index( inplace=True)\n",
    "corr['gene_name'] = corr['index'].str.split('|', expand = True)[0]\n",
    "corr.set_index('index', inplace=True)\n",
    "corr.set_index('gene_name', inplace=True)"
   ]
  },
  {
   "cell_type": "markdown",
   "metadata": {},
   "source": [
    "_rnaseq = pd.read_csv('../../PRAD.rnaseqv2__illuminahiseq_rnaseqv2__unc_edu__Level_3__RSEM_genes_normalized__data.data.txt', \n",
    "                         sep='\\t',\n",
    "                         index_col= 0)\n",
    "\n",
    "rnaseq0 = pd.DataFrame(_rnaseq)\n",
    "rnaseq0 = rnaseq0.replace(0, np.nan)\n",
    "rnaseq0.dropna(thresh = 50, inplace=True) # me saco muchos outliers mal calculados\n",
    "\n",
    "rnaseq = rnaseq0.mean(axis=1).to_frame(name='media_exp_gen_RNAseq')\n",
    "rnaseq.reset_index(inplace=True)\n",
    "rnaseq[['gen_name', 'id']] = rnaseq['Hybridization REF'].str.split('|', expand=True)\n",
    "rnaseq.set_index('gen_name', inplace=True)\n",
    "rnaseq = rnaseq['media_exp_gen_RNAseq'].to_frame()"
   ]
  },
  {
   "cell_type": "code",
   "execution_count": null,
   "metadata": {},
   "outputs": [],
   "source": [
    "corr.drop(index='?',inplace=True)"
   ]
  },
  {
   "cell_type": "markdown",
   "metadata": {},
   "source": [
    "print(corr.isna().sum().sum())\n",
    "\n",
    "corr.replace(to_replace=1, value= np.nan, inplace=True)\n",
    "corr.replace(to_replace=-1, value= np.nan, inplace=True)\n",
    "\n",
    "print(corr.isna().sum().sum())"
   ]
  },
  {
   "cell_type": "code",
   "execution_count": null,
   "metadata": {
    "tags": []
   },
   "outputs": [],
   "source": [
    "df_zscore = (corr - corr.mean())/corr.std()"
   ]
  },
  {
   "cell_type": "code",
   "execution_count": null,
   "metadata": {},
   "outputs": [],
   "source": [
    "corr = corr.join(df_zscore,  lsuffix = '_spearman', rsuffix='_zscore', how='inner')\n",
    "\n",
    "#corr = corr.join(rnaseq, how= 'inner')"
   ]
  },
  {
   "cell_type": "code",
   "execution_count": null,
   "metadata": {},
   "outputs": [],
   "source": [
    "#unionConcat.set_index('gen_name', inplace=True)"
   ]
  },
  {
   "cell_type": "code",
   "execution_count": null,
   "metadata": {},
   "outputs": [],
   "source": [
    "corr = corr.stack().reset_index()\n",
    "corr[['miroRNA_name', 'MIMAT']] = corr['level_1'].str.split('|', expand=True)\n",
    "\n",
    "corr.columns = ['gen_name', 'miRyID','CorrOrZscore', 'miroRNA_name', 'MIMAT']\n",
    "#corr"
   ]
  },
  {
   "cell_type": "code",
   "execution_count": null,
   "metadata": {},
   "outputs": [],
   "source": [
    "#Elimino los .2 y le saco el .1 a los otros porque no tengo esa distincion en los datos de corr\n",
    "unionConcat = unionConcat[~unionConcat['mir'].str.contains('\\.2')]#.sort_values('mir')['mir'].unique()\n",
    "unionConcat['mir'] = unionConcat['mir'].str.replace('\\.1','')"
   ]
  },
  {
   "cell_type": "markdown",
   "metadata": {},
   "source": [
    "#### Union de los archivos"
   ]
  },
  {
   "cell_type": "code",
   "execution_count": null,
   "metadata": {},
   "outputs": [],
   "source": [
    "merged = unionConcat.merge(corr, how='left',left_on=['mir', 'gen_name'], right_on=['miroRNA_name', 'gen_name'], indicator=True) "
   ]
  },
  {
   "cell_type": "code",
   "execution_count": null,
   "metadata": {},
   "outputs": [],
   "source": [
    "unionConcat.shape"
   ]
  },
  {
   "cell_type": "code",
   "execution_count": null,
   "metadata": {},
   "outputs": [],
   "source": [
    "merged.shape"
   ]
  },
  {
   "cell_type": "code",
   "execution_count": null,
   "metadata": {},
   "outputs": [],
   "source": [
    "#merged.to_csv('motivos_regexp_unido_con_corr_zscore_meanExpr.csv', sep='\\t')\n"
   ]
  },
  {
   "cell_type": "code",
   "execution_count": null,
   "metadata": {},
   "outputs": [],
   "source": [
    "probando_recuperar = merged.sort_values('CorrOrZscore', ascending=False).drop_duplicates('gen_name', keep='first')\n",
    "\n",
    "faltan = set(probando_recuperar[probando_recuperar['_merge'] == 'left_only']['gen_name'])\n",
    "\n",
    "index_conteos = mg.querymany(faltan, scopes='symbol', species=9606, as_dataframe = True, fields = 'entrezgene', returnall =False)\n",
    "\n",
    "index_conteos.reset_index(inplace=True)\n",
    "index_conteos.drop_duplicates('query', keep='first', inplace=True)\n",
    "index_conteos.set_index('entrezgene', inplace=True)\n",
    "\n",
    "cr = pd.read_csv('correlaciones_caluladasconPandas_2020_2p0_POST_BARTEL_Filtrado80porciento_de_los_datos_143_microRNAs.csv', sep='\\t',\\\n",
    "                index_col=0)\n",
    "corr2 = pd.DataFrame(cr)\n",
    "#corr2.set_index('index', inplace=True)\n",
    "corr2 = corr2.T\n",
    "corr2.reset_index( inplace=True)\n",
    "corr2[['gene_name', 'Gen_ID']] = corr2['index'].str.split('|', expand = True)\n",
    "corr2.set_index('index', inplace=True)\n",
    "corr2.set_index('gene_name', inplace=True)\n",
    "corr2.replace(to_replace=1, value= np.nan, inplace=True)\n",
    "corr2.replace(to_replace=-1, value= np.nan, inplace=True)\n",
    "\n",
    "corr2 = corr2.join(df_zscore,  lsuffix = '_spearman', rsuffix='_zscore', how='inner')\n",
    "\n",
    "#corr2 = corr2.join(rnaseq, how= 'inner')\n",
    "corr2.set_index('Gen_ID', inplace=True)\n",
    "\n",
    "recuperados = index_conteos['query'].to_frame().join(corr2, how= 'inner')\n",
    "recuperados.set_index('query', inplace=True)\n",
    "\n",
    "print('se recueran',recuperados.shape[0] )\n",
    "#prueba_recupero = merged.combine_first(recuperados)"
   ]
  },
  {
   "cell_type": "code",
   "execution_count": null,
   "metadata": {},
   "outputs": [],
   "source": [
    "\n",
    "recuperadosunstack = recuperados.stack().reset_index()\n",
    "recuperadosunstack[['miroRNA_name', 'MIMAT']] = recuperadosunstack['level_1'].str.split('|', expand=True)\n",
    "recuperadosunstack.columns = ['gen_name', 'miRyID','CorrOrZscore', 'miroRNA_name', 'MIMAT']\n",
    "\n",
    "#prueba_recupero = merged.combine_first(recuperadosunstack)"
   ]
  },
  {
   "cell_type": "code",
   "execution_count": null,
   "metadata": {},
   "outputs": [],
   "source": [
    "merged['gen_name'] = merged['gen_name'].astype(str)\n",
    "merged['miRyID'] = merged['miRyID'].astype(str)\n",
    "\n",
    "recuperadosunstack['gen_name'] = recuperadosunstack['gen_name'].astype(str)\n",
    "recuperadosunstack['miRyID'] = recuperadosunstack['miRyID'].astype(str)\n",
    "\n",
    "merged.set_index(['gen_name', 'miRyID'], inplace=True)\n",
    "recuperadosunstack.set_index(['gen_name', 'miRyID'], inplace=True)\n",
    "\n",
    "prueba_recupero = merged.combine_first(recuperadosunstack)\n",
    "prueba_recupero.reset_index(inplace=True)"
   ]
  },
  {
   "cell_type": "code",
   "execution_count": null,
   "metadata": {},
   "outputs": [],
   "source": [
    "merged.reset_index(inplace=True)\n",
    "recuperadosunstack.reset_index(inplace=True)"
   ]
  },
  {
   "cell_type": "code",
   "execution_count": null,
   "metadata": {},
   "outputs": [],
   "source": [
    "print(prueba_recupero['miroRNA_name'].nunique())\n",
    "print(prueba_recupero['mir'].nunique())"
   ]
  },
  {
   "cell_type": "code",
   "execution_count": null,
   "metadata": {},
   "outputs": [],
   "source": [
    "#Le saco lo que no tiene valor de Zscore o de correlacion\n",
    "prueba_recupero.dropna(subset=['CorrOrZscore'], inplace=True)"
   ]
  },
  {
   "cell_type": "code",
   "execution_count": null,
   "metadata": {},
   "outputs": [],
   "source": []
  },
  {
   "cell_type": "code",
   "execution_count": null,
   "metadata": {},
   "outputs": [],
   "source": []
  },
  {
   "cell_type": "code",
   "execution_count": null,
   "metadata": {},
   "outputs": [],
   "source": []
  },
  {
   "cell_type": "code",
   "execution_count": null,
   "metadata": {},
   "outputs": [],
   "source": [
    "print('Numero de genes que quedan despues de unir los dfs',len(set(merged[(merged['_merge'] == 'both') & (~merged['CorrOrZscore'].isna())]['gen_name'])))"
   ]
  },
  {
   "cell_type": "code",
   "execution_count": null,
   "metadata": {},
   "outputs": [],
   "source": [
    "print('Numero de genes que quedan despues de unir los dfs', len(set(prueba_recupero[~prueba_recupero['CorrOrZscore'].isna()]['gen_name'])))"
   ]
  },
  {
   "cell_type": "code",
   "execution_count": null,
   "metadata": {},
   "outputs": [],
   "source": [
    "print('Numero de genes que quedan ANTES de unir los dfs',len(set(unionConcat.index)))"
   ]
  },
  {
   "cell_type": "code",
   "execution_count": null,
   "metadata": {},
   "outputs": [],
   "source": [
    "#merged[merged['miroRNA_name'].isna()]#['mir'].unique()\n",
    "merged['miroRNA_name'].nunique()"
   ]
  },
  {
   "cell_type": "code",
   "execution_count": null,
   "metadata": {},
   "outputs": [],
   "source": [
    "print(prueba_recupero['miroRNA_name'].nunique())\n",
    "print(prueba_recupero['mir'].nunique())"
   ]
  },
  {
   "cell_type": "code",
   "execution_count": null,
   "metadata": {},
   "outputs": [],
   "source": [
    "print(merged.shape)\n",
    "print(prueba_recupero.dropna(subset=['mir']).shape)"
   ]
  },
  {
   "cell_type": "code",
   "execution_count": null,
   "metadata": {},
   "outputs": [],
   "source": [
    "prueba_recupero.dropna(subset=['mir'])['mir'].nunique()"
   ]
  },
  {
   "cell_type": "code",
   "execution_count": null,
   "metadata": {},
   "outputs": [],
   "source": [
    "#prueba_recupero.to_csv('motivos_regexp_s6_s7_s6m41316_largoZM_unido_con_corr_zscore_meanExpr_TODOS_conservEvol.csv', sep='\\t')"
   ]
  },
  {
   "cell_type": "code",
   "execution_count": null,
   "metadata": {},
   "outputs": [],
   "source": [
    "#prueba_recupero.drop(columns = ['seq']).to_csv('motivos_TARGETSCAN_conservEVOL_sinsequencia_3UTR_correlaciones_filtrado80porciento.csv', sep='\\t')"
   ]
  },
  {
   "cell_type": "code",
   "execution_count": null,
   "metadata": {},
   "outputs": [],
   "source": [
    "print('Termino el script')"
   ]
  },
  {
   "cell_type": "code",
   "execution_count": null,
   "metadata": {
    "tags": []
   },
   "outputs": [],
   "source": [
    "#prueba_recupero[(prueba_recupero['miroRNA_name'] == 'hsa-let-7a-5p') & (prueba_recupero['gen_name'].duplicated(keep=False)) & (prueba_recupero['MIMAT'].str.contains('_zscore'))].sort_values(['gen_name', 'miroRNA_name'])"
   ]
  },
  {
   "cell_type": "code",
   "execution_count": null,
   "metadata": {},
   "outputs": [],
   "source": [
    "df_numero_interacciones = merged[merged.miRyID.str.contains('zscore')]\n",
    "\n",
    "df_numero_interacciones.apariciones_motivo.sum()"
   ]
  },
  {
   "cell_type": "code",
   "execution_count": null,
   "metadata": {},
   "outputs": [],
   "source": []
  }
 ],
 "metadata": {
  "kernelspec": {
   "display_name": "Python 3",
   "language": "python",
   "name": "python3"
  },
  "language_info": {
   "codemirror_mode": {
    "name": "ipython",
    "version": 3
   },
   "file_extension": ".py",
   "mimetype": "text/x-python",
   "name": "python",
   "nbconvert_exporter": "python",
   "pygments_lexer": "ipython3",
   "version": "3.8.8"
  }
 },
 "nbformat": 4,
 "nbformat_minor": 4
}
