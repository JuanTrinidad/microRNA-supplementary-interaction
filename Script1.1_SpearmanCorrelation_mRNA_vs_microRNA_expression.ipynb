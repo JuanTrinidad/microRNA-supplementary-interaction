{
 "cells": [
  {
   "cell_type": "markdown",
   "metadata": {},
   "source": [
    "coding: utf-8"
   ]
  },
  {
   "cell_type": "markdown",
   "metadata": {},
   "source": [
    "In[5]:"
   ]
  },
  {
   "cell_type": "code",
   "execution_count": 17,
   "metadata": {},
   "outputs": [],
   "source": [
    "import pandas as pd\n",
    "import numpy as np"
   ]
  },
  {
   "cell_type": "markdown",
   "metadata": {},
   "source": [
    "In[2]:"
   ]
  },
  {
   "cell_type": "code",
   "execution_count": 18,
   "metadata": {},
   "outputs": [],
   "source": [
    "r = pd.read_csv('PRAD.miRseq_mature_RPM.txt', sep='\\t', index_col=0)\n",
    "miRseq = pd.DataFrame(r)"
   ]
  },
  {
   "cell_type": "code",
   "execution_count": 19,
   "metadata": {},
   "outputs": [],
   "source": [
    "r_ = pd.read_csv('PRAD.rnaseqv2__illuminahiseq_rnaseqv2__unc_edu__Level_3__RSEM_genes_normalized__data.data.txt', sep='\\t', index_col=0)\n",
    "mRNAseq = pd.DataFrame(r_)"
   ]
  },
  {
   "cell_type": "code",
   "execution_count": 20,
   "metadata": {},
   "outputs": [
    {
     "name": "stdout",
     "output_type": "stream",
     "text": [
      "entraron los archivos\n"
     ]
    }
   ],
   "source": [
    "print('entraron los archivos')"
   ]
  },
  {
   "cell_type": "markdown",
   "metadata": {},
   "source": [
    "In[6]:"
   ]
  },
  {
   "cell_type": "code",
   "execution_count": 21,
   "metadata": {},
   "outputs": [],
   "source": [
    "mRNAseq = mRNAseq.replace(0, np.nan)"
   ]
  },
  {
   "cell_type": "markdown",
   "metadata": {},
   "source": [
    "In[7]:"
   ]
  },
  {
   "cell_type": "code",
   "execution_count": 22,
   "metadata": {},
   "outputs": [],
   "source": [
    "miRseq = miRseq.replace('NA', np.nan)"
   ]
  },
  {
   "cell_type": "markdown",
   "metadata": {},
   "source": [
    "In[75]:"
   ]
  },
  {
   "cell_type": "code",
   "execution_count": 23,
   "metadata": {},
   "outputs": [
    {
     "name": "stdout",
     "output_type": "stream",
     "text": [
      "entraron los archivos transpuestos\n"
     ]
    }
   ],
   "source": [
    "transpuestaMIR = miRseq.T\n",
    "transpuestaMRNA = mRNAseq.T\n",
    "#result = transpuestaMIR.join(transpuestaMRNA, how='inner')\n",
    "#result = result.T\n",
    "print('entraron los archivos transpuestos')"
   ]
  },
  {
   "cell_type": "markdown",
   "metadata": {},
   "source": [
    "In[76]:"
   ]
  },
  {
   "cell_type": "code",
   "execution_count": 24,
   "metadata": {},
   "outputs": [],
   "source": [
    "indexMIR = []\n",
    "for i in transpuestaMIR.index.str.split('-'):\n",
    "    #paciente = i[2]\n",
    "    paciente = '_'.join(i[:5])\n",
    "    #print('_'.join(paciente))\n",
    "    indexMIR.append(paciente)"
   ]
  },
  {
   "cell_type": "markdown",
   "metadata": {},
   "source": [
    "In[77]:"
   ]
  },
  {
   "cell_type": "code",
   "execution_count": 25,
   "metadata": {},
   "outputs": [],
   "source": [
    "indexMRNA = []\n",
    "for i in transpuestaMRNA.index.str.split('-'):\n",
    "    #paciente = i[2]\n",
    "    paciente = '_'.join(i[:5])\n",
    "    #print('_'.join(paciente))\n",
    "    indexMRNA.append(paciente)"
   ]
  },
  {
   "cell_type": "markdown",
   "metadata": {},
   "source": [
    "In[78]:"
   ]
  },
  {
   "cell_type": "code",
   "execution_count": 26,
   "metadata": {},
   "outputs": [],
   "source": [
    "transpuestaMIR.index = indexMIR\n",
    "transpuestaMRNA.index = indexMRNA"
   ]
  },
  {
   "cell_type": "code",
   "execution_count": 27,
   "metadata": {},
   "outputs": [
    {
     "name": "stdout",
     "output_type": "stream",
     "text": [
      "los dos for y el index\n"
     ]
    }
   ],
   "source": [
    "print('los dos for y el index')"
   ]
  },
  {
   "cell_type": "code",
   "execution_count": 28,
   "metadata": {},
   "outputs": [
    {
     "name": "stdout",
     "output_type": "stream",
     "text": [
      "En este paso pasamos de tener 2588\n",
      "A tener 431\n"
     ]
    }
   ],
   "source": [
    "transpuestaMIR = transpuestaMIR.T\n",
    "\n",
    "\n",
    "print('En este paso pasamos de tener', transpuestaMIR.shape[0])\n",
    "\n",
    "filtro_80porciento = round(transpuestaMIR.shape[1] * 0.8)\n",
    "\n",
    "\n",
    "transpuestaMIR.dropna(thresh=filtro_80porciento, inplace = True)\n",
    "\n",
    "print('A tener', transpuestaMIR.shape[0])\n",
    "\n",
    "transpuestaMIR = transpuestaMIR.T"
   ]
  },
  {
   "cell_type": "code",
   "execution_count": 29,
   "metadata": {},
   "outputs": [
    {
     "name": "stdout",
     "output_type": "stream",
     "text": [
      "En este paso pasamos de tener 20531\n",
      "A tener 16786\n"
     ]
    }
   ],
   "source": [
    "transpuestaMRNA = transpuestaMRNA.T\n",
    "\n",
    "\n",
    "print('En este paso pasamos de tener', transpuestaMRNA.shape[0])\n",
    "\n",
    "filtro_80porciento_mRNA = round(transpuestaMRNA.shape[1] * 0.8)\n",
    "\n",
    "\n",
    "transpuestaMRNA.dropna(thresh=filtro_80porciento_mRNA, inplace = True)\n",
    "\n",
    "print('A tener', transpuestaMRNA.shape[0])\n",
    "\n",
    "transpuestaMRNA = transpuestaMRNA.T"
   ]
  },
  {
   "cell_type": "code",
   "execution_count": null,
   "metadata": {},
   "outputs": [],
   "source": []
  },
  {
   "cell_type": "code",
   "execution_count": null,
   "metadata": {},
   "outputs": [],
   "source": []
  },
  {
   "cell_type": "code",
   "execution_count": null,
   "metadata": {},
   "outputs": [],
   "source": []
  },
  {
   "cell_type": "markdown",
   "metadata": {},
   "source": [
    "In[80]:"
   ]
  },
  {
   "cell_type": "code",
   "execution_count": 14,
   "metadata": {},
   "outputs": [],
   "source": [
    "result = transpuestaMIR.join(transpuestaMRNA, how='inner')"
   ]
  },
  {
   "cell_type": "code",
   "execution_count": 15,
   "metadata": {},
   "outputs": [
    {
     "name": "stdout",
     "output_type": "stream",
     "text": [
      "entraron los archivos join\n"
     ]
    }
   ],
   "source": [
    "print('entraron los archivos join')"
   ]
  },
  {
   "cell_type": "markdown",
   "metadata": {},
   "source": [
    "In[82]:"
   ]
  },
  {
   "cell_type": "code",
   "execution_count": 16,
   "metadata": {},
   "outputs": [
    {
     "name": "stdout",
     "output_type": "stream",
     "text": [
      "(547, 431)\n",
      "(550, 16786)\n",
      "(546, 17217)\n"
     ]
    }
   ],
   "source": [
    "print(transpuestaMIR.shape) #confirmando que el shape estuviera bien\n",
    "print(transpuestaMRNA.shape) #confirmando que el shape estuviera bien\n",
    "print(result.shape)"
   ]
  },
  {
   "cell_type": "markdown",
   "metadata": {},
   "source": [
    "In[83]:"
   ]
  },
  {
   "cell_type": "code",
   "execution_count": null,
   "metadata": {},
   "outputs": [
    {
     "name": "stdout",
     "output_type": "stream",
     "text": [
      "entrando en correlaciones\n"
     ]
    }
   ],
   "source": [
    "print('entrando en correlaciones')\n",
    "correlaciones = result.corr(method= 'spearman')"
   ]
  },
  {
   "cell_type": "markdown",
   "metadata": {},
   "source": [
    "orroboré con XENA las correlaciones son casi indenticas, cambian como mucho en 0.001. También miré microRNAs de baja expresión como 301b y dan los mismo."
   ]
  },
  {
   "cell_type": "markdown",
   "metadata": {},
   "source": [
    "In[ ]:"
   ]
  },
  {
   "cell_type": "code",
   "execution_count": null,
   "metadata": {},
   "outputs": [],
   "source": [
    "correlaciones.to_csv('correlaciones_caluladasconPandas_2020_2p0_POST_BARTEL_Filtrado80porciento_de_los_datos.csv', sep = '\\t')"
   ]
  },
  {
   "cell_type": "code",
   "execution_count": null,
   "metadata": {},
   "outputs": [],
   "source": [
    "# Termino el script\n",
    "f = open('TERMINO_de_correr_correlaciones_post_BATEL.txt', 'w')\n",
    "\n",
    "f.write('Ya termino amishstaaaa')\n",
    "\n",
    "f.close()"
   ]
  },
  {
   "cell_type": "code",
   "execution_count": null,
   "metadata": {},
   "outputs": [],
   "source": []
  },
  {
   "cell_type": "code",
   "execution_count": null,
   "metadata": {},
   "outputs": [],
   "source": []
  },
  {
   "cell_type": "code",
   "execution_count": null,
   "metadata": {},
   "outputs": [],
   "source": []
  }
 ],
 "metadata": {
  "kernelspec": {
   "display_name": "Python 3",
   "language": "python",
   "name": "python3"
  },
  "language_info": {
   "codemirror_mode": {
    "name": "ipython",
    "version": 3
   },
   "file_extension": ".py",
   "mimetype": "text/x-python",
   "name": "python",
   "nbconvert_exporter": "python",
   "pygments_lexer": "ipython3",
   "version": "3.8.8"
  }
 },
 "nbformat": 4,
 "nbformat_minor": 4
}
