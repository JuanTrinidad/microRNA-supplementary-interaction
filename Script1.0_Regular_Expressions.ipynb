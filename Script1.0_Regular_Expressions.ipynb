{
 "cells": [
  {
   "cell_type": "code",
   "execution_count": 1,
   "metadata": {},
   "outputs": [],
   "source": [
    "import regex as re\n",
    "import pandas as pd\n",
    "import numpy as np"
   ]
  },
  {
   "cell_type": "markdown",
   "metadata": {},
   "source": [
    "#### convertirlo en una linea"
   ]
  },
  {
   "cell_type": "raw",
   "metadata": {},
   "source": [
    "file = open('martquery_0427225317_527.txt', 'r')\n",
    "\n",
    "output= open('martquery_0427225317_527_unaLinea.txt', 'w')"
   ]
  },
  {
   "cell_type": "raw",
   "metadata": {},
   "source": [
    "for i in file.readlines():\n",
    "    if i.startswith('>'):\n",
    "        output.write('\\n')\n",
    "        output.write(i)\n",
    "        \n",
    "    else:\n",
    "        output.write(i.strip())"
   ]
  },
  {
   "cell_type": "markdown",
   "metadata": {},
   "source": [
    "### Convertirlos desde la secuencia\n",
    "<img src=\"canonical.png\">"
   ]
  },
  {
   "cell_type": "code",
   "execution_count": 2,
   "metadata": {},
   "outputs": [],
   "source": [
    "r = pd.read_csv('../miR_Family_Info_targetScan_2016.txt', sep='\\t', index_col=3)\n",
    "miRseqFC = pd.DataFrame(r)\n",
    "\n",
    "\n",
    "\n",
    "def reverse_complement(dna):\n",
    "    complement = {'A': 'T', 'C': 'G', 'G': 'C', 'T': 'A', 'U':'A'}\n",
    "    return ''.join([complement[base] for base in dna[::-1]])\n"
   ]
  },
  {
   "cell_type": "code",
   "execution_count": 3,
   "metadata": {},
   "outputs": [],
   "source": [
    "lista_miRs = list(miRseqFC[(miRseqFC['Species ID'] == 9606) & (miRseqFC['Family Conservation?'] == 2)].index)\n",
    "\n",
    "#Oncomirs_todos\n",
    "#lista_miRs = ['hsa-miR-187-3p', 'hsa-miR-205-5p', 'hsa-miR-221-3p', 'hsa-miR-143-3p', 'hsa-miR-184', 'hsa-miR-133b', 'hsa-miR-490-3p', 'hsa-miR-136-3p', 'hsa-miR-23c','hsa-miR-183-5p.1', 'hsa-miR-126-3p.1','hsa-miR-17-5p', 'hsa-miR-17-3p', 'hsa-miR-19a-3p', 'hsa-miR-19b-3p', 'hsa-miR-20a-5p', 'hsa-miR-21-5p', 'hsa-miR-25-3p', 'hsa-miR-92a-3p', 'hsa-miR-93-5p', 'hsa-miR-96-5p', 'hsa-miR-103a-3p', 'hsa-miR-106a-5p', 'hsa-miR-148a-3p', 'hsa-miR-182-5p','hsa-miR-199b-5p', 'hsa-miR-210-3p', 'hsa-miR-30b-5p', 'hsa-miR-141-3p', 'hsa-miR-153-3p', 'hsa-miR-191-5p', 'hsa-miR-9-5p', 'hsa-miR-200c-3p', 'hsa-miR-106b-5p', 'hsa-miR-362-5p', 'hsa-miR-375', 'hsa-miR-342-3p', 'hsa-miR-20b-5p', 'hsa-miR-146b-5p', 'hsa-miR-500a-3p', 'hsa-miR-660-5p', 'hsa-miR-425-5p', 'hsa-miR-20a-3p', 'hsa-miR-93-3p', 'hsa-miR-7-1-3p', 'hsa-miR-141-5p', 'hsa-miR-200c-5p', 'hsa-miR-423-5p', 'hsa-miR-146b-3p', 'hsa-miR-501-3p', 'hsa-miR-629-5p', 'hsa-miR-708-5p', 'hsa-miR-708-3p', 'hsa-miR-1307-3p', 'hsa-miR-3065-3p', 'hsa-miR-3607-3p']\n",
    "#supresores los primeros hasta hsa-miR-23c\n",
    "\n",
    "#'hsa-miR-183-5p.1','hsa-miR-126-3p.1' #problemas con el .1 ya lo solucioné"
   ]
  },
  {
   "cell_type": "markdown",
   "metadata": {},
   "source": [
    "<img src=\"ejemplolet7.PNG\">"
   ]
  },
  {
   "cell_type": "code",
   "execution_count": 4,
   "metadata": {},
   "outputs": [
    {
     "name": "stdout",
     "output_type": "stream",
     "text": [
      "GAGGUA\n",
      "TACCTC\n",
      "ACAA\n",
      "TATAC\n"
     ]
    }
   ],
   "source": [
    "#ahora es la secuencia de hsa-let-7a-5p\n",
    "mir122 = 'UGAGGUAGUAGGUUGUAUAGUU'\n",
    "recmir122 = reverse_complement(mir122)\n",
    "seed6122 = mir122[1:7]\n",
    "seed6compl122 = reverse_complement(seed6122)\n",
    "\n",
    "extra13_16122 = recmir122[-16:-12]\n",
    "extra15_19122 = recmir122[-19:-14]\n",
    "\n",
    "print(seed6122)\n",
    "print(seed6compl122)\n",
    "print(extra13_16122 )\n",
    "print(extra15_19122)"
   ]
  },
  {
   "cell_type": "code",
   "execution_count": 5,
   "metadata": {},
   "outputs": [],
   "source": [
    "mir_seq = miRseqFC.loc[lista_miRs,:]"
   ]
  },
  {
   "cell_type": "markdown",
   "metadata": {},
   "source": [
    "#### Vamos a hacer tal cual Targetscan"
   ]
  },
  {
   "cell_type": "code",
   "execution_count": 6,
   "metadata": {},
   "outputs": [],
   "source": [
    "cont = 0\n",
    "dict_regexp = {}\n",
    "\n",
    "\n",
    "for index,row in mir_seq.iterrows():\n",
    "    cont += 1\n",
    "    rev = reverse_complement(row['Mature sequence'])\n",
    "    #seed\n",
    "    seed6 = row['Mature sequence'][1:7]\n",
    "    seed7 = row['Mature sequence'][1:8]\n",
    "    #seed complement\n",
    "    seed6compl = reverse_complement(seed6)\n",
    "    seed7compl = reverse_complement(seed7)\n",
    "    #next nucleotide\n",
    "    no7 = reverse_complement(row['Mature sequence'][7])\n",
    "    no8 = reverse_complement(row['Mature sequence'][8])\n",
    "    \n",
    "    #print(row['Mature sequence'][8])\n",
    "    \n",
    "    extra4_13_16 = rev[-16:-12]\n",
    "    \n",
    "    extra4_15_19 = rev[-19:-14]\n",
    "    \n",
    "    #print(index, row['Mature sequence'])\n",
    "    #print(seed6)\n",
    "    #print(seed6compl)\n",
    "    #print(extra4_13_16)\n",
    "    #print(extra4_15_19)\n",
    "    \n",
    "    #print(extra4_13_16)\n",
    "    \n",
    "    site_6mer = '[^'+ str(no7) + ']' + seed6compl + '[^A]'\n",
    "    site_7merA1 = '[^'+ str(no7) + ']' + seed6compl + 'A'\n",
    "    site_7merm8 = '[^'+ str(no8) + ']' + seed7compl + '[^A]'\n",
    "    site_8mer = '[^'+ str(no8) + ']' + seed7compl + 'A'\n",
    "    \n",
    "    \n",
    "    site_6mer_suppl = '(' + str(extra4_13_16) +')' +'((?:(?!'+ str(extra4_13_16) + ').){0,14}?)' +'([^'+ str(no7) + ']' + seed6compl + '[^A]' + ')'\n",
    "    site_7merA1_suppl = '(' + str(extra4_13_16) +')' +'((?:(?!'+ str(extra4_13_16) + ').){0,14}?)' +'([^'+ str(no7) + ']' + seed6compl + 'A' + ')'\n",
    "    site_7merm8_suppl = '(' + str(extra4_13_16) +')' +'((?:(?!'+ str(extra4_13_16) + ').){0,14}?)' +'([^'+ str(no8) + ']' + seed7compl + '[^A]' + ')'\n",
    "    site_8mer_suppl = '(' + str(extra4_13_16) +')' +'((?:(?!'+ str(extra4_13_16) + ').){0,14}?)' +'([^'+ str(no8) + ']' + seed7compl + 'A' + ')'\n",
    "    \n",
    "    dict_regexp[index] = [site_6mer, site_7merA1, site_7merm8, site_8mer, site_6mer_suppl, site_7merA1_suppl, site_7merm8_suppl, site_8mer_suppl]"
   ]
  },
  {
   "cell_type": "code",
   "execution_count": 7,
   "metadata": {
    "tags": []
   },
   "outputs": [],
   "source": [
    "\n",
    "f = open('diccionario_REGEXP.txt', 'w')\n",
    "f.write(str(dict_regexp))\n",
    "f.close()"
   ]
  },
  {
   "cell_type": "code",
   "execution_count": 8,
   "metadata": {},
   "outputs": [],
   "source": [
    "diccionario_para_Guille = {}\n",
    "for i in dict_regexp:\n",
    "    diccionario_para_Guille[i] = dict_regexp[i][0]\n",
    "\n",
    "f = open('diccionario_para_guille.txt', 'w')\n",
    "f.write(str(diccionario_para_Guille))\n",
    "f.close()"
   ]
  },
  {
   "cell_type": "code",
   "execution_count": 9,
   "metadata": {},
   "outputs": [],
   "source": [
    "def grabarfile(linea1, linea2, miR, motivo, NumMotivo , seqmedia, seqmediaLargo, arch):\n",
    "                    \n",
    "    linea1 = line1.strip()\n",
    "    linea2 = line2.strip()\n",
    "    miR = miR.strip()\n",
    "    motivo = motivo.strip()\n",
    "    \n",
    "    arch.write(linea1)\n",
    "    arch.write('\\t')\n",
    "    arch.write(linea2)\n",
    "    arch.write('\\t')\n",
    "    arch.write(miR)\n",
    "    arch.write('\\t')\n",
    "    arch.write(motivo)\n",
    "    arch.write('\\t')\n",
    "    arch.write(str(NumMotivo))\n",
    "    arch.write('\\t')\n",
    "    arch.write(seqmedia)\n",
    "    arch.write('\\t')\n",
    "    arch.write(str(seqmediaLargo))\n",
    "    arch.write('\\n')   \n"
   ]
  },
  {
   "cell_type": "code",
   "execution_count": 10,
   "metadata": {
    "scrolled": true
   },
   "outputs": [],
   "source": [
    "\n",
    "archivoTODAS = open('ExpresionesRegulares_TargetScanCANONICAL_3UTR.csv', 'w')\n",
    "\n",
    "\n",
    "for mir in dict_regexp:\n",
    "    \n",
    "    prog6mer = re.compile(dict_regexp[mir][0])\n",
    "    prog7merA1 = re.compile(dict_regexp[mir][1])\n",
    "    prog7merm8 = re.compile(dict_regexp[mir][2])\n",
    "    prog8mer = re.compile(dict_regexp[mir][3])\n",
    "    \n",
    "    prog6mer_SUPPL = re.compile(dict_regexp[mir][4])\n",
    "    prog7merA1_SUPPL = re.compile(dict_regexp[mir][5])\n",
    "    prog7merm8_SUPPL = re.compile(dict_regexp[mir][6])\n",
    "    prog8mer_SUPPL = re.compile(dict_regexp[mir][7])\n",
    "    \n",
    "    ciento = open('../martquery_0427225317_527_unaLinea.txt', 'r') #one-line fasta file of sequence to search\n",
    "    \n",
    "    line1 = ciento.readline()\n",
    "    line2 = ciento.readline()\n",
    "    \n",
    "    while line1:\n",
    "        \n",
    "        if line1.startswith('>protein_coding'): #== True:\n",
    "        \n",
    "\n",
    "            resultado6mer = re.findall(prog6mer, line2)\n",
    "            resultado7merA1 = re.findall(prog7merA1, line2)\n",
    "            resultado7merm8 = re.findall(prog7merm8, line2)\n",
    "            resultado8mer = re.findall(prog8mer, line2)\n",
    "            \n",
    "            resultado6mer_SUPPL = re.findall(prog6mer_SUPPL, line2)\n",
    "            resultado7merA1_SUPPL = re.findall(prog7merA1_SUPPL, line2)\n",
    "            resultado7merm8_SUPP = re.findall(prog7merm8_SUPPL, line2)\n",
    "            resultado8mer_SUPPL = re.findall(prog8mer_SUPPL, line2)\n",
    "\n",
    "            \n",
    "            #-------------------------\n",
    "            #Primero las seeds solas\n",
    "            #-------------------------\n",
    "            if len(resultado6mer) != 0:\n",
    "                \n",
    "                for regExp in resultado6mer:                    \n",
    "\n",
    "                    grabarfile(line1, line2, mir, '6mer_site', len(resultado6mer), '6mer_site' , 0 ,archivoTODAS)\n",
    "                \n",
    "            if len(resultado7merA1) != 0:\n",
    "                \n",
    "                for regExp in resultado7merA1:\n",
    "                    \n",
    "                    grabarfile(line1, line2, mir, '7merA1_site', len(resultado7merA1), '7merA1_site' , 0 ,archivoTODAS)\n",
    "                \n",
    "            if len(resultado7merm8) != 0:\n",
    "                \n",
    "                for regExp in resultado7merm8:\n",
    "                    \n",
    "                    grabarfile(line1, line2, mir, '7merm8_site', len(resultado7merm8), '7merm8_site', 0 , archivoTODAS)\n",
    "                    \n",
    "            if len(resultado8mer) != 0:\n",
    "                \n",
    "                for regExp in resultado8mer:\n",
    "                    \n",
    "                    grabarfile(line1, line2, mir, '8mer_site', len(resultado8mer), '8mer_site', 0 , archivoTODAS)\n",
    "                    \n",
    "                    \n",
    "            #------------------------\n",
    "            #Ahora las suplementarias\n",
    "            #------------------------\n",
    "            if len(resultado6mer_SUPPL) != 0:\n",
    "                \n",
    "                for regExp in resultado6mer_SUPPL:                    \n",
    "\n",
    "                    grabarfile(line1, line2, mir, '6mer_site_SUPPL', len(resultado6mer_SUPPL), resultado6mer_SUPPL[0][1], len(resultado6mer_SUPPL[0][1]) ,archivoTODAS)\n",
    "                \n",
    "            if len(resultado7merA1_SUPPL) != 0:\n",
    "                \n",
    "                for regExp in resultado7merA1_SUPPL:\n",
    "                    \n",
    "                    grabarfile(line1, line2, mir, '7merA1_site_SUPPL', len(resultado7merA1_SUPPL), resultado7merA1_SUPPL[0][1], len(resultado7merA1_SUPPL[0][1]) ,archivoTODAS)\n",
    "                \n",
    "            if len(resultado7merm8_SUPP) != 0:\n",
    "                \n",
    "                for regExp in resultado7merm8_SUPP:\n",
    "                    \n",
    "                    grabarfile(line1, line2, mir, '7merm8_site_SUPPL', len(resultado7merm8_SUPP), resultado7merm8_SUPP[0][1], len(resultado7merm8_SUPP[0][1]) , archivoTODAS)\n",
    "                    \n",
    "            if len(resultado8mer_SUPPL) != 0:\n",
    "                \n",
    "                for regExp in resultado8mer_SUPPL:\n",
    "                    \n",
    "                    grabarfile(line1, line2, mir, '8mer_site_SUPPL', len(resultado8mer_SUPPL), resultado8mer_SUPPL[0][1], len(resultado8mer_SUPPL[0][1]) , archivoTODAS)\n",
    "\n",
    "                \n",
    "        line1 = ciento.readline()\n",
    "        line2 = ciento.readline()\n",
    "        \n",
    "        \n",
    "        \n",
    "\n",
    "archivoTODAS.close()\n",
    "   \n",
    "   \n",
    "\n"
   ]
  },
  {
   "cell_type": "code",
   "execution_count": 11,
   "metadata": {},
   "outputs": [],
   "source": [
    "df_3UTR = pd.read_csv('ExpresionesRegulares_TargetScanCANONICAL_3UTR.csv', sep='\\t',\\\n",
    "                      names=['gene_name', 'seq','microRNA','site', 'Number_sites','bridge','bridge_length'])\n",
    "\n",
    "#df_3UTR.set_index('gene_name') \n",
    "#df_3UTR.drop('seq', axis=1, inplace=True)\n",
    "\n",
    "#df_3UTR.to_csv('ExpresionesRegulares_TargetScanCANONICAL_3UTR_sinSEQ.csv', sep='\\t')"
   ]
  },
  {
   "cell_type": "code",
   "execution_count": 12,
   "metadata": {},
   "outputs": [
    {
     "name": "stdout",
     "output_type": "stream",
     "text": [
      "final\n"
     ]
    }
   ],
   "source": [
    "print('final')"
   ]
  },
  {
   "cell_type": "code",
   "execution_count": null,
   "metadata": {},
   "outputs": [],
   "source": []
  }
 ],
 "metadata": {
  "kernelspec": {
   "display_name": "Python 3",
   "language": "python",
   "name": "python3"
  },
  "language_info": {
   "codemirror_mode": {
    "name": "ipython",
    "version": 3
   },
   "file_extension": ".py",
   "mimetype": "text/x-python",
   "name": "python",
   "nbconvert_exporter": "python",
   "pygments_lexer": "ipython3",
   "version": "3.8.8"
  }
 },
 "nbformat": 4,
 "nbformat_minor": 4
}
